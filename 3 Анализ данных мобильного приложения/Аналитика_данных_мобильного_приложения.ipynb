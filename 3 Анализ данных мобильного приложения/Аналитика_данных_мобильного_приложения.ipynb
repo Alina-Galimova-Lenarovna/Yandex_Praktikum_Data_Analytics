{
 "cells": [
  {
   "cell_type": "markdown",
   "metadata": {},
   "source": [
    "# Аналитика данных мобильного приложения "
   ]
  },
  {
   "cell_type": "markdown",
   "metadata": {},
   "source": [
    "В данном проекте нам предстоит разобраться, как ведут себя пользователи мобильного приложения нашего стартапа, который занимается продажей продуктов питания.\n",
    "\n",
    "Перед нам стоят следующие задачи:\n",
    "\n",
    "1) Изучить воронку продаж: узнать как пользователи доходят до покупки, сколько пользователей доходит до покупки, а сколько — «застревает» на предыдущих шагах и на каких именно\n",
    "\n",
    "2) Изучить результаты A/A/B-эксперимента, в котором проверяется реакция пользователей на изменение шрифта в приложении"
   ]
  },
  {
   "cell_type": "markdown",
   "metadata": {},
   "source": [
    "## Шаг 1. Подготовка данных к анализу"
   ]
  },
  {
   "cell_type": "markdown",
   "metadata": {},
   "source": [
    "### 1.1. Импорт библиотек и загрузка данных"
   ]
  },
  {
   "cell_type": "markdown",
   "metadata": {},
   "source": [
    "Импортируем необходимые нам библиотеки"
   ]
  },
  {
   "cell_type": "code",
   "execution_count": 1,
   "metadata": {},
   "outputs": [],
   "source": [
    "import pandas as pd\n",
    "import seaborn as sns\n",
    "import plotly.express as px\n",
    "import matplotlib.pyplot as plt\n",
    "import numpy as np\n",
    "import re\n",
    "from plotly import graph_objects as go\n",
    "from scipy import stats as st\n",
    "import math as mth\n",
    "\n",
    "from pandas.plotting import register_matplotlib_converters\n",
    "register_matplotlib_converters()"
   ]
  },
  {
   "cell_type": "code",
   "execution_count": 2,
   "metadata": {},
   "outputs": [
    {
     "name": "stdout",
     "output_type": "stream",
     "text": [
      "Requirement already satisfied: seaborn==0.11.1 in c:\\users\\sergk\\anaconda3\\envs\\practicum\\lib\\site-packages (0.11.1)\n",
      "Requirement already satisfied: matplotlib>=2.2 in c:\\users\\sergk\\anaconda3\\envs\\practicum\\lib\\site-packages (from seaborn==0.11.1) (3.1.0)\n",
      "Requirement already satisfied: pandas>=0.23 in c:\\users\\sergk\\anaconda3\\envs\\practicum\\lib\\site-packages (from seaborn==0.11.1) (0.25.1)\n",
      "Requirement already satisfied: numpy>=1.15 in c:\\users\\sergk\\anaconda3\\envs\\practicum\\lib\\site-packages (from seaborn==0.11.1) (1.18.3)\n",
      "Requirement already satisfied: scipy>=1.0 in c:\\users\\sergk\\anaconda3\\envs\\practicum\\lib\\site-packages (from seaborn==0.11.1) (1.4.1)\n",
      "Requirement already satisfied: pyparsing!=2.0.4,!=2.1.2,!=2.1.6,>=2.0.1 in c:\\users\\sergk\\anaconda3\\envs\\practicum\\lib\\site-packages (from matplotlib>=2.2->seaborn==0.11.1) (2.4.7)\n",
      "Requirement already satisfied: python-dateutil>=2.1 in c:\\users\\sergk\\anaconda3\\envs\\practicum\\lib\\site-packages (from matplotlib>=2.2->seaborn==0.11.1) (2.8.1)\n",
      "Requirement already satisfied: kiwisolver>=1.0.1 in c:\\users\\sergk\\anaconda3\\envs\\practicum\\lib\\site-packages (from matplotlib>=2.2->seaborn==0.11.1) (1.3.1)\n",
      "Requirement already satisfied: cycler>=0.10 in c:\\users\\sergk\\anaconda3\\envs\\practicum\\lib\\site-packages (from matplotlib>=2.2->seaborn==0.11.1) (0.10.0)\n",
      "Requirement already satisfied: six in c:\\users\\sergk\\anaconda3\\envs\\practicum\\lib\\site-packages (from cycler>=0.10->matplotlib>=2.2->seaborn==0.11.1) (1.15.0)\n",
      "Requirement already satisfied: pytz>=2017.2 in c:\\users\\sergk\\anaconda3\\envs\\practicum\\lib\\site-packages (from pandas>=0.23->seaborn==0.11.1) (2020.5)\n"
     ]
    }
   ],
   "source": [
    "!pip install seaborn==0.11.1"
   ]
  },
  {
   "cell_type": "markdown",
   "metadata": {},
   "source": [
    "Считаем данные"
   ]
  },
  {
   "cell_type": "code",
   "execution_count": 3,
   "metadata": {},
   "outputs": [],
   "source": [
    "df = pd.read_csv('logs_exp.csv', sep='\\t')"
   ]
  },
  {
   "cell_type": "markdown",
   "metadata": {},
   "source": [
    "Выведем 5 первых строк датафрейма"
   ]
  },
  {
   "cell_type": "code",
   "execution_count": 4,
   "metadata": {},
   "outputs": [
    {
     "data": {
      "text/html": [
       "<div>\n",
       "<style scoped>\n",
       "    .dataframe tbody tr th:only-of-type {\n",
       "        vertical-align: middle;\n",
       "    }\n",
       "\n",
       "    .dataframe tbody tr th {\n",
       "        vertical-align: top;\n",
       "    }\n",
       "\n",
       "    .dataframe thead th {\n",
       "        text-align: right;\n",
       "    }\n",
       "</style>\n",
       "<table border=\"1\" class=\"dataframe\">\n",
       "  <thead>\n",
       "    <tr style=\"text-align: right;\">\n",
       "      <th></th>\n",
       "      <th>EventName</th>\n",
       "      <th>DeviceIDHash</th>\n",
       "      <th>EventTimestamp</th>\n",
       "      <th>ExpId</th>\n",
       "    </tr>\n",
       "  </thead>\n",
       "  <tbody>\n",
       "    <tr>\n",
       "      <td>0</td>\n",
       "      <td>MainScreenAppear</td>\n",
       "      <td>4575588528974610257</td>\n",
       "      <td>1564029816</td>\n",
       "      <td>246</td>\n",
       "    </tr>\n",
       "    <tr>\n",
       "      <td>1</td>\n",
       "      <td>MainScreenAppear</td>\n",
       "      <td>7416695313311560658</td>\n",
       "      <td>1564053102</td>\n",
       "      <td>246</td>\n",
       "    </tr>\n",
       "    <tr>\n",
       "      <td>2</td>\n",
       "      <td>PaymentScreenSuccessful</td>\n",
       "      <td>3518123091307005509</td>\n",
       "      <td>1564054127</td>\n",
       "      <td>248</td>\n",
       "    </tr>\n",
       "    <tr>\n",
       "      <td>3</td>\n",
       "      <td>CartScreenAppear</td>\n",
       "      <td>3518123091307005509</td>\n",
       "      <td>1564054127</td>\n",
       "      <td>248</td>\n",
       "    </tr>\n",
       "    <tr>\n",
       "      <td>4</td>\n",
       "      <td>PaymentScreenSuccessful</td>\n",
       "      <td>6217807653094995999</td>\n",
       "      <td>1564055322</td>\n",
       "      <td>248</td>\n",
       "    </tr>\n",
       "  </tbody>\n",
       "</table>\n",
       "</div>"
      ],
      "text/plain": [
       "                 EventName         DeviceIDHash  EventTimestamp  ExpId\n",
       "0         MainScreenAppear  4575588528974610257      1564029816    246\n",
       "1         MainScreenAppear  7416695313311560658      1564053102    246\n",
       "2  PaymentScreenSuccessful  3518123091307005509      1564054127    248\n",
       "3         CartScreenAppear  3518123091307005509      1564054127    248\n",
       "4  PaymentScreenSuccessful  6217807653094995999      1564055322    248"
      ]
     },
     "execution_count": 4,
     "metadata": {},
     "output_type": "execute_result"
    }
   ],
   "source": [
    "df.head()"
   ]
  },
  {
   "cell_type": "markdown",
   "metadata": {},
   "source": [
    "### 1.2. Внесение изменения в наименования"
   ]
  },
  {
   "cell_type": "markdown",
   "metadata": {},
   "source": [
    "Поменяем названия столбцов на более понятные."
   ]
  },
  {
   "cell_type": "code",
   "execution_count": 5,
   "metadata": {},
   "outputs": [],
   "source": [
    "df.columns = ['event_name', 'user_id', 'event_unixtime', 'experiment_id']"
   ]
  },
  {
   "cell_type": "markdown",
   "metadata": {},
   "source": [
    "Также заменим стиль обозначений названий событий на стиль snake case"
   ]
  },
  {
   "cell_type": "code",
   "execution_count": 6,
   "metadata": {},
   "outputs": [],
   "source": [
    "for i in df['event_name'].unique():\n",
    "    split_res = re.findall('[A-Z][^A-Z]*', i)\n",
    "    df = df.replace(i, '_'.join(split_res).lower())"
   ]
  },
  {
   "cell_type": "markdown",
   "metadata": {},
   "source": [
    "### 1.3. Добавление необходимых столбцов"
   ]
  },
  {
   "cell_type": "markdown",
   "metadata": {},
   "source": [
    "Добавим столбец с датой и временем, преобразовав данные в столбце event_datetime из unix-времени в формат даты и времени."
   ]
  },
  {
   "cell_type": "code",
   "execution_count": 7,
   "metadata": {},
   "outputs": [],
   "source": [
    "df['event_datetime'] = pd.to_datetime(df['event_unixtime'], unit='s', origin='unix') "
   ]
  },
  {
   "cell_type": "markdown",
   "metadata": {},
   "source": [
    "### 1.4. Проверка корректности типов данных и наличия пропусков"
   ]
  },
  {
   "cell_type": "markdown",
   "metadata": {},
   "source": [
    "Посмотрим на типы данных в каждом столбце."
   ]
  },
  {
   "cell_type": "code",
   "execution_count": 8,
   "metadata": {},
   "outputs": [
    {
     "data": {
      "text/plain": [
       "event_name                object\n",
       "user_id                    int64\n",
       "event_unixtime             int64\n",
       "experiment_id              int64\n",
       "event_datetime    datetime64[ns]\n",
       "dtype: object"
      ]
     },
     "execution_count": 8,
     "metadata": {},
     "output_type": "execute_result"
    }
   ],
   "source": [
    "df.dtypes"
   ]
  },
  {
   "cell_type": "markdown",
   "metadata": {},
   "source": [
    "Мы видим, что сейчас в нашем датафрейме содержатся следующие столбцы:\n",
    "\n",
    "* event_name — название события (obj);\n",
    "* user_id — уникальный идентификатор пользователя (int64);\n",
    "* event_unixtime - время события в формате unix time (int64)\n",
    "* experiment_id — номер эксперимента: 246 и 247 — контрольные группы, а 248 — экспериментальная (int64)\n",
    "* event_datetime — дата и время события (datetime64).\n",
    "\n",
    "Все типы данных указаны корректно."
   ]
  },
  {
   "cell_type": "markdown",
   "metadata": {},
   "source": [
    "Также выделим в отдельный столбец дату событий."
   ]
  },
  {
   "cell_type": "code",
   "execution_count": 9,
   "metadata": {},
   "outputs": [],
   "source": [
    "df['event_date'] = df['event_datetime'].dt.date"
   ]
  },
  {
   "cell_type": "code",
   "execution_count": 10,
   "metadata": {},
   "outputs": [
    {
     "data": {
      "text/html": [
       "<div>\n",
       "<style scoped>\n",
       "    .dataframe tbody tr th:only-of-type {\n",
       "        vertical-align: middle;\n",
       "    }\n",
       "\n",
       "    .dataframe tbody tr th {\n",
       "        vertical-align: top;\n",
       "    }\n",
       "\n",
       "    .dataframe thead th {\n",
       "        text-align: right;\n",
       "    }\n",
       "</style>\n",
       "<table border=\"1\" class=\"dataframe\">\n",
       "  <thead>\n",
       "    <tr style=\"text-align: right;\">\n",
       "      <th></th>\n",
       "      <th>event_name</th>\n",
       "      <th>user_id</th>\n",
       "      <th>event_unixtime</th>\n",
       "      <th>experiment_id</th>\n",
       "      <th>event_datetime</th>\n",
       "      <th>event_date</th>\n",
       "    </tr>\n",
       "  </thead>\n",
       "  <tbody>\n",
       "    <tr>\n",
       "      <td>0</td>\n",
       "      <td>main_screen_appear</td>\n",
       "      <td>4575588528974610257</td>\n",
       "      <td>1564029816</td>\n",
       "      <td>246</td>\n",
       "      <td>2019-07-25 04:43:36</td>\n",
       "      <td>2019-07-25</td>\n",
       "    </tr>\n",
       "    <tr>\n",
       "      <td>1</td>\n",
       "      <td>main_screen_appear</td>\n",
       "      <td>7416695313311560658</td>\n",
       "      <td>1564053102</td>\n",
       "      <td>246</td>\n",
       "      <td>2019-07-25 11:11:42</td>\n",
       "      <td>2019-07-25</td>\n",
       "    </tr>\n",
       "    <tr>\n",
       "      <td>2</td>\n",
       "      <td>payment_screen_successful</td>\n",
       "      <td>3518123091307005509</td>\n",
       "      <td>1564054127</td>\n",
       "      <td>248</td>\n",
       "      <td>2019-07-25 11:28:47</td>\n",
       "      <td>2019-07-25</td>\n",
       "    </tr>\n",
       "    <tr>\n",
       "      <td>3</td>\n",
       "      <td>cart_screen_appear</td>\n",
       "      <td>3518123091307005509</td>\n",
       "      <td>1564054127</td>\n",
       "      <td>248</td>\n",
       "      <td>2019-07-25 11:28:47</td>\n",
       "      <td>2019-07-25</td>\n",
       "    </tr>\n",
       "    <tr>\n",
       "      <td>4</td>\n",
       "      <td>payment_screen_successful</td>\n",
       "      <td>6217807653094995999</td>\n",
       "      <td>1564055322</td>\n",
       "      <td>248</td>\n",
       "      <td>2019-07-25 11:48:42</td>\n",
       "      <td>2019-07-25</td>\n",
       "    </tr>\n",
       "  </tbody>\n",
       "</table>\n",
       "</div>"
      ],
      "text/plain": [
       "                  event_name              user_id  event_unixtime  \\\n",
       "0         main_screen_appear  4575588528974610257      1564029816   \n",
       "1         main_screen_appear  7416695313311560658      1564053102   \n",
       "2  payment_screen_successful  3518123091307005509      1564054127   \n",
       "3         cart_screen_appear  3518123091307005509      1564054127   \n",
       "4  payment_screen_successful  6217807653094995999      1564055322   \n",
       "\n",
       "   experiment_id      event_datetime  event_date  \n",
       "0            246 2019-07-25 04:43:36  2019-07-25  \n",
       "1            246 2019-07-25 11:11:42  2019-07-25  \n",
       "2            248 2019-07-25 11:28:47  2019-07-25  \n",
       "3            248 2019-07-25 11:28:47  2019-07-25  \n",
       "4            248 2019-07-25 11:48:42  2019-07-25  "
      ]
     },
     "execution_count": 10,
     "metadata": {},
     "output_type": "execute_result"
    }
   ],
   "source": [
    "df.head()"
   ]
  },
  {
   "cell_type": "markdown",
   "metadata": {},
   "source": [
    "Проверим данные на наличие пропусков"
   ]
  },
  {
   "cell_type": "code",
   "execution_count": 11,
   "metadata": {},
   "outputs": [
    {
     "data": {
      "text/plain": [
       "event_name        0\n",
       "user_id           0\n",
       "event_unixtime    0\n",
       "experiment_id     0\n",
       "event_datetime    0\n",
       "event_date        0\n",
       "dtype: int64"
      ]
     },
     "execution_count": 11,
     "metadata": {},
     "output_type": "execute_result"
    }
   ],
   "source": [
    "df.isna().sum()"
   ]
  },
  {
   "cell_type": "markdown",
   "metadata": {},
   "source": [
    "Мы видим, что пропуски в нашем датафрейме отсутствуют."
   ]
  },
  {
   "cell_type": "markdown",
   "metadata": {},
   "source": [
    "### 1.5. Проверка на наличие дубликатов"
   ]
  },
  {
   "cell_type": "markdown",
   "metadata": {},
   "source": [
    "Проверим, есть ли у нас в данных дублирующиеся строки."
   ]
  },
  {
   "cell_type": "code",
   "execution_count": 12,
   "metadata": {},
   "outputs": [
    {
     "data": {
      "text/plain": [
       "413"
      ]
     },
     "execution_count": 12,
     "metadata": {},
     "output_type": "execute_result"
    }
   ],
   "source": [
    "df.duplicated().sum()"
   ]
  },
  {
   "cell_type": "markdown",
   "metadata": {},
   "source": [
    "Мы видим, что у нас есть 413 дубликатов, посмотрим, что это за строки."
   ]
  },
  {
   "cell_type": "code",
   "execution_count": 13,
   "metadata": {},
   "outputs": [
    {
     "data": {
      "text/html": [
       "<div>\n",
       "<style scoped>\n",
       "    .dataframe tbody tr th:only-of-type {\n",
       "        vertical-align: middle;\n",
       "    }\n",
       "\n",
       "    .dataframe tbody tr th {\n",
       "        vertical-align: top;\n",
       "    }\n",
       "\n",
       "    .dataframe thead th {\n",
       "        text-align: right;\n",
       "    }\n",
       "</style>\n",
       "<table border=\"1\" class=\"dataframe\">\n",
       "  <thead>\n",
       "    <tr style=\"text-align: right;\">\n",
       "      <th></th>\n",
       "      <th>event_name</th>\n",
       "      <th>user_id</th>\n",
       "      <th>event_unixtime</th>\n",
       "      <th>experiment_id</th>\n",
       "      <th>event_datetime</th>\n",
       "      <th>event_date</th>\n",
       "    </tr>\n",
       "  </thead>\n",
       "  <tbody>\n",
       "    <tr>\n",
       "      <td>452</td>\n",
       "      <td>main_screen_appear</td>\n",
       "      <td>5613408041324010552</td>\n",
       "      <td>1564474784</td>\n",
       "      <td>248</td>\n",
       "      <td>2019-07-30 08:19:44</td>\n",
       "      <td>2019-07-30</td>\n",
       "    </tr>\n",
       "    <tr>\n",
       "      <td>453</td>\n",
       "      <td>main_screen_appear</td>\n",
       "      <td>5613408041324010552</td>\n",
       "      <td>1564474784</td>\n",
       "      <td>248</td>\n",
       "      <td>2019-07-30 08:19:44</td>\n",
       "      <td>2019-07-30</td>\n",
       "    </tr>\n",
       "    <tr>\n",
       "      <td>2348</td>\n",
       "      <td>cart_screen_appear</td>\n",
       "      <td>1694940645335807244</td>\n",
       "      <td>1564609899</td>\n",
       "      <td>248</td>\n",
       "      <td>2019-07-31 21:51:39</td>\n",
       "      <td>2019-07-31</td>\n",
       "    </tr>\n",
       "    <tr>\n",
       "      <td>2350</td>\n",
       "      <td>cart_screen_appear</td>\n",
       "      <td>1694940645335807244</td>\n",
       "      <td>1564609899</td>\n",
       "      <td>248</td>\n",
       "      <td>2019-07-31 21:51:39</td>\n",
       "      <td>2019-07-31</td>\n",
       "    </tr>\n",
       "    <tr>\n",
       "      <td>3572</td>\n",
       "      <td>main_screen_appear</td>\n",
       "      <td>434103746454591587</td>\n",
       "      <td>1564628377</td>\n",
       "      <td>248</td>\n",
       "      <td>2019-08-01 02:59:37</td>\n",
       "      <td>2019-08-01</td>\n",
       "    </tr>\n",
       "    <tr>\n",
       "      <td>3573</td>\n",
       "      <td>main_screen_appear</td>\n",
       "      <td>434103746454591587</td>\n",
       "      <td>1564628377</td>\n",
       "      <td>248</td>\n",
       "      <td>2019-08-01 02:59:37</td>\n",
       "      <td>2019-08-01</td>\n",
       "    </tr>\n",
       "    <tr>\n",
       "      <td>4075</td>\n",
       "      <td>main_screen_appear</td>\n",
       "      <td>3761373764179762633</td>\n",
       "      <td>1564631266</td>\n",
       "      <td>247</td>\n",
       "      <td>2019-08-01 03:47:46</td>\n",
       "      <td>2019-08-01</td>\n",
       "    </tr>\n",
       "    <tr>\n",
       "      <td>4076</td>\n",
       "      <td>main_screen_appear</td>\n",
       "      <td>3761373764179762633</td>\n",
       "      <td>1564631266</td>\n",
       "      <td>247</td>\n",
       "      <td>2019-08-01 03:47:46</td>\n",
       "      <td>2019-08-01</td>\n",
       "    </tr>\n",
       "    <tr>\n",
       "      <td>4801</td>\n",
       "      <td>main_screen_appear</td>\n",
       "      <td>2835328739789306622</td>\n",
       "      <td>1564634641</td>\n",
       "      <td>248</td>\n",
       "      <td>2019-08-01 04:44:01</td>\n",
       "      <td>2019-08-01</td>\n",
       "    </tr>\n",
       "    <tr>\n",
       "      <td>4803</td>\n",
       "      <td>main_screen_appear</td>\n",
       "      <td>2835328739789306622</td>\n",
       "      <td>1564634641</td>\n",
       "      <td>248</td>\n",
       "      <td>2019-08-01 04:44:01</td>\n",
       "      <td>2019-08-01</td>\n",
       "    </tr>\n",
       "  </tbody>\n",
       "</table>\n",
       "</div>"
      ],
      "text/plain": [
       "              event_name              user_id  event_unixtime  experiment_id  \\\n",
       "452   main_screen_appear  5613408041324010552      1564474784            248   \n",
       "453   main_screen_appear  5613408041324010552      1564474784            248   \n",
       "2348  cart_screen_appear  1694940645335807244      1564609899            248   \n",
       "2350  cart_screen_appear  1694940645335807244      1564609899            248   \n",
       "3572  main_screen_appear   434103746454591587      1564628377            248   \n",
       "3573  main_screen_appear   434103746454591587      1564628377            248   \n",
       "4075  main_screen_appear  3761373764179762633      1564631266            247   \n",
       "4076  main_screen_appear  3761373764179762633      1564631266            247   \n",
       "4801  main_screen_appear  2835328739789306622      1564634641            248   \n",
       "4803  main_screen_appear  2835328739789306622      1564634641            248   \n",
       "\n",
       "          event_datetime  event_date  \n",
       "452  2019-07-30 08:19:44  2019-07-30  \n",
       "453  2019-07-30 08:19:44  2019-07-30  \n",
       "2348 2019-07-31 21:51:39  2019-07-31  \n",
       "2350 2019-07-31 21:51:39  2019-07-31  \n",
       "3572 2019-08-01 02:59:37  2019-08-01  \n",
       "3573 2019-08-01 02:59:37  2019-08-01  \n",
       "4075 2019-08-01 03:47:46  2019-08-01  \n",
       "4076 2019-08-01 03:47:46  2019-08-01  \n",
       "4801 2019-08-01 04:44:01  2019-08-01  \n",
       "4803 2019-08-01 04:44:01  2019-08-01  "
      ]
     },
     "execution_count": 13,
     "metadata": {},
     "output_type": "execute_result"
    }
   ],
   "source": [
    "duplicates = df[df.duplicated(subset=None, keep=False)]\n",
    "duplicates.head(10)"
   ]
  },
  {
   "cell_type": "markdown",
   "metadata": {},
   "source": [
    "Мы видим, что некоторые пользователи совершили одно и то же действие в одну и ту же секунду. Однако, возможно, такие пользователи действительно могли два раза зайти на главную страницу в одно и то же время, например, случайно закрыв приложение, а потом сразу же снова зайдя в него. Но кажется маловероятным, что оплата могла быть произведена одним и тем же пользователем в одну и ту же секунду. Проверим, есть ли среди дубликатов действия с успешной оплатой."
   ]
  },
  {
   "cell_type": "code",
   "execution_count": 14,
   "metadata": {},
   "outputs": [
    {
     "data": {
      "text/html": [
       "<div>\n",
       "<style scoped>\n",
       "    .dataframe tbody tr th:only-of-type {\n",
       "        vertical-align: middle;\n",
       "    }\n",
       "\n",
       "    .dataframe tbody tr th {\n",
       "        vertical-align: top;\n",
       "    }\n",
       "\n",
       "    .dataframe thead th {\n",
       "        text-align: right;\n",
       "    }\n",
       "</style>\n",
       "<table border=\"1\" class=\"dataframe\">\n",
       "  <thead>\n",
       "    <tr style=\"text-align: right;\">\n",
       "      <th></th>\n",
       "      <th>event_name</th>\n",
       "      <th>user_id</th>\n",
       "      <th>event_unixtime</th>\n",
       "      <th>experiment_id</th>\n",
       "      <th>event_datetime</th>\n",
       "      <th>event_date</th>\n",
       "    </tr>\n",
       "  </thead>\n",
       "  <tbody>\n",
       "    <tr>\n",
       "      <td>5874</td>\n",
       "      <td>payment_screen_successful</td>\n",
       "      <td>6427012997733591237</td>\n",
       "      <td>1564638452</td>\n",
       "      <td>248</td>\n",
       "      <td>2019-08-01 05:47:32</td>\n",
       "      <td>2019-08-01</td>\n",
       "    </tr>\n",
       "    <tr>\n",
       "      <td>5875</td>\n",
       "      <td>payment_screen_successful</td>\n",
       "      <td>6427012997733591237</td>\n",
       "      <td>1564638452</td>\n",
       "      <td>248</td>\n",
       "      <td>2019-08-01 05:47:32</td>\n",
       "      <td>2019-08-01</td>\n",
       "    </tr>\n",
       "    <tr>\n",
       "      <td>9988</td>\n",
       "      <td>payment_screen_successful</td>\n",
       "      <td>7035352794299231933</td>\n",
       "      <td>1564647627</td>\n",
       "      <td>248</td>\n",
       "      <td>2019-08-01 08:20:27</td>\n",
       "      <td>2019-08-01</td>\n",
       "    </tr>\n",
       "    <tr>\n",
       "      <td>9990</td>\n",
       "      <td>payment_screen_successful</td>\n",
       "      <td>7035352794299231933</td>\n",
       "      <td>1564647627</td>\n",
       "      <td>248</td>\n",
       "      <td>2019-08-01 08:20:27</td>\n",
       "      <td>2019-08-01</td>\n",
       "    </tr>\n",
       "    <tr>\n",
       "      <td>12452</td>\n",
       "      <td>payment_screen_successful</td>\n",
       "      <td>5152160705477623487</td>\n",
       "      <td>1564652139</td>\n",
       "      <td>247</td>\n",
       "      <td>2019-08-01 09:35:39</td>\n",
       "      <td>2019-08-01</td>\n",
       "    </tr>\n",
       "    <tr>\n",
       "      <td>12454</td>\n",
       "      <td>payment_screen_successful</td>\n",
       "      <td>5152160705477623487</td>\n",
       "      <td>1564652139</td>\n",
       "      <td>247</td>\n",
       "      <td>2019-08-01 09:35:39</td>\n",
       "      <td>2019-08-01</td>\n",
       "    </tr>\n",
       "    <tr>\n",
       "      <td>13054</td>\n",
       "      <td>payment_screen_successful</td>\n",
       "      <td>6258460144399027762</td>\n",
       "      <td>1564653224</td>\n",
       "      <td>247</td>\n",
       "      <td>2019-08-01 09:53:44</td>\n",
       "      <td>2019-08-01</td>\n",
       "    </tr>\n",
       "    <tr>\n",
       "      <td>13055</td>\n",
       "      <td>payment_screen_successful</td>\n",
       "      <td>6258460144399027762</td>\n",
       "      <td>1564653224</td>\n",
       "      <td>247</td>\n",
       "      <td>2019-08-01 09:53:44</td>\n",
       "      <td>2019-08-01</td>\n",
       "    </tr>\n",
       "    <tr>\n",
       "      <td>15302</td>\n",
       "      <td>payment_screen_successful</td>\n",
       "      <td>8125832085431322921</td>\n",
       "      <td>1564657270</td>\n",
       "      <td>246</td>\n",
       "      <td>2019-08-01 11:01:10</td>\n",
       "      <td>2019-08-01</td>\n",
       "    </tr>\n",
       "    <tr>\n",
       "      <td>15304</td>\n",
       "      <td>payment_screen_successful</td>\n",
       "      <td>8125832085431322921</td>\n",
       "      <td>1564657270</td>\n",
       "      <td>246</td>\n",
       "      <td>2019-08-01 11:01:10</td>\n",
       "      <td>2019-08-01</td>\n",
       "    </tr>\n",
       "  </tbody>\n",
       "</table>\n",
       "</div>"
      ],
      "text/plain": [
       "                      event_name              user_id  event_unixtime  \\\n",
       "5874   payment_screen_successful  6427012997733591237      1564638452   \n",
       "5875   payment_screen_successful  6427012997733591237      1564638452   \n",
       "9988   payment_screen_successful  7035352794299231933      1564647627   \n",
       "9990   payment_screen_successful  7035352794299231933      1564647627   \n",
       "12452  payment_screen_successful  5152160705477623487      1564652139   \n",
       "12454  payment_screen_successful  5152160705477623487      1564652139   \n",
       "13054  payment_screen_successful  6258460144399027762      1564653224   \n",
       "13055  payment_screen_successful  6258460144399027762      1564653224   \n",
       "15302  payment_screen_successful  8125832085431322921      1564657270   \n",
       "15304  payment_screen_successful  8125832085431322921      1564657270   \n",
       "\n",
       "       experiment_id      event_datetime  event_date  \n",
       "5874             248 2019-08-01 05:47:32  2019-08-01  \n",
       "5875             248 2019-08-01 05:47:32  2019-08-01  \n",
       "9988             248 2019-08-01 08:20:27  2019-08-01  \n",
       "9990             248 2019-08-01 08:20:27  2019-08-01  \n",
       "12452            247 2019-08-01 09:35:39  2019-08-01  \n",
       "12454            247 2019-08-01 09:35:39  2019-08-01  \n",
       "13054            247 2019-08-01 09:53:44  2019-08-01  \n",
       "13055            247 2019-08-01 09:53:44  2019-08-01  \n",
       "15302            246 2019-08-01 11:01:10  2019-08-01  \n",
       "15304            246 2019-08-01 11:01:10  2019-08-01  "
      ]
     },
     "execution_count": 14,
     "metadata": {},
     "output_type": "execute_result"
    }
   ],
   "source": [
    "duplicates[duplicates['event_name'] == \"payment_screen_successful\"].sort_values(by='event_unixtime').head(10)"
   ]
  },
  {
   "cell_type": "markdown",
   "metadata": {},
   "source": [
    "Да, действительно, в данных есть пользователи, для которых существует два события оплаты в одно и то же время. Вероятно, могла возникнуть ошибка при выгрузке данных, о чем нужно будет сообщить коллегам. Исключим дубликаты из дальнейшего анализа."
   ]
  },
  {
   "cell_type": "code",
   "execution_count": 15,
   "metadata": {},
   "outputs": [],
   "source": [
    "df = df.drop_duplicates().reset_index(drop = True)"
   ]
  },
  {
   "cell_type": "markdown",
   "metadata": {},
   "source": [
    "### Вывод"
   ]
  },
  {
   "cell_type": "markdown",
   "metadata": {},
   "source": [
    "На данном этапе мы:\n",
    "* импортировали необходимые для дальнейшего анализа библиотеки\n",
    "* загрузили датасет\n",
    "* переименовали столбцы и поменяли стиль записи в наименовании событий\n",
    "* добавили столбцы 1) с датой и временем событий 2) с датой событий\n",
    "* проверили, что в данных отсутствуют пропуски\n",
    "* обнаружили, что среди наблюдений есть полные дубликаты, и исключили их из дальнейшего анализа"
   ]
  },
  {
   "cell_type": "markdown",
   "metadata": {},
   "source": [
    "## Шаг 2. Изучение и проверка данных"
   ]
  },
  {
   "cell_type": "markdown",
   "metadata": {},
   "source": [
    "### 2.1. Количество событий"
   ]
  },
  {
   "cell_type": "markdown",
   "metadata": {},
   "source": [
    "Определим, сколько всего собыйтий (наблюдений) в логе."
   ]
  },
  {
   "cell_type": "code",
   "execution_count": 16,
   "metadata": {},
   "outputs": [
    {
     "name": "stdout",
     "output_type": "stream",
     "text": [
      "Количество событий в логе: 243,713\n"
     ]
    }
   ],
   "source": [
    "print('Количество событий в логе: {:,}'.format(len(df)))"
   ]
  },
  {
   "cell_type": "markdown",
   "metadata": {},
   "source": [
    "### 2.2. Количество пользователей"
   ]
  },
  {
   "cell_type": "markdown",
   "metadata": {},
   "source": [
    "Посмотрим, сколько всего пользователей в логе."
   ]
  },
  {
   "cell_type": "code",
   "execution_count": 17,
   "metadata": {},
   "outputs": [
    {
     "name": "stdout",
     "output_type": "stream",
     "text": [
      "Всего пользователей в логе 7,551\n"
     ]
    }
   ],
   "source": [
    "print('Всего пользователей в логе {:,}'.format(df['user_id'].nunique()))"
   ]
  },
  {
   "cell_type": "markdown",
   "metadata": {},
   "source": [
    "### 2.3. Среднее количество событий на пользователя"
   ]
  },
  {
   "cell_type": "markdown",
   "metadata": {},
   "source": [
    "Посчитаем сколько в среднем приходится событий на пользователя."
   ]
  },
  {
   "cell_type": "code",
   "execution_count": 18,
   "metadata": {},
   "outputs": [],
   "source": [
    "df_by_users = df.groupby('user_id', as_index=False).agg({'event_name': 'count'})"
   ]
  },
  {
   "cell_type": "code",
   "execution_count": 19,
   "metadata": {},
   "outputs": [],
   "source": [
    "events_number_mean = df_by_users['event_name'].mean()\n",
    "events_number_median = df_by_users['event_name'].median()"
   ]
  },
  {
   "cell_type": "code",
   "execution_count": 20,
   "metadata": {},
   "outputs": [
    {
     "name": "stdout",
     "output_type": "stream",
     "text": [
      "Среднее количество событий на пользователя 32.28\n",
      "Медианное количество событий на пользователя 20.00\n",
      "Разница между средним и медианой 61.38%\n"
     ]
    }
   ],
   "source": [
    "print('Среднее количество событий на пользователя {:.2f}'.format(events_number_mean))\n",
    "print('Медианное количество событий на пользователя {:.2f}'.format(events_number_median))\n",
    "print('Разница между средним и медианой {:.2%}'.format(events_number_mean / events_number_median - 1))"
   ]
  },
  {
   "cell_type": "markdown",
   "metadata": {},
   "source": [
    "Мы видим, что среднее значение количества событий значительно выше медианного количества, то есть в данных есть некоторые пользователи с очень большим количеством событий. Посмотрим на распределение значений числа событий на пользователя."
   ]
  },
  {
   "cell_type": "code",
   "execution_count": 21,
   "metadata": {},
   "outputs": [
    {
     "data": {
      "image/png": "[encoded data removed]",
      "text/plain": [
       "<Figure size 1224x504 with 1 Axes>"
      ]
     },
     "metadata": {
      "needs_background": "light"
     },
     "output_type": "display_data"
    }
   ],
   "source": [
    "plt.figure(figsize=(17, 7))\n",
    "\n",
    "ax = sns.histplot(x='event_name', data=df_by_users)\n",
    "\n",
    "ax.set_title('Распределение количества событий, которое приходится на каждого пользователя')\n",
    "ax.set_xlabel('Количество событий на пользователя')\n",
    "ax.set_ylabel('Количество наблюдений')\n",
    "\n",
    "plt.xticks(\n",
    "    np.arange(\n",
    "        0, \n",
    "        df_by_users['event_name'].max(),\n",
    "        100)\n",
    ")\n",
    "\n",
    "\n",
    "plt.show()"
   ]
  },
  {
   "cell_type": "markdown",
   "metadata": {},
   "source": [
    "Мы видим, что данные сгруппированы очень плотно - большая часть наблюдений находится в диапазоне от 0 до 50 событий на пользователя, наблюдается правосторонняя ассиметрия - в данных есть пользователи, на которых приходится аномально большое количество событий. Из-за этого среднее значение количества событий на пользователя значительно больше медианного значения."
   ]
  },
  {
   "cell_type": "markdown",
   "metadata": {},
   "source": [
    "### 2.4. Определение временного периода для анализа"
   ]
  },
  {
   "cell_type": "markdown",
   "metadata": {},
   "source": [
    "Определим, данными за какой период мы располагаем: найдем минимальную и максимальную дату."
   ]
  },
  {
   "cell_type": "code",
   "execution_count": 22,
   "metadata": {},
   "outputs": [
    {
     "name": "stdout",
     "output_type": "stream",
     "text": [
      "Самая ранняя дата: 2019-07-25\n",
      "Самая поздняя дата: 2019-08-07\n"
     ]
    }
   ],
   "source": [
    "print('Самая ранняя дата: {}'.format(df['event_date'].min()))\n",
    "print('Самая поздняя дата: {}'.format(df['event_date'].max()))"
   ]
  },
  {
   "cell_type": "markdown",
   "metadata": {},
   "source": [
    "В наших данных содержатся события за две недели с 25 июля по 7 августа 2019 г."
   ]
  },
  {
   "cell_type": "markdown",
   "metadata": {},
   "source": [
    "Построим гистограмму по дате и времени."
   ]
  },
  {
   "cell_type": "code",
   "execution_count": 23,
   "metadata": {},
   "outputs": [
    {
     "data": {
      "image/png": "[encoded data removed]",
      "text/plain": [
       "<Figure size 1224x504 with 1 Axes>"
      ]
     },
     "metadata": {
      "needs_background": "light"
     },
     "output_type": "display_data"
    }
   ],
   "source": [
    "plt.figure(figsize=(17, 7))\n",
    "\n",
    "ax = sns.histplot(x=\"event_datetime\", data=df, bins=200)\n",
    "\n",
    "ax.set_title('Гистограмма по дате и времени')\n",
    "ax.set_xlabel('Дата')\n",
    "ax.set_ylabel('Частота')\n",
    "\n",
    "plt.xticks(\n",
    "    np.arange(\n",
    "        df['event_datetime'].min(), \n",
    "        df['event_datetime'].max(),\n",
    "        np.timedelta64(1, 'D'))\n",
    ")\n",
    "\n",
    "\n",
    "plt.show()"
   ]
  },
  {
   "cell_type": "markdown",
   "metadata": {},
   "source": [
    "На графике мы видим, что у нас очень мало данных до 1 августа 2019 г., поэтому мы не можем утверждать, что у нас имеются полные данные за весь период. Возможно, данные загружались с некоторым временным лагом, поэтому мы видим большое количество наблюдений только начиная с 1 августа. Определим в качестве периода для анализа промежуток с 1 по 7 августа 2019 г. , так как количество наблюдений в этот период примерно одинаково в каждый день и значительно больше числа наблюдений в период до 1 августа. "
   ]
  },
  {
   "cell_type": "code",
   "execution_count": 24,
   "metadata": {},
   "outputs": [],
   "source": [
    "df_august = df.query('event_datetime >= \"2019-08-01 00:00:00\"')"
   ]
  },
  {
   "cell_type": "markdown",
   "metadata": {},
   "source": [
    "Проверим, сколько наблюдений и пользователей мы исключили, ограничив рассматриваемый временной промежуток."
   ]
  },
  {
   "cell_type": "code",
   "execution_count": 25,
   "metadata": {},
   "outputs": [],
   "source": [
    "events_total = len(df)\n",
    "events_august = len(df_august)\n",
    "user_total = len(df['user_id'].unique())\n",
    "user_august = len(df_august['user_id'].unique())"
   ]
  },
  {
   "cell_type": "code",
   "execution_count": 64,
   "metadata": {},
   "outputs": [
    {
     "name": "stdout",
     "output_type": "stream",
     "text": [
      "Количество наблюдений уменьшилось на 2826 - в процентном выражении на 1.16%\n",
      "Количество пользователей уменьшилось на 17 - в процентном выражении на 0.23%\n"
     ]
    }
   ],
   "source": [
    "print('Количество наблюдений уменьшилось на', \n",
    "      (events_total - events_august), \n",
    "      '- в процентном выражении на {:.2%}'.format(-(events_august / events_total - 1)))\n",
    "\n",
    "print('Количество пользователей уменьшилось на', \n",
    "      (user_total - user_august), \n",
    "      '- в процентном выражении на {:.2%}'.format(-(user_august / user_total - 1)))"
   ]
  },
  {
   "cell_type": "markdown",
   "metadata": {},
   "source": [
    "Проверим также, что ограничение рассматриваемого временного периода не привело к исключению какой-либо из экспериментальных групп и исключение данных было примерно одинаковым во всех группах."
   ]
  },
  {
   "cell_type": "markdown",
   "metadata": {},
   "source": [
    "Сгруппируем общие данные и данные только с 1 по 7 августа по группам эксперимента и посчитаем количество пользователей в каждой группе"
   ]
  },
  {
   "cell_type": "code",
   "execution_count": 27,
   "metadata": {},
   "outputs": [],
   "source": [
    "df_experiments_total = df.groupby('experiment_id', as_index=False).agg({'user_id': 'nunique'})\n",
    "df_experiments_total.columns = ['experiment_id', 'n_users_total']"
   ]
  },
  {
   "cell_type": "code",
   "execution_count": 28,
   "metadata": {},
   "outputs": [],
   "source": [
    "df_experiments_august = df_august.groupby('experiment_id', as_index=False).agg({'user_id': 'nunique'})\n",
    "df_experiments_august.columns = ['experiment_id', 'n_users_august']"
   ]
  },
  {
   "cell_type": "code",
   "execution_count": 29,
   "metadata": {},
   "outputs": [],
   "source": [
    "df_experiments = df_experiments_total.merge(df_experiments_august, on='experiment_id')"
   ]
  },
  {
   "cell_type": "code",
   "execution_count": 30,
   "metadata": {},
   "outputs": [],
   "source": [
    "df_experiments['change %'] = (df_experiments['n_users_total'] / df_experiments['n_users_august'] - 1) * 100"
   ]
  },
  {
   "cell_type": "code",
   "execution_count": 31,
   "metadata": {},
   "outputs": [
    {
     "data": {
      "text/html": [
       "<div>\n",
       "<style scoped>\n",
       "    .dataframe tbody tr th:only-of-type {\n",
       "        vertical-align: middle;\n",
       "    }\n",
       "\n",
       "    .dataframe tbody tr th {\n",
       "        vertical-align: top;\n",
       "    }\n",
       "\n",
       "    .dataframe thead th {\n",
       "        text-align: right;\n",
       "    }\n",
       "</style>\n",
       "<table border=\"1\" class=\"dataframe\">\n",
       "  <thead>\n",
       "    <tr style=\"text-align: right;\">\n",
       "      <th></th>\n",
       "      <th>experiment_id</th>\n",
       "      <th>n_users_total</th>\n",
       "      <th>n_users_august</th>\n",
       "      <th>change %</th>\n",
       "    </tr>\n",
       "  </thead>\n",
       "  <tbody>\n",
       "    <tr>\n",
       "      <td>0</td>\n",
       "      <td>246</td>\n",
       "      <td>2489</td>\n",
       "      <td>2484</td>\n",
       "      <td>0.201288</td>\n",
       "    </tr>\n",
       "    <tr>\n",
       "      <td>1</td>\n",
       "      <td>247</td>\n",
       "      <td>2520</td>\n",
       "      <td>2513</td>\n",
       "      <td>0.278552</td>\n",
       "    </tr>\n",
       "    <tr>\n",
       "      <td>2</td>\n",
       "      <td>248</td>\n",
       "      <td>2542</td>\n",
       "      <td>2537</td>\n",
       "      <td>0.197083</td>\n",
       "    </tr>\n",
       "  </tbody>\n",
       "</table>\n",
       "</div>"
      ],
      "text/plain": [
       "   experiment_id  n_users_total  n_users_august  change %\n",
       "0            246           2489            2484  0.201288\n",
       "1            247           2520            2513  0.278552\n",
       "2            248           2542            2537  0.197083"
      ]
     },
     "execution_count": 31,
     "metadata": {},
     "output_type": "execute_result"
    }
   ],
   "source": [
    "df_experiments"
   ]
  },
  {
   "cell_type": "markdown",
   "metadata": {},
   "source": [
    "Количество событий и пользователей, которых мы исключили, довольно мало - чуть больше 1% для количества событий и 0.2% для количества пользователей.\n",
    "\n",
    "Также мы удостоверились в том, что ни одна из экспериментальных групп не была исключена из рассмотрения, а количество пользователей в каждой группе изменилось примерно одинаково - во всех группах оно сократилось не более, чем на 0.3%.\n",
    "\n",
    "Исходя из этого мы можем сказать, что ограничение временного периода для анализа не должно привести к искаженным результатам. "
   ]
  },
  {
   "cell_type": "markdown",
   "metadata": {},
   "source": [
    "### Вывод"
   ]
  },
  {
   "cell_type": "markdown",
   "metadata": {},
   "source": [
    "Таким образом, на данном этапе мы:\n",
    "* Изучили среднее и медианное число событий на пользователя. Мы выяснили, что в данных есть отдельные пользователи, которые совершили значительно больше событий, чем основная часть пользователей, поэтому среднее значение событий на пользователя на 62% больше медианного. Среднее значение событий, которые совершает пользователь - 32, а медианное значение событий на пользователя - 20.\n",
    "* Определили временной период для дальнейшего анализа данных - с 1 по 7 августа 2019 г. Данные за последнюю неделю июля мы исключили, так как мы не можем утверждать что данные одинаково полны на протяжении всего временного промежутка - количество наблюдений в июле значительно меньше, чем в августе. Мы также проверили что сужение рассматриваемого периода привело к исключению лишь небольшой части данных - 1% событий и 0.2% пользователей, и ни одна из экспериментальных групп не была исключена."
   ]
  },
  {
   "cell_type": "markdown",
   "metadata": {},
   "source": [
    "## Шаг 3. Изучение воронки событий"
   ]
  },
  {
   "cell_type": "markdown",
   "metadata": {},
   "source": [
    "### 3.1. Анализ событий в логах"
   ]
  },
  {
   "cell_type": "markdown",
   "metadata": {},
   "source": [
    "Посмотрим, какие уникальные события содержатся в логах."
   ]
  },
  {
   "cell_type": "code",
   "execution_count": 32,
   "metadata": {},
   "outputs": [
    {
     "data": {
      "text/plain": [
       "array(['tutorial', 'main_screen_appear', 'offers_screen_appear',\n",
       "       'cart_screen_appear', 'payment_screen_successful'], dtype=object)"
      ]
     },
     "execution_count": 32,
     "metadata": {},
     "output_type": "execute_result"
    }
   ],
   "source": [
    "df_august['event_name'].unique()"
   ]
  },
  {
   "cell_type": "markdown",
   "metadata": {},
   "source": [
    "В данных содержатся следующие виды событий:\n",
    "* main_screen_appear - показ главной страницы\n",
    "* offers_screen_appear - показ страницы с товарами\n",
    "* cart_screen_appear - показ корзины\n",
    "* tutorial - показ страницы с часто задаваемыми вопросами\n",
    "* payment_screen_successful - показ страницы с успешной оплатой"
   ]
  },
  {
   "cell_type": "markdown",
   "metadata": {},
   "source": [
    "Изучим, как часто встречается каждое из событий."
   ]
  },
  {
   "cell_type": "code",
   "execution_count": 33,
   "metadata": {},
   "outputs": [
    {
     "data": {
      "text/html": [
       "<div>\n",
       "<style scoped>\n",
       "    .dataframe tbody tr th:only-of-type {\n",
       "        vertical-align: middle;\n",
       "    }\n",
       "\n",
       "    .dataframe tbody tr th {\n",
       "        vertical-align: top;\n",
       "    }\n",
       "\n",
       "    .dataframe thead th {\n",
       "        text-align: right;\n",
       "    }\n",
       "</style>\n",
       "<table border=\"1\" class=\"dataframe\">\n",
       "  <thead>\n",
       "    <tr style=\"text-align: right;\">\n",
       "      <th></th>\n",
       "      <th>event_name</th>\n",
       "      <th>number_of_events</th>\n",
       "    </tr>\n",
       "  </thead>\n",
       "  <tbody>\n",
       "    <tr>\n",
       "      <td>1</td>\n",
       "      <td>main_screen_appear</td>\n",
       "      <td>117328</td>\n",
       "    </tr>\n",
       "    <tr>\n",
       "      <td>2</td>\n",
       "      <td>offers_screen_appear</td>\n",
       "      <td>46333</td>\n",
       "    </tr>\n",
       "    <tr>\n",
       "      <td>0</td>\n",
       "      <td>cart_screen_appear</td>\n",
       "      <td>42303</td>\n",
       "    </tr>\n",
       "    <tr>\n",
       "      <td>3</td>\n",
       "      <td>payment_screen_successful</td>\n",
       "      <td>33918</td>\n",
       "    </tr>\n",
       "    <tr>\n",
       "      <td>4</td>\n",
       "      <td>tutorial</td>\n",
       "      <td>1005</td>\n",
       "    </tr>\n",
       "  </tbody>\n",
       "</table>\n",
       "</div>"
      ],
      "text/plain": [
       "                  event_name  number_of_events\n",
       "1         main_screen_appear            117328\n",
       "2       offers_screen_appear             46333\n",
       "0         cart_screen_appear             42303\n",
       "3  payment_screen_successful             33918\n",
       "4                   tutorial              1005"
      ]
     },
     "execution_count": 33,
     "metadata": {},
     "output_type": "execute_result"
    }
   ],
   "source": [
    "events = df_august.groupby('event_name', as_index=False).agg({'event_datetime': 'count'})\n",
    "events.columns = ['event_name', 'number_of_events']\n",
    "\n",
    "events.sort_values(by='number_of_events', ascending=False)"
   ]
  },
  {
   "cell_type": "markdown",
   "metadata": {},
   "source": [
    "Наиболее частое событие - показ главного экрана, затем следуют показ страниц с товарами, корзины, успешной оплатой и наименее часто встречаемое событие - показ страницы с F.A.Q."
   ]
  },
  {
   "cell_type": "markdown",
   "metadata": {},
   "source": [
    "Посчитаем, сколько пользователей совершили каждое из событий. "
   ]
  },
  {
   "cell_type": "code",
   "execution_count": 34,
   "metadata": {},
   "outputs": [
    {
     "data": {
      "text/html": [
       "<div>\n",
       "<style scoped>\n",
       "    .dataframe tbody tr th:only-of-type {\n",
       "        vertical-align: middle;\n",
       "    }\n",
       "\n",
       "    .dataframe tbody tr th {\n",
       "        vertical-align: top;\n",
       "    }\n",
       "\n",
       "    .dataframe thead th {\n",
       "        text-align: right;\n",
       "    }\n",
       "</style>\n",
       "<table border=\"1\" class=\"dataframe\">\n",
       "  <thead>\n",
       "    <tr style=\"text-align: right;\">\n",
       "      <th></th>\n",
       "      <th>event_name</th>\n",
       "      <th>number_of_users</th>\n",
       "    </tr>\n",
       "  </thead>\n",
       "  <tbody>\n",
       "    <tr>\n",
       "      <td>1</td>\n",
       "      <td>main_screen_appear</td>\n",
       "      <td>7419</td>\n",
       "    </tr>\n",
       "    <tr>\n",
       "      <td>2</td>\n",
       "      <td>offers_screen_appear</td>\n",
       "      <td>4593</td>\n",
       "    </tr>\n",
       "    <tr>\n",
       "      <td>0</td>\n",
       "      <td>cart_screen_appear</td>\n",
       "      <td>3734</td>\n",
       "    </tr>\n",
       "    <tr>\n",
       "      <td>3</td>\n",
       "      <td>payment_screen_successful</td>\n",
       "      <td>3539</td>\n",
       "    </tr>\n",
       "    <tr>\n",
       "      <td>4</td>\n",
       "      <td>tutorial</td>\n",
       "      <td>840</td>\n",
       "    </tr>\n",
       "  </tbody>\n",
       "</table>\n",
       "</div>"
      ],
      "text/plain": [
       "                  event_name  number_of_users\n",
       "1         main_screen_appear             7419\n",
       "2       offers_screen_appear             4593\n",
       "0         cart_screen_appear             3734\n",
       "3  payment_screen_successful             3539\n",
       "4                   tutorial              840"
      ]
     },
     "execution_count": 34,
     "metadata": {},
     "output_type": "execute_result"
    }
   ],
   "source": [
    "events_by_users = df_august.groupby('event_name', as_index=False).agg({'user_id': 'nunique'})\n",
    "events_by_users.columns = ['event_name', 'number_of_users']\n",
    "\n",
    "events_by_users = events_by_users.sort_values(by='number_of_users', ascending=False)\n",
    "events_by_users"
   ]
  },
  {
   "cell_type": "markdown",
   "metadata": {},
   "source": [
    "Порядок событий, отсортированный по количеству пользователей, такой же - показ главной страницы, показ страницы с товарами, показ страницы с корзиной, показ страницы с успешной оплатой, показ страницы с F.A.Q."
   ]
  },
  {
   "cell_type": "markdown",
   "metadata": {},
   "source": [
    "Посчитаем долю пользователей, которые хоть раз совершали определенное событие. Для этого поделим количество уникальных пользователей на каждом этапе на общее количество пользователей за наблюдаемый период."
   ]
  },
  {
   "cell_type": "code",
   "execution_count": 35,
   "metadata": {},
   "outputs": [],
   "source": [
    "events_by_users['total_number_of_users'] = df_august['user_id'].nunique()\n",
    "events_by_users['total_conv%'] = events_by_users['number_of_users'] / events_by_users['total_number_of_users'] * 100"
   ]
  },
  {
   "cell_type": "code",
   "execution_count": 36,
   "metadata": {},
   "outputs": [
    {
     "data": {
      "text/html": [
       "<div>\n",
       "<style scoped>\n",
       "    .dataframe tbody tr th:only-of-type {\n",
       "        vertical-align: middle;\n",
       "    }\n",
       "\n",
       "    .dataframe tbody tr th {\n",
       "        vertical-align: top;\n",
       "    }\n",
       "\n",
       "    .dataframe thead th {\n",
       "        text-align: right;\n",
       "    }\n",
       "</style>\n",
       "<table border=\"1\" class=\"dataframe\">\n",
       "  <thead>\n",
       "    <tr style=\"text-align: right;\">\n",
       "      <th></th>\n",
       "      <th>event_name</th>\n",
       "      <th>number_of_users</th>\n",
       "      <th>total_number_of_users</th>\n",
       "      <th>total_conv%</th>\n",
       "    </tr>\n",
       "  </thead>\n",
       "  <tbody>\n",
       "    <tr>\n",
       "      <td>1</td>\n",
       "      <td>main_screen_appear</td>\n",
       "      <td>7419</td>\n",
       "      <td>7534</td>\n",
       "      <td>98.473586</td>\n",
       "    </tr>\n",
       "    <tr>\n",
       "      <td>2</td>\n",
       "      <td>offers_screen_appear</td>\n",
       "      <td>4593</td>\n",
       "      <td>7534</td>\n",
       "      <td>60.963632</td>\n",
       "    </tr>\n",
       "    <tr>\n",
       "      <td>0</td>\n",
       "      <td>cart_screen_appear</td>\n",
       "      <td>3734</td>\n",
       "      <td>7534</td>\n",
       "      <td>49.561986</td>\n",
       "    </tr>\n",
       "    <tr>\n",
       "      <td>3</td>\n",
       "      <td>payment_screen_successful</td>\n",
       "      <td>3539</td>\n",
       "      <td>7534</td>\n",
       "      <td>46.973719</td>\n",
       "    </tr>\n",
       "    <tr>\n",
       "      <td>4</td>\n",
       "      <td>tutorial</td>\n",
       "      <td>840</td>\n",
       "      <td>7534</td>\n",
       "      <td>11.149456</td>\n",
       "    </tr>\n",
       "  </tbody>\n",
       "</table>\n",
       "</div>"
      ],
      "text/plain": [
       "                  event_name  number_of_users  total_number_of_users  \\\n",
       "1         main_screen_appear             7419                   7534   \n",
       "2       offers_screen_appear             4593                   7534   \n",
       "0         cart_screen_appear             3734                   7534   \n",
       "3  payment_screen_successful             3539                   7534   \n",
       "4                   tutorial              840                   7534   \n",
       "\n",
       "   total_conv%  \n",
       "1    98.473586  \n",
       "2    60.963632  \n",
       "0    49.561986  \n",
       "3    46.973719  \n",
       "4    11.149456  "
      ]
     },
     "execution_count": 36,
     "metadata": {},
     "output_type": "execute_result"
    }
   ],
   "source": [
    "events_by_users"
   ]
  },
  {
   "cell_type": "markdown",
   "metadata": {},
   "source": [
    "Мы видим, что 98.5% пользователей совершали переход на главный экран, значительно меньше пользователей - 61% - переходили на страницу с товарами, 50% - переходили в корзину, 47% - оплачивали товары и только 11% переходили на страницу с вопросами."
   ]
  },
  {
   "cell_type": "markdown",
   "metadata": {},
   "source": [
    "### 3.2. Воронка событий"
   ]
  },
  {
   "cell_type": "markdown",
   "metadata": {},
   "source": [
    "Определим возможный порядок событий. Ориентируясь на общую логику совершения покупок в приложениях и на данные по количеству пользователей на каждом этапе, можем предположить следующую цепочку событий:\n",
    "* переход на главную страницу\n",
    "* переход на страницу с товарами\n",
    "* переход в корзину\n",
    "* успешная оплата\n",
    "\n",
    "При этом среди событий также есть переход на страницу с F.A.Q., однако мы можем предположить, что он не является обязательным звеном в цепочке событий, потому что в ином случае гораздо больше пользователей совершали бы данное событие, чтобы достичь этапа успешной оплаты. "
   ]
  },
  {
   "cell_type": "markdown",
   "metadata": {},
   "source": [
    "Посчитаем, какая доля пользователей проходит на каждый следующий шаг воронки. Так как мы решили, что переход на страницу с вопросами не является обязательным звеном воронки, исключим его из анализа воронки."
   ]
  },
  {
   "cell_type": "code",
   "execution_count": 37,
   "metadata": {},
   "outputs": [],
   "source": [
    "events_by_users = events_by_users[events_by_users['event_name'] != \"tutorial\"]"
   ]
  },
  {
   "cell_type": "markdown",
   "metadata": {},
   "source": [
    "Создадим столбец 'previous_step', куда запишем данные по количеству пользователей на предыдущем шаге."
   ]
  },
  {
   "cell_type": "code",
   "execution_count": 38,
   "metadata": {},
   "outputs": [],
   "source": [
    "events_by_users = events_by_users.copy()"
   ]
  },
  {
   "cell_type": "code",
   "execution_count": 39,
   "metadata": {},
   "outputs": [],
   "source": [
    "events_by_users['previous_step'] = events_by_users['number_of_users'].shift(1)"
   ]
  },
  {
   "cell_type": "code",
   "execution_count": 40,
   "metadata": {},
   "outputs": [],
   "source": [
    "events_by_users['previous_step'] = events_by_users['previous_step'].fillna(events_by_users.loc[1, 'number_of_users'])"
   ]
  },
  {
   "cell_type": "markdown",
   "metadata": {},
   "source": [
    "Разделим количество пользователей на текущем этапе воронки на количество пользователей на предыдущем. Так как для первого этапа - просмотра главной страницы - предыдущего события не существует, укажем 100% в качестве конверсии с предыдущего этапа."
   ]
  },
  {
   "cell_type": "code",
   "execution_count": 41,
   "metadata": {},
   "outputs": [],
   "source": [
    "events_by_users['previous_step_conv%'] = events_by_users['number_of_users'] / events_by_users['previous_step'] * 100"
   ]
  },
  {
   "cell_type": "code",
   "execution_count": 42,
   "metadata": {},
   "outputs": [
    {
     "data": {
      "text/html": [
       "<div>\n",
       "<style scoped>\n",
       "    .dataframe tbody tr th:only-of-type {\n",
       "        vertical-align: middle;\n",
       "    }\n",
       "\n",
       "    .dataframe tbody tr th {\n",
       "        vertical-align: top;\n",
       "    }\n",
       "\n",
       "    .dataframe thead th {\n",
       "        text-align: right;\n",
       "    }\n",
       "</style>\n",
       "<table border=\"1\" class=\"dataframe\">\n",
       "  <thead>\n",
       "    <tr style=\"text-align: right;\">\n",
       "      <th></th>\n",
       "      <th>event_name</th>\n",
       "      <th>number_of_users</th>\n",
       "      <th>total_number_of_users</th>\n",
       "      <th>total_conv%</th>\n",
       "      <th>previous_step</th>\n",
       "      <th>previous_step_conv%</th>\n",
       "    </tr>\n",
       "  </thead>\n",
       "  <tbody>\n",
       "    <tr>\n",
       "      <td>1</td>\n",
       "      <td>main_screen_appear</td>\n",
       "      <td>7419</td>\n",
       "      <td>7534</td>\n",
       "      <td>98.473586</td>\n",
       "      <td>7419.0</td>\n",
       "      <td>100.000000</td>\n",
       "    </tr>\n",
       "    <tr>\n",
       "      <td>2</td>\n",
       "      <td>offers_screen_appear</td>\n",
       "      <td>4593</td>\n",
       "      <td>7534</td>\n",
       "      <td>60.963632</td>\n",
       "      <td>7419.0</td>\n",
       "      <td>61.908613</td>\n",
       "    </tr>\n",
       "    <tr>\n",
       "      <td>0</td>\n",
       "      <td>cart_screen_appear</td>\n",
       "      <td>3734</td>\n",
       "      <td>7534</td>\n",
       "      <td>49.561986</td>\n",
       "      <td>4593.0</td>\n",
       "      <td>81.297627</td>\n",
       "    </tr>\n",
       "    <tr>\n",
       "      <td>3</td>\n",
       "      <td>payment_screen_successful</td>\n",
       "      <td>3539</td>\n",
       "      <td>7534</td>\n",
       "      <td>46.973719</td>\n",
       "      <td>3734.0</td>\n",
       "      <td>94.777718</td>\n",
       "    </tr>\n",
       "  </tbody>\n",
       "</table>\n",
       "</div>"
      ],
      "text/plain": [
       "                  event_name  number_of_users  total_number_of_users  \\\n",
       "1         main_screen_appear             7419                   7534   \n",
       "2       offers_screen_appear             4593                   7534   \n",
       "0         cart_screen_appear             3734                   7534   \n",
       "3  payment_screen_successful             3539                   7534   \n",
       "\n",
       "   total_conv%  previous_step  previous_step_conv%  \n",
       "1    98.473586         7419.0           100.000000  \n",
       "2    60.963632         7419.0            61.908613  \n",
       "0    49.561986         4593.0            81.297627  \n",
       "3    46.973719         3734.0            94.777718  "
      ]
     },
     "execution_count": 42,
     "metadata": {},
     "output_type": "execute_result"
    }
   ],
   "source": [
    "events_by_users"
   ]
  },
  {
   "cell_type": "markdown",
   "metadata": {},
   "source": [
    "Визуализируем полученный результат."
   ]
  },
  {
   "cell_type": "code",
   "execution_count": 67,
   "metadata": {},
   "outputs": [
    {
     "data": {
      "application/vnd.plotly.v1+json": {
       "config": {
        "plotlyServerURL": "https://plot.ly"
       },
       "data": [
        {
         "textinfo": "value+percent initial+percent previous",
         "textposition": "inside",
         "type": "funnel",
         "x": [
          7419,
          4593,
          3734,
          3539
         ],
         "y": [
          "main_screen_appear",
          "offers_screen_appear",
          "cart_screen_appear",
          "payment_screen_successful"
         ]
        }
       ],
       "layout": {
        "template": {
         "data": {
          "bar": [
           {
            "error_x": {
             "color": "#2a3f5f"
            },
            "error_y": {
             "color": "#2a3f5f"
            },
            "marker": {
             "line": {
              "color": "#E5ECF6",
              "width": 0.5
             }
            },
            "type": "bar"
           }
          ],
          "barpolar": [
           {
            "marker": {
             "line": {
              "color": "#E5ECF6",
              "width": 0.5
             }
            },
            "type": "barpolar"
           }
          ],
          "carpet": [
           {
            "aaxis": {
             "endlinecolor": "#2a3f5f",
             "gridcolor": "white",
             "linecolor": "white",
             "minorgridcolor": "white",
             "startlinecolor": "#2a3f5f"
            },
            "baxis": {
             "endlinecolor": "#2a3f5f",
             "gridcolor": "white",
             "linecolor": "white",
             "minorgridcolor": "white",
             "startlinecolor": "#2a3f5f"
            },
            "type": "carpet"
           }
          ],
          "choropleth": [
           {
            "colorbar": {
             "outlinewidth": 0,
             "ticks": ""
            },
            "type": "choropleth"
           }
          ],
          "contour": [
           {
            "colorbar": {
             "outlinewidth": 0,
             "ticks": ""
            },
            "colorscale": [
             [
              0,
              "#0d0887"
             ],
             [
              0.1111111111111111,
              "#46039f"
             ],
             [
              0.2222222222222222,
              "#7201a8"
             ],
             [
              0.3333333333333333,
              "#9c179e"
             ],
             [
              0.4444444444444444,
              "#bd3786"
             ],
             [
              0.5555555555555556,
              "#d8576b"
             ],
             [
              0.6666666666666666,
              "#ed7953"
             ],
             [
              0.7777777777777778,
              "#fb9f3a"
             ],
             [
              0.8888888888888888,
              "#fdca26"
             ],
             [
              1,
              "#f0f921"
             ]
            ],
            "type": "contour"
           }
          ],
          "contourcarpet": [
           {
            "colorbar": {
             "outlinewidth": 0,
             "ticks": ""
            },
            "type": "contourcarpet"
           }
          ],
          "heatmap": [
           {
            "colorbar": {
             "outlinewidth": 0,
             "ticks": ""
            },
            "colorscale": [
             [
              0,
              "#0d0887"
             ],
             [
              0.1111111111111111,
              "#46039f"
             ],
             [
              0.2222222222222222,
              "#7201a8"
             ],
             [
              0.3333333333333333,
              "#9c179e"
             ],
             [
              0.4444444444444444,
              "#bd3786"
             ],
             [
              0.5555555555555556,
              "#d8576b"
             ],
             [
              0.6666666666666666,
              "#ed7953"
             ],
             [
              0.7777777777777778,
              "#fb9f3a"
             ],
             [
              0.8888888888888888,
              "#fdca26"
             ],
             [
              1,
              "#f0f921"
             ]
            ],
            "type": "heatmap"
           }
          ],
          "heatmapgl": [
           {
            "colorbar": {
             "outlinewidth": 0,
             "ticks": ""
            },
            "colorscale": [
             [
              0,
              "#0d0887"
             ],
             [
              0.1111111111111111,
              "#46039f"
             ],
             [
              0.2222222222222222,
              "#7201a8"
             ],
             [
              0.3333333333333333,
              "#9c179e"
             ],
             [
              0.4444444444444444,
              "#bd3786"
             ],
             [
              0.5555555555555556,
              "#d8576b"
             ],
             [
              0.6666666666666666,
              "#ed7953"
             ],
             [
              0.7777777777777778,
              "#fb9f3a"
             ],
             [
              0.8888888888888888,
              "#fdca26"
             ],
             [
              1,
              "#f0f921"
             ]
            ],
            "type": "heatmapgl"
           }
          ],
          "histogram": [
           {
            "marker": {
             "colorbar": {
              "outlinewidth": 0,
              "ticks": ""
             }
            },
            "type": "histogram"
           }
          ],
          "histogram2d": [
           {
            "colorbar": {
             "outlinewidth": 0,
             "ticks": ""
            },
            "colorscale": [
             [
              0,
              "#0d0887"
             ],
             [
              0.1111111111111111,
              "#46039f"
             ],
             [
              0.2222222222222222,
              "#7201a8"
             ],
             [
              0.3333333333333333,
              "#9c179e"
             ],
             [
              0.4444444444444444,
              "#bd3786"
             ],
             [
              0.5555555555555556,
              "#d8576b"
             ],
             [
              0.6666666666666666,
              "#ed7953"
             ],
             [
              0.7777777777777778,
              "#fb9f3a"
             ],
             [
              0.8888888888888888,
              "#fdca26"
             ],
             [
              1,
              "#f0f921"
             ]
            ],
            "type": "histogram2d"
           }
          ],
          "histogram2dcontour": [
           {
            "colorbar": {
             "outlinewidth": 0,
             "ticks": ""
            },
            "colorscale": [
             [
              0,
              "#0d0887"
             ],
             [
              0.1111111111111111,
              "#46039f"
             ],
             [
              0.2222222222222222,
              "#7201a8"
             ],
             [
              0.3333333333333333,
              "#9c179e"
             ],
             [
              0.4444444444444444,
              "#bd3786"
             ],
             [
              0.5555555555555556,
              "#d8576b"
             ],
             [
              0.6666666666666666,
              "#ed7953"
             ],
             [
              0.7777777777777778,
              "#fb9f3a"
             ],
             [
              0.8888888888888888,
              "#fdca26"
             ],
             [
              1,
              "#f0f921"
             ]
            ],
            "type": "histogram2dcontour"
           }
          ],
          "mesh3d": [
           {
            "colorbar": {
             "outlinewidth": 0,
             "ticks": ""
            },
            "type": "mesh3d"
           }
          ],
          "parcoords": [
           {
            "line": {
             "colorbar": {
              "outlinewidth": 0,
              "ticks": ""
             }
            },
            "type": "parcoords"
           }
          ],
          "scatter": [
           {
            "marker": {
             "colorbar": {
              "outlinewidth": 0,
              "ticks": ""
             }
            },
            "type": "scatter"
           }
          ],
          "scatter3d": [
           {
            "line": {
             "colorbar": {
              "outlinewidth": 0,
              "ticks": ""
             }
            },
            "marker": {
             "colorbar": {
              "outlinewidth": 0,
              "ticks": ""
             }
            },
            "type": "scatter3d"
           }
          ],
          "scattercarpet": [
           {
            "marker": {
             "colorbar": {
              "outlinewidth": 0,
              "ticks": ""
             }
            },
            "type": "scattercarpet"
           }
          ],
          "scattergeo": [
           {
            "marker": {
             "colorbar": {
              "outlinewidth": 0,
              "ticks": ""
             }
            },
            "type": "scattergeo"
           }
          ],
          "scattergl": [
           {
            "marker": {
             "colorbar": {
              "outlinewidth": 0,
              "ticks": ""
             }
            },
            "type": "scattergl"
           }
          ],
          "scattermapbox": [
           {
            "marker": {
             "colorbar": {
              "outlinewidth": 0,
              "ticks": ""
             }
            },
            "type": "scattermapbox"
           }
          ],
          "scatterpolar": [
           {
            "marker": {
             "colorbar": {
              "outlinewidth": 0,
              "ticks": ""
             }
            },
            "type": "scatterpolar"
           }
          ],
          "scatterpolargl": [
           {
            "marker": {
             "colorbar": {
              "outlinewidth": 0,
              "ticks": ""
             }
            },
            "type": "scatterpolargl"
           }
          ],
          "scatterternary": [
           {
            "marker": {
             "colorbar": {
              "outlinewidth": 0,
              "ticks": ""
             }
            },
            "type": "scatterternary"
           }
          ],
          "surface": [
           {
            "colorbar": {
             "outlinewidth": 0,
             "ticks": ""
            },
            "colorscale": [
             [
              0,
              "#0d0887"
             ],
             [
              0.1111111111111111,
              "#46039f"
             ],
             [
              0.2222222222222222,
              "#7201a8"
             ],
             [
              0.3333333333333333,
              "#9c179e"
             ],
             [
              0.4444444444444444,
              "#bd3786"
             ],
             [
              0.5555555555555556,
              "#d8576b"
             ],
             [
              0.6666666666666666,
              "#ed7953"
             ],
             [
              0.7777777777777778,
              "#fb9f3a"
             ],
             [
              0.8888888888888888,
              "#fdca26"
             ],
             [
              1,
              "#f0f921"
             ]
            ],
            "type": "surface"
           }
          ],
          "table": [
           {
            "cells": {
             "fill": {
              "color": "#EBF0F8"
             },
             "line": {
              "color": "white"
             }
            },
            "header": {
             "fill": {
              "color": "#C8D4E3"
             },
             "line": {
              "color": "white"
             }
            },
            "type": "table"
           }
          ]
         },
         "layout": {
          "annotationdefaults": {
           "arrowcolor": "#2a3f5f",
           "arrowhead": 0,
           "arrowwidth": 1
          },
          "colorscale": {
           "diverging": [
            [
             0,
             "#8e0152"
            ],
            [
             0.1,
             "#c51b7d"
            ],
            [
             0.2,
             "#de77ae"
            ],
            [
             0.3,
             "#f1b6da"
            ],
            [
             0.4,
             "#fde0ef"
            ],
            [
             0.5,
             "#f7f7f7"
            ],
            [
             0.6,
             "#e6f5d0"
            ],
            [
             0.7,
             "#b8e186"
            ],
            [
             0.8,
             "#7fbc41"
            ],
            [
             0.9,
             "#4d9221"
            ],
            [
             1,
             "#276419"
            ]
           ],
           "sequential": [
            [
             0,
             "#0d0887"
            ],
            [
             0.1111111111111111,
             "#46039f"
            ],
            [
             0.2222222222222222,
             "#7201a8"
            ],
            [
             0.3333333333333333,
             "#9c179e"
            ],
            [
             0.4444444444444444,
             "#bd3786"
            ],
            [
             0.5555555555555556,
             "#d8576b"
            ],
            [
             0.6666666666666666,
             "#ed7953"
            ],
            [
             0.7777777777777778,
             "#fb9f3a"
            ],
            [
             0.8888888888888888,
             "#fdca26"
            ],
            [
             1,
             "#f0f921"
            ]
           ],
           "sequentialminus": [
            [
             0,
             "#0d0887"
            ],
            [
             0.1111111111111111,
             "#46039f"
            ],
            [
             0.2222222222222222,
             "#7201a8"
            ],
            [
             0.3333333333333333,
             "#9c179e"
            ],
            [
             0.4444444444444444,
             "#bd3786"
            ],
            [
             0.5555555555555556,
             "#d8576b"
            ],
            [
             0.6666666666666666,
             "#ed7953"
            ],
            [
             0.7777777777777778,
             "#fb9f3a"
            ],
            [
             0.8888888888888888,
             "#fdca26"
            ],
            [
             1,
             "#f0f921"
            ]
           ]
          },
          "colorway": [
           "#636efa",
           "#EF553B",
           "#00cc96",
           "#ab63fa",
           "#FFA15A",
           "#19d3f3",
           "#FF6692",
           "#B6E880",
           "#FF97FF",
           "#FECB52"
          ],
          "font": {
           "color": "#2a3f5f"
          },
          "geo": {
           "bgcolor": "white",
           "lakecolor": "white",
           "landcolor": "#E5ECF6",
           "showlakes": true,
           "showland": true,
           "subunitcolor": "white"
          },
          "hoverlabel": {
           "align": "left"
          },
          "hovermode": "closest",
          "mapbox": {
           "style": "light"
          },
          "paper_bgcolor": "white",
          "plot_bgcolor": "#E5ECF6",
          "polar": {
           "angularaxis": {
            "gridcolor": "white",
            "linecolor": "white",
            "ticks": ""
           },
           "bgcolor": "#E5ECF6",
           "radialaxis": {
            "gridcolor": "white",
            "linecolor": "white",
            "ticks": ""
           }
          },
          "scene": {
           "xaxis": {
            "backgroundcolor": "#E5ECF6",
            "gridcolor": "white",
            "gridwidth": 2,
            "linecolor": "white",
            "showbackground": true,
            "ticks": "",
            "zerolinecolor": "white"
           },
           "yaxis": {
            "backgroundcolor": "#E5ECF6",
            "gridcolor": "white",
            "gridwidth": 2,
            "linecolor": "white",
            "showbackground": true,
            "ticks": "",
            "zerolinecolor": "white"
           },
           "zaxis": {
            "backgroundcolor": "#E5ECF6",
            "gridcolor": "white",
            "gridwidth": 2,
            "linecolor": "white",
            "showbackground": true,
            "ticks": "",
            "zerolinecolor": "white"
           }
          },
          "shapedefaults": {
           "line": {
            "color": "#2a3f5f"
           }
          },
          "ternary": {
           "aaxis": {
            "gridcolor": "white",
            "linecolor": "white",
            "ticks": ""
           },
           "baxis": {
            "gridcolor": "white",
            "linecolor": "white",
            "ticks": ""
           },
           "bgcolor": "#E5ECF6",
           "caxis": {
            "gridcolor": "white",
            "linecolor": "white",
            "ticks": ""
           }
          },
          "title": {
           "x": 0.05
          },
          "xaxis": {
           "automargin": true,
           "gridcolor": "white",
           "linecolor": "white",
           "ticks": "",
           "zerolinecolor": "white",
           "zerolinewidth": 2
          },
          "yaxis": {
           "automargin": true,
           "gridcolor": "white",
           "linecolor": "white",
           "ticks": "",
           "zerolinecolor": "white",
           "zerolinewidth": 2
          }
         }
        },
        "title": {
         "text": "Воронка событий использования приложения",
         "x": 0.5
        }
       }
      },
      "text/html": [
       "<div>\n",
       "        \n",
       "        \n",
       "            <div id=\"a584cfb0-770d-48ca-96f3-d9d9a6bb424c\" class=\"plotly-graph-div\" style=\"height:525px; width:100%;\"></div>\n",
       "            <script type=\"text/javascript\">\n",
       "                require([\"plotly\"], function(Plotly) {\n",
       "                    window.PLOTLYENV=window.PLOTLYENV || {};\n",
       "                    \n",
       "                if (document.getElementById(\"a584cfb0-770d-48ca-96f3-d9d9a6bb424c\")) {\n",
       "                    Plotly.newPlot(\n",
       "                        'a584cfb0-770d-48ca-96f3-d9d9a6bb424c',\n",
       "                        [{\"textinfo\": \"value+percent initial+percent previous\", \"textposition\": \"inside\", \"type\": \"funnel\", \"x\": [7419, 4593, 3734, 3539], \"y\": [\"main_screen_appear\", \"offers_screen_appear\", \"cart_screen_appear\", \"payment_screen_successful\"]}],\n",
       "                        {\"template\": {\"data\": {\"bar\": [{\"error_x\": {\"color\": \"#2a3f5f\"}, \"error_y\": {\"color\": \"#2a3f5f\"}, \"marker\": {\"line\": {\"color\": \"#E5ECF6\", \"width\": 0.5}}, \"type\": \"bar\"}], \"barpolar\": [{\"marker\": {\"line\": {\"color\": \"#E5ECF6\", \"width\": 0.5}}, \"type\": \"barpolar\"}], \"carpet\": [{\"aaxis\": {\"endlinecolor\": \"#2a3f5f\", \"gridcolor\": \"white\", \"linecolor\": \"white\", \"minorgridcolor\": \"white\", \"startlinecolor\": \"#2a3f5f\"}, \"baxis\": {\"endlinecolor\": \"#2a3f5f\", \"gridcolor\": \"white\", \"linecolor\": \"white\", \"minorgridcolor\": \"white\", \"startlinecolor\": \"#2a3f5f\"}, \"type\": \"carpet\"}], \"choropleth\": [{\"colorbar\": {\"outlinewidth\": 0, \"ticks\": \"\"}, \"type\": \"choropleth\"}], \"contour\": [{\"colorbar\": {\"outlinewidth\": 0, \"ticks\": \"\"}, \"colorscale\": [[0.0, \"#0d0887\"], [0.1111111111111111, \"#46039f\"], [0.2222222222222222, \"#7201a8\"], [0.3333333333333333, \"#9c179e\"], [0.4444444444444444, \"#bd3786\"], [0.5555555555555556, \"#d8576b\"], [0.6666666666666666, \"#ed7953\"], [0.7777777777777778, \"#fb9f3a\"], [0.8888888888888888, \"#fdca26\"], [1.0, \"#f0f921\"]], \"type\": \"contour\"}], \"contourcarpet\": [{\"colorbar\": {\"outlinewidth\": 0, \"ticks\": \"\"}, \"type\": \"contourcarpet\"}], \"heatmap\": [{\"colorbar\": {\"outlinewidth\": 0, \"ticks\": \"\"}, \"colorscale\": [[0.0, \"#0d0887\"], [0.1111111111111111, \"#46039f\"], [0.2222222222222222, \"#7201a8\"], [0.3333333333333333, \"#9c179e\"], [0.4444444444444444, \"#bd3786\"], [0.5555555555555556, \"#d8576b\"], [0.6666666666666666, \"#ed7953\"], [0.7777777777777778, \"#fb9f3a\"], [0.8888888888888888, \"#fdca26\"], [1.0, \"#f0f921\"]], \"type\": \"heatmap\"}], \"heatmapgl\": [{\"colorbar\": {\"outlinewidth\": 0, \"ticks\": \"\"}, \"colorscale\": [[0.0, \"#0d0887\"], [0.1111111111111111, \"#46039f\"], [0.2222222222222222, \"#7201a8\"], [0.3333333333333333, \"#9c179e\"], [0.4444444444444444, \"#bd3786\"], [0.5555555555555556, \"#d8576b\"], [0.6666666666666666, \"#ed7953\"], [0.7777777777777778, \"#fb9f3a\"], [0.8888888888888888, \"#fdca26\"], [1.0, \"#f0f921\"]], \"type\": \"heatmapgl\"}], \"histogram\": [{\"marker\": {\"colorbar\": {\"outlinewidth\": 0, \"ticks\": \"\"}}, \"type\": \"histogram\"}], \"histogram2d\": [{\"colorbar\": {\"outlinewidth\": 0, \"ticks\": \"\"}, \"colorscale\": [[0.0, \"#0d0887\"], [0.1111111111111111, \"#46039f\"], [0.2222222222222222, \"#7201a8\"], [0.3333333333333333, \"#9c179e\"], [0.4444444444444444, \"#bd3786\"], [0.5555555555555556, \"#d8576b\"], [0.6666666666666666, \"#ed7953\"], [0.7777777777777778, \"#fb9f3a\"], [0.8888888888888888, \"#fdca26\"], [1.0, \"#f0f921\"]], \"type\": \"histogram2d\"}], \"histogram2dcontour\": [{\"colorbar\": {\"outlinewidth\": 0, \"ticks\": \"\"}, \"colorscale\": [[0.0, \"#0d0887\"], [0.1111111111111111, \"#46039f\"], [0.2222222222222222, \"#7201a8\"], [0.3333333333333333, \"#9c179e\"], [0.4444444444444444, \"#bd3786\"], [0.5555555555555556, \"#d8576b\"], [0.6666666666666666, \"#ed7953\"], [0.7777777777777778, \"#fb9f3a\"], [0.8888888888888888, \"#fdca26\"], [1.0, \"#f0f921\"]], \"type\": \"histogram2dcontour\"}], \"mesh3d\": [{\"colorbar\": {\"outlinewidth\": 0, \"ticks\": \"\"}, \"type\": \"mesh3d\"}], \"parcoords\": [{\"line\": {\"colorbar\": {\"outlinewidth\": 0, \"ticks\": \"\"}}, \"type\": \"parcoords\"}], \"scatter\": [{\"marker\": {\"colorbar\": {\"outlinewidth\": 0, \"ticks\": \"\"}}, \"type\": \"scatter\"}], \"scatter3d\": [{\"line\": {\"colorbar\": {\"outlinewidth\": 0, \"ticks\": \"\"}}, \"marker\": {\"colorbar\": {\"outlinewidth\": 0, \"ticks\": \"\"}}, \"type\": \"scatter3d\"}], \"scattercarpet\": [{\"marker\": {\"colorbar\": {\"outlinewidth\": 0, \"ticks\": \"\"}}, \"type\": \"scattercarpet\"}], \"scattergeo\": [{\"marker\": {\"colorbar\": {\"outlinewidth\": 0, \"ticks\": \"\"}}, \"type\": \"scattergeo\"}], \"scattergl\": [{\"marker\": {\"colorbar\": {\"outlinewidth\": 0, \"ticks\": \"\"}}, \"type\": \"scattergl\"}], \"scattermapbox\": [{\"marker\": {\"colorbar\": {\"outlinewidth\": 0, \"ticks\": \"\"}}, \"type\": \"scattermapbox\"}], \"scatterpolar\": [{\"marker\": {\"colorbar\": {\"outlinewidth\": 0, \"ticks\": \"\"}}, \"type\": \"scatterpolar\"}], \"scatterpolargl\": [{\"marker\": {\"colorbar\": {\"outlinewidth\": 0, \"ticks\": \"\"}}, \"type\": \"scatterpolargl\"}], \"scatterternary\": [{\"marker\": {\"colorbar\": {\"outlinewidth\": 0, \"ticks\": \"\"}}, \"type\": \"scatterternary\"}], \"surface\": [{\"colorbar\": {\"outlinewidth\": 0, \"ticks\": \"\"}, \"colorscale\": [[0.0, \"#0d0887\"], [0.1111111111111111, \"#46039f\"], [0.2222222222222222, \"#7201a8\"], [0.3333333333333333, \"#9c179e\"], [0.4444444444444444, \"#bd3786\"], [0.5555555555555556, \"#d8576b\"], [0.6666666666666666, \"#ed7953\"], [0.7777777777777778, \"#fb9f3a\"], [0.8888888888888888, \"#fdca26\"], [1.0, \"#f0f921\"]], \"type\": \"surface\"}], \"table\": [{\"cells\": {\"fill\": {\"color\": \"#EBF0F8\"}, \"line\": {\"color\": \"white\"}}, \"header\": {\"fill\": {\"color\": \"#C8D4E3\"}, \"line\": {\"color\": \"white\"}}, \"type\": \"table\"}]}, \"layout\": {\"annotationdefaults\": {\"arrowcolor\": \"#2a3f5f\", \"arrowhead\": 0, \"arrowwidth\": 1}, \"colorscale\": {\"diverging\": [[0, \"#8e0152\"], [0.1, \"#c51b7d\"], [0.2, \"#de77ae\"], [0.3, \"#f1b6da\"], [0.4, \"#fde0ef\"], [0.5, \"#f7f7f7\"], [0.6, \"#e6f5d0\"], [0.7, \"#b8e186\"], [0.8, \"#7fbc41\"], [0.9, \"#4d9221\"], [1, \"#276419\"]], \"sequential\": [[0.0, \"#0d0887\"], [0.1111111111111111, \"#46039f\"], [0.2222222222222222, \"#7201a8\"], [0.3333333333333333, \"#9c179e\"], [0.4444444444444444, \"#bd3786\"], [0.5555555555555556, \"#d8576b\"], [0.6666666666666666, \"#ed7953\"], [0.7777777777777778, \"#fb9f3a\"], [0.8888888888888888, \"#fdca26\"], [1.0, \"#f0f921\"]], \"sequentialminus\": [[0.0, \"#0d0887\"], [0.1111111111111111, \"#46039f\"], [0.2222222222222222, \"#7201a8\"], [0.3333333333333333, \"#9c179e\"], [0.4444444444444444, \"#bd3786\"], [0.5555555555555556, \"#d8576b\"], [0.6666666666666666, \"#ed7953\"], [0.7777777777777778, \"#fb9f3a\"], [0.8888888888888888, \"#fdca26\"], [1.0, \"#f0f921\"]]}, \"colorway\": [\"#636efa\", \"#EF553B\", \"#00cc96\", \"#ab63fa\", \"#FFA15A\", \"#19d3f3\", \"#FF6692\", \"#B6E880\", \"#FF97FF\", \"#FECB52\"], \"font\": {\"color\": \"#2a3f5f\"}, \"geo\": {\"bgcolor\": \"white\", \"lakecolor\": \"white\", \"landcolor\": \"#E5ECF6\", \"showlakes\": true, \"showland\": true, \"subunitcolor\": \"white\"}, \"hoverlabel\": {\"align\": \"left\"}, \"hovermode\": \"closest\", \"mapbox\": {\"style\": \"light\"}, \"paper_bgcolor\": \"white\", \"plot_bgcolor\": \"#E5ECF6\", \"polar\": {\"angularaxis\": {\"gridcolor\": \"white\", \"linecolor\": \"white\", \"ticks\": \"\"}, \"bgcolor\": \"#E5ECF6\", \"radialaxis\": {\"gridcolor\": \"white\", \"linecolor\": \"white\", \"ticks\": \"\"}}, \"scene\": {\"xaxis\": {\"backgroundcolor\": \"#E5ECF6\", \"gridcolor\": \"white\", \"gridwidth\": 2, \"linecolor\": \"white\", \"showbackground\": true, \"ticks\": \"\", \"zerolinecolor\": \"white\"}, \"yaxis\": {\"backgroundcolor\": \"#E5ECF6\", \"gridcolor\": \"white\", \"gridwidth\": 2, \"linecolor\": \"white\", \"showbackground\": true, \"ticks\": \"\", \"zerolinecolor\": \"white\"}, \"zaxis\": {\"backgroundcolor\": \"#E5ECF6\", \"gridcolor\": \"white\", \"gridwidth\": 2, \"linecolor\": \"white\", \"showbackground\": true, \"ticks\": \"\", \"zerolinecolor\": \"white\"}}, \"shapedefaults\": {\"line\": {\"color\": \"#2a3f5f\"}}, \"ternary\": {\"aaxis\": {\"gridcolor\": \"white\", \"linecolor\": \"white\", \"ticks\": \"\"}, \"baxis\": {\"gridcolor\": \"white\", \"linecolor\": \"white\", \"ticks\": \"\"}, \"bgcolor\": \"#E5ECF6\", \"caxis\": {\"gridcolor\": \"white\", \"linecolor\": \"white\", \"ticks\": \"\"}}, \"title\": {\"x\": 0.05}, \"xaxis\": {\"automargin\": true, \"gridcolor\": \"white\", \"linecolor\": \"white\", \"ticks\": \"\", \"zerolinecolor\": \"white\", \"zerolinewidth\": 2}, \"yaxis\": {\"automargin\": true, \"gridcolor\": \"white\", \"linecolor\": \"white\", \"ticks\": \"\", \"zerolinecolor\": \"white\", \"zerolinewidth\": 2}}}, \"title\": {\"text\": \"\\u0412\\u043e\\u0440\\u043e\\u043d\\u043a\\u0430 \\u0441\\u043e\\u0431\\u044b\\u0442\\u0438\\u0439 \\u0438\\u0441\\u043f\\u043e\\u043b\\u044c\\u0437\\u043e\\u0432\\u0430\\u043d\\u0438\\u044f \\u043f\\u0440\\u0438\\u043b\\u043e\\u0436\\u0435\\u043d\\u0438\\u044f\", \"x\": 0.5}},\n",
       "                        {\"responsive\": true}\n",
       "                    ).then(function(){\n",
       "                            \n",
       "var gd = document.getElementById('a584cfb0-770d-48ca-96f3-d9d9a6bb424c');\n",
       "var x = new MutationObserver(function (mutations, observer) {{\n",
       "        var display = window.getComputedStyle(gd).display;\n",
       "        if (!display || display === 'none') {{\n",
       "            console.log([gd, 'removed!']);\n",
       "            Plotly.purge(gd);\n",
       "            observer.disconnect();\n",
       "        }}\n",
       "}});\n",
       "\n",
       "// Listen for the removal of the full notebook cells\n",
       "var notebookContainer = gd.closest('#notebook-container');\n",
       "if (notebookContainer) {{\n",
       "    x.observe(notebookContainer, {childList: true});\n",
       "}}\n",
       "\n",
       "// Listen for the clearing of the current output cell\n",
       "var outputEl = gd.closest('.output');\n",
       "if (outputEl) {{\n",
       "    x.observe(outputEl, {childList: true});\n",
       "}}\n",
       "\n",
       "                        })\n",
       "                };\n",
       "                });\n",
       "            </script>\n",
       "        </div>"
      ]
     },
     "metadata": {},
     "output_type": "display_data"
    }
   ],
   "source": [
    "fig = go.Figure(\n",
    "    go.Funnel(\n",
    "        y = events_by_users['event_name'], \n",
    "        x = events_by_users['number_of_users'], \n",
    "        textposition = \"inside\",\n",
    "        textinfo = 'value+percent initial+percent previous'\n",
    "    )\n",
    ")\n",
    "\n",
    "fig.update(layout_title_text='Воронка событий использования приложения', layout_title_x=0.5 )\n",
    "\n",
    "fig.show()"
   ]
  },
  {
   "cell_type": "markdown",
   "metadata": {},
   "source": [
    "На графике мы видим, что 62% пользователей осуществили переход с главной страницы на страницу с товарами, однако из тех, кто перешел на страницу с товарами, уже 81% пользователей перешел в корзину и из них 95% совершили оплату.\n",
    "\n",
    "То есть больше всего пользователей \"теряется\" на этапе просмотра главной страницы - 38% просто не переходят на страницу с товарами. Возможно, пользователей отталкивает дизайн главной стрницы или им непонятно, в какой раздел перейти, чтобы начать просмотр товаров.\n",
    "\n",
    "До последнего шага - успешной оплаты заказа доходят 95% тех, кто перешел до этого в корзину, то есть проблемы с просмотром корзины или процессом оплаты возникают только у малой части пользователей. Если рассматривать долю тех, кто совершили оплату, от общего количества пользователей, то мы видим, что 48% дошли от первого шага до успешной оплаты. При этом мы видим, что большая часть пользователей не преодолела шаг просмотра главной страницы."
   ]
  },
  {
   "cell_type": "markdown",
   "metadata": {},
   "source": [
    "### Вывод"
   ]
  },
  {
   "cell_type": "markdown",
   "metadata": {},
   "source": [
    "На данном шаге мы проанализировали воронку событий:\n",
    "* Определили последовательность событий на основе частотности и количества пользователей на каждом этапе. Цепочка выглядит следующим образом - переход на главную старницу, переход на страницу с товарами, переход в корзину, успешная оплата. Шаг с переходом на страницу вопросов является опциональным и не входит в этапы воронки.\n",
    "* Вычислили долю пользователей на каждом этапе от общего количества пользователей и от количества пользователей на предыдущем шаге. Определили, что  до этапа успешной оплаты не доходят 52% пользователей: больше всего пользователей - 38% - \"теряются\" на этапе просмотра главной страницы."
   ]
  },
  {
   "cell_type": "markdown",
   "metadata": {},
   "source": [
    "## Шаг 4. Изучение результатов эксперимента"
   ]
  },
  {
   "cell_type": "markdown",
   "metadata": {},
   "source": [
    "### 4.1. Статистическое сравнение контрольных групп"
   ]
  },
  {
   "cell_type": "markdown",
   "metadata": {},
   "source": [
    "Определим, сколько пользователей в каждой экспериментальной группе."
   ]
  },
  {
   "cell_type": "code",
   "execution_count": 44,
   "metadata": {},
   "outputs": [
    {
     "data": {
      "text/html": [
       "<div>\n",
       "<style scoped>\n",
       "    .dataframe tbody tr th:only-of-type {\n",
       "        vertical-align: middle;\n",
       "    }\n",
       "\n",
       "    .dataframe tbody tr th {\n",
       "        vertical-align: top;\n",
       "    }\n",
       "\n",
       "    .dataframe thead th {\n",
       "        text-align: right;\n",
       "    }\n",
       "</style>\n",
       "<table border=\"1\" class=\"dataframe\">\n",
       "  <thead>\n",
       "    <tr style=\"text-align: right;\">\n",
       "      <th></th>\n",
       "      <th>experiment_id</th>\n",
       "      <th>user_id</th>\n",
       "    </tr>\n",
       "  </thead>\n",
       "  <tbody>\n",
       "    <tr>\n",
       "      <td>0</td>\n",
       "      <td>246</td>\n",
       "      <td>2484</td>\n",
       "    </tr>\n",
       "    <tr>\n",
       "      <td>1</td>\n",
       "      <td>247</td>\n",
       "      <td>2513</td>\n",
       "    </tr>\n",
       "    <tr>\n",
       "      <td>2</td>\n",
       "      <td>248</td>\n",
       "      <td>2537</td>\n",
       "    </tr>\n",
       "  </tbody>\n",
       "</table>\n",
       "</div>"
      ],
      "text/plain": [
       "   experiment_id  user_id\n",
       "0            246     2484\n",
       "1            247     2513\n",
       "2            248     2537"
      ]
     },
     "execution_count": 44,
     "metadata": {},
     "output_type": "execute_result"
    }
   ],
   "source": [
    "df_august.groupby('experiment_id', as_index=False).agg({'user_id': 'nunique'})"
   ]
  },
  {
   "cell_type": "markdown",
   "metadata": {},
   "source": [
    "У нас есть данные по А/А-эксперименту. Он необходим для больше точности в результатах тестирования, так мы будем более уверены в том, есть ли статистически значимая разница между контрольной и экспериментальной группами.\n",
    "\n",
    "Для А/А-эксперимента есть две выборки - группы 246 и 247. Проверим, есть ли статистически значимая разница между этими группами с помощью z критерия, позволяющего проверить равенство долей в выборках."
   ]
  },
  {
   "cell_type": "markdown",
   "metadata": {},
   "source": [
    "Создадим два новых датафрейма - отдельно для группы 246 и отдельно для группы 247."
   ]
  },
  {
   "cell_type": "code",
   "execution_count": 45,
   "metadata": {},
   "outputs": [],
   "source": [
    "group_246 = df_august.query('experiment_id == 246')\n",
    "group_247 = df_august.query('experiment_id == 247')\n",
    "\n",
    "group_246.name = 'Группа 246'\n",
    "group_247.name = 'Группа 247'"
   ]
  },
  {
   "cell_type": "markdown",
   "metadata": {},
   "source": [
    "Выберем самое популярное событие - то, которое встречается в данных чаще всего. Далее сравним долю пользователей, совершивших данное собыйтие в группе 246 и группе 247."
   ]
  },
  {
   "cell_type": "code",
   "execution_count": 46,
   "metadata": {},
   "outputs": [
    {
     "data": {
      "text/html": [
       "<div>\n",
       "<style scoped>\n",
       "    .dataframe tbody tr th:only-of-type {\n",
       "        vertical-align: middle;\n",
       "    }\n",
       "\n",
       "    .dataframe tbody tr th {\n",
       "        vertical-align: top;\n",
       "    }\n",
       "\n",
       "    .dataframe thead th {\n",
       "        text-align: right;\n",
       "    }\n",
       "</style>\n",
       "<table border=\"1\" class=\"dataframe\">\n",
       "  <thead>\n",
       "    <tr style=\"text-align: right;\">\n",
       "      <th></th>\n",
       "      <th>event_name</th>\n",
       "      <th>number_of_events</th>\n",
       "    </tr>\n",
       "  </thead>\n",
       "  <tbody>\n",
       "    <tr>\n",
       "      <td>1</td>\n",
       "      <td>main_screen_appear</td>\n",
       "      <td>117328</td>\n",
       "    </tr>\n",
       "    <tr>\n",
       "      <td>2</td>\n",
       "      <td>offers_screen_appear</td>\n",
       "      <td>46333</td>\n",
       "    </tr>\n",
       "    <tr>\n",
       "      <td>0</td>\n",
       "      <td>cart_screen_appear</td>\n",
       "      <td>42303</td>\n",
       "    </tr>\n",
       "    <tr>\n",
       "      <td>3</td>\n",
       "      <td>payment_screen_successful</td>\n",
       "      <td>33918</td>\n",
       "    </tr>\n",
       "    <tr>\n",
       "      <td>4</td>\n",
       "      <td>tutorial</td>\n",
       "      <td>1005</td>\n",
       "    </tr>\n",
       "  </tbody>\n",
       "</table>\n",
       "</div>"
      ],
      "text/plain": [
       "                  event_name  number_of_events\n",
       "1         main_screen_appear            117328\n",
       "2       offers_screen_appear             46333\n",
       "0         cart_screen_appear             42303\n",
       "3  payment_screen_successful             33918\n",
       "4                   tutorial              1005"
      ]
     },
     "execution_count": 46,
     "metadata": {},
     "output_type": "execute_result"
    }
   ],
   "source": [
    "events.sort_values(by='number_of_events', ascending=False)"
   ]
  },
  {
   "cell_type": "markdown",
   "metadata": {},
   "source": [
    "Самое популярное событие - переход на главную страницу. "
   ]
  },
  {
   "cell_type": "markdown",
   "metadata": {},
   "source": [
    "Создадим функцию, которая будет подсчитывать долю пользователей, совершивших определенное событие, и определять, значима ли разница между долями на основании z-статистики."
   ]
  },
  {
   "cell_type": "code",
   "execution_count": 68,
   "metadata": {},
   "outputs": [],
   "source": [
    "def stat_diff_check(event_name, df1, df2):\n",
    "    \n",
    "    event_group1 = df1[df1['event_name'] == event_name]  \n",
    "    event_group2 = df2[df2['event_name'] == event_name]\n",
    "    \n",
    "    success1 = event_group1['user_id'].nunique()  # кол-во пользователей, совершивших определенное событие в гр.1\n",
    "    success2 = event_group2['user_id'].nunique()  # кол-во пользователей, совершивших определенное событие в гр.2\n",
    "    \n",
    "    trials1 = df1['user_id'].nunique()  # общее кол-во пользователей в гр.1\n",
    "    trials2 = df2['user_id'].nunique()  # общее кол-во пользователей в гр.2\n",
    "    \n",
    "    print(df1.name, ': доля пользователей, совершивших действие', event_name, '{:.2%}'.format(success1 / trials1))\n",
    "    print(df2.name, ': доля пользователей, совершивших действие', event_name, '{:.2%}'.format(success2 / trials2))\n",
    "    \n",
    "    print()\n",
    "    \n",
    "    alpha = 0.05 # уровень значимости\n",
    "    \n",
    "    bonferroni_alpha = alpha / 16  # с учетом того, что мы не рассматриваем туториал\n",
    "    \n",
    "    p1 = success1 / trials1  # пропорция успехов в гр.1\n",
    "\n",
    "    p2 = success2 / trials2  # пропорция успехов в гр.2\n",
    "\n",
    "    p_combined = (success1 + success2) / (trials1 + trials2) # пропорция успехов в комбинированном датасете\n",
    "\n",
    "    difference = p1 - p2  # разница пропорций в датасетах\n",
    "\n",
    "    # считаем статистику в ст.отклонениях стандартного нормального распределения\n",
    "    z_value = difference / mth.sqrt(p_combined * (1 - p_combined) * (1 / trials1 + 1 / trials2))\n",
    "\n",
    "    # задаем стандартное нормальное распределение (среднее 0, ст.отклонение 1)\n",
    "    distr = st.norm(0, 1)  \n",
    "\n",
    "    p_value = (1 - distr.cdf(abs(z_value))) * 2\n",
    "    \n",
    "    print('Нулевая гипотеза: нет стат. значимой разницы между долями пользователей, совершивших действие {}'\n",
    "          .format(event_name))\n",
    "    print('Альтернативная гипотеза: есть стат. значимая разница между долями пользователей, совершивших действие {}'\n",
    "          .format(event_name))\n",
    "    \n",
    "    print()\n",
    "\n",
    "    print('p-значение: ', p_value)\n",
    "\n",
    "    if p_value < bonferroni_alpha:\n",
    "        print('Отвергаем нулевую гипотезу: между долями есть значимая разница')\n",
    "    else:\n",
    "        print('Не получилось отвергнуть нулевую гипотезу, нет оснований считать доли разными') "
   ]
  },
  {
   "cell_type": "markdown",
   "metadata": {},
   "source": [
    "Вызовем функцию для самого популярного собыйтия - переход на главную страницу."
   ]
  },
  {
   "cell_type": "code",
   "execution_count": 69,
   "metadata": {},
   "outputs": [],
   "source": [
    "events = ['main_screen_appear', 'offers_screen_appear', 'cart_screen_appear', 'payment_screen_successful']"
   ]
  },
  {
   "cell_type": "code",
   "execution_count": 70,
   "metadata": {},
   "outputs": [
    {
     "name": "stdout",
     "output_type": "stream",
     "text": [
      "Группа 246 : доля пользователей, совершивших действие main_screen_appear 98.63%\n",
      "Группа 247 : доля пользователей, совершивших действие main_screen_appear 98.53%\n",
      "\n",
      "Нулевая гипотеза: нет стат. значимой разницы между долями пользователей, совершивших действие main_screen_appear\n",
      "Альтернативная гипотеза: есть стат. значимая разница между долями пользователей, совершивших действие main_screen_appear\n",
      "\n",
      "p-значение:  0.7570597232046099\n",
      "Не получилось отвергнуть нулевую гипотезу, нет оснований считать доли разными\n",
      "Группа 246 : доля пользователей, совершивших действие offers_screen_appear 62.08%\n",
      "Группа 247 : доля пользователей, совершивших действие offers_screen_appear 60.49%\n",
      "\n",
      "Нулевая гипотеза: нет стат. значимой разницы между долями пользователей, совершивших действие offers_screen_appear\n",
      "Альтернативная гипотеза: есть стат. значимая разница между долями пользователей, совершивших действие offers_screen_appear\n",
      "\n",
      "p-значение:  0.2480954578522181\n",
      "Не получилось отвергнуть нулевую гипотезу, нет оснований считать доли разными\n",
      "Группа 246 : доля пользователей, совершивших действие cart_screen_appear 50.97%\n",
      "Группа 247 : доля пользователей, совершивших действие cart_screen_appear 49.26%\n",
      "\n",
      "Нулевая гипотеза: нет стат. значимой разницы между долями пользователей, совершивших действие cart_screen_appear\n",
      "Альтернативная гипотеза: есть стат. значимая разница между долями пользователей, совершивших действие cart_screen_appear\n",
      "\n",
      "p-значение:  0.22883372237997213\n",
      "Не получилось отвергнуть нулевую гипотезу, нет оснований считать доли разными\n",
      "Группа 246 : доля пользователей, совершивших действие payment_screen_successful 48.31%\n",
      "Группа 247 : доля пользователей, совершивших действие payment_screen_successful 46.08%\n",
      "\n",
      "Нулевая гипотеза: нет стат. значимой разницы между долями пользователей, совершивших действие payment_screen_successful\n",
      "Альтернативная гипотеза: есть стат. значимая разница между долями пользователей, совершивших действие payment_screen_successful\n",
      "\n",
      "p-значение:  0.11456679313141849\n",
      "Не получилось отвергнуть нулевую гипотезу, нет оснований считать доли разными\n"
     ]
    }
   ],
   "source": [
    "for i in events:\n",
    "    stat_diff_check(i, group_246, group_247)"
   ]
  },
  {
   "cell_type": "markdown",
   "metadata": {},
   "source": [
    "На основании проведенных тестов для долей пользователей, совершивших определенное собыйтие, в контрольных группах 246 и 247, мы можем сказать, что нет статистически значимой разницы между указанными группами. Таким образом, разделение на группы было корректным, и мы можем быть уверены в точности дальнейшего тестирования при сравнении данных с экспериментальной группой 248."
   ]
  },
  {
   "cell_type": "markdown",
   "metadata": {},
   "source": [
    "### 4.2. Статистическое сравнение с экспериментальной группой"
   ]
  },
  {
   "cell_type": "markdown",
   "metadata": {},
   "source": [
    "Выделим отдельно группу 248 и создадим датафрейм с данными по этой группе. Удостоверимся, что в сумме количество строк в датафреймах по каждой экспериментальной группе, дает общее количество строк в анализируемом датафрейме."
   ]
  },
  {
   "cell_type": "code",
   "execution_count": 50,
   "metadata": {},
   "outputs": [
    {
     "data": {
      "text/plain": [
       "True"
      ]
     },
     "execution_count": 50,
     "metadata": {},
     "output_type": "execute_result"
    }
   ],
   "source": [
    "group_248 = df_august.query('experiment_id == 248')\n",
    "group_248.name = 'Группа 248'\n",
    "\n",
    "len(group_248) + len(group_247) + len(group_246) == len(df_august)"
   ]
  },
  {
   "cell_type": "markdown",
   "metadata": {},
   "source": [
    "Сравним результаты группы 248 с каждой из контрольных груп по каждому собыйтию."
   ]
  },
  {
   "cell_type": "markdown",
   "metadata": {},
   "source": [
    "Для начала сравним доли пользователей, совершивших определенное событие, в группах 246 и 248."
   ]
  },
  {
   "cell_type": "code",
   "execution_count": 51,
   "metadata": {},
   "outputs": [
    {
     "name": "stdout",
     "output_type": "stream",
     "text": [
      "Группа 246 : доля пользователей, совершивших действие main_screen_appear 98.63%\n",
      "Группа 248 : доля пользователей, совершивших действие main_screen_appear 98.27%\n",
      "\n",
      "Нулевая гипотеза: нет стат. значимой разницы между долями пользователей, совершивших действие main_screen_appear\n",
      "Альтернативная гипотеза: есть стат. значимая разница между долями пользователей, совершивших действие main_screen_appear\n",
      "\n",
      "p-значение:  0.2949721933554552\n",
      "Не получилось отвергнуть нулевую гипотезу, нет оснований считать доли разными\n",
      "Группа 246 : доля пользователей, совершивших действие offers_screen_appear 62.08%\n",
      "Группа 248 : доля пользователей, совершивших действие offers_screen_appear 60.35%\n",
      "\n",
      "Нулевая гипотеза: нет стат. значимой разницы между долями пользователей, совершивших действие offers_screen_appear\n",
      "Альтернативная гипотеза: есть стат. значимая разница между долями пользователей, совершивших действие offers_screen_appear\n",
      "\n",
      "p-значение:  0.20836205402738917\n",
      "Не получилось отвергнуть нулевую гипотезу, нет оснований считать доли разными\n",
      "Группа 246 : доля пользователей, совершивших действие cart_screen_appear 50.97%\n",
      "Группа 248 : доля пользователей, совершивших действие cart_screen_appear 48.48%\n",
      "\n",
      "Нулевая гипотеза: нет стат. значимой разницы между долями пользователей, совершивших действие cart_screen_appear\n",
      "Альтернативная гипотеза: есть стат. значимая разница между долями пользователей, совершивших действие cart_screen_appear\n",
      "\n",
      "p-значение:  0.07842923237520116\n",
      "Не получилось отвергнуть нулевую гипотезу, нет оснований считать доли разными\n",
      "Группа 246 : доля пользователей, совершивших действие payment_screen_successful 48.31%\n",
      "Группа 248 : доля пользователей, совершивших действие payment_screen_successful 46.55%\n",
      "\n",
      "Нулевая гипотеза: нет стат. значимой разницы между долями пользователей, совершивших действие payment_screen_successful\n",
      "Альтернативная гипотеза: есть стат. значимая разница между долями пользователей, совершивших действие payment_screen_successful\n",
      "\n",
      "p-значение:  0.2122553275697796\n",
      "Не получилось отвергнуть нулевую гипотезу, нет оснований считать доли разными\n"
     ]
    }
   ],
   "source": [
    "for i in events:\n",
    "    stat_diff_check(i, group_246, group_248)"
   ]
  },
  {
   "cell_type": "markdown",
   "metadata": {},
   "source": [
    "Сделаем такое же сравнение с группой 247."
   ]
  },
  {
   "cell_type": "code",
   "execution_count": 52,
   "metadata": {},
   "outputs": [
    {
     "name": "stdout",
     "output_type": "stream",
     "text": [
      "Группа 247 : доля пользователей, совершивших действие main_screen_appear 98.53%\n",
      "Группа 248 : доля пользователей, совершивших действие main_screen_appear 98.27%\n",
      "\n",
      "Нулевая гипотеза: нет стат. значимой разницы между долями пользователей, совершивших действие main_screen_appear\n",
      "Альтернативная гипотеза: есть стат. значимая разница между долями пользователей, совершивших действие main_screen_appear\n",
      "\n",
      "p-значение:  0.4587053616621515\n",
      "Не получилось отвергнуть нулевую гипотезу, нет оснований считать доли разными\n",
      "Группа 247 : доля пользователей, совершивших действие offers_screen_appear 60.49%\n",
      "Группа 248 : доля пользователей, совершивших действие offers_screen_appear 60.35%\n",
      "\n",
      "Нулевая гипотеза: нет стат. значимой разницы между долями пользователей, совершивших действие offers_screen_appear\n",
      "Альтернативная гипотеза: есть стат. значимая разница между долями пользователей, совершивших действие offers_screen_appear\n",
      "\n",
      "p-значение:  0.9197817830592261\n",
      "Не получилось отвергнуть нулевую гипотезу, нет оснований считать доли разными\n",
      "Группа 247 : доля пользователей, совершивших действие cart_screen_appear 49.26%\n",
      "Группа 248 : доля пользователей, совершивших действие cart_screen_appear 48.48%\n",
      "\n",
      "Нулевая гипотеза: нет стат. значимой разницы между долями пользователей, совершивших действие cart_screen_appear\n",
      "Альтернативная гипотеза: есть стат. значимая разница между долями пользователей, совершивших действие cart_screen_appear\n",
      "\n",
      "p-значение:  0.5786197879539783\n",
      "Не получилось отвергнуть нулевую гипотезу, нет оснований считать доли разными\n",
      "Группа 247 : доля пользователей, совершивших действие payment_screen_successful 46.08%\n",
      "Группа 248 : доля пользователей, совершивших действие payment_screen_successful 46.55%\n",
      "\n",
      "Нулевая гипотеза: нет стат. значимой разницы между долями пользователей, совершивших действие payment_screen_successful\n",
      "Альтернативная гипотеза: есть стат. значимая разница между долями пользователей, совершивших действие payment_screen_successful\n",
      "\n",
      "p-значение:  0.7373415053803964\n",
      "Не получилось отвергнуть нулевую гипотезу, нет оснований считать доли разными\n"
     ]
    }
   ],
   "source": [
    "for i in events:\n",
    "    stat_diff_check(i, group_247, group_248)"
   ]
  },
  {
   "cell_type": "markdown",
   "metadata": {},
   "source": [
    "Как мы видим, ни для одного из событий нет статистически значимой разницы в долях между экспериментальной группой и каждой из контрольных групп."
   ]
  },
  {
   "cell_type": "markdown",
   "metadata": {},
   "source": [
    "Теперь сравним экспериментальную группу с общей контрольной группой, создадим датафрейм, в котором будут храниться данные и по 246, и по 247 группам."
   ]
  },
  {
   "cell_type": "code",
   "execution_count": 53,
   "metadata": {},
   "outputs": [],
   "source": [
    "control_group = df_august.query('experiment_id != 248')\n",
    "control_group.name = 'Общая контрольная группа'"
   ]
  },
  {
   "cell_type": "code",
   "execution_count": 54,
   "metadata": {},
   "outputs": [
    {
     "name": "stdout",
     "output_type": "stream",
     "text": [
      "Общая контрольная группа : доля пользователей, совершивших действие main_screen_appear 98.58%\n",
      "Группа 248 : доля пользователей, совершивших действие main_screen_appear 98.27%\n",
      "\n",
      "Нулевая гипотеза: нет стат. значимой разницы между долями пользователей, совершивших действие main_screen_appear\n",
      "Альтернативная гипотеза: есть стат. значимая разница между долями пользователей, совершивших действие main_screen_appear\n",
      "\n",
      "p-значение:  0.29424526837179577\n",
      "Не получилось отвергнуть нулевую гипотезу, нет оснований считать доли разными\n",
      "Общая контрольная группа : доля пользователей, совершивших действие offers_screen_appear 61.28%\n",
      "Группа 248 : доля пользователей, совершивших действие offers_screen_appear 60.35%\n",
      "\n",
      "Нулевая гипотеза: нет стат. значимой разницы между долями пользователей, совершивших действие offers_screen_appear\n",
      "Альтернативная гипотеза: есть стат. значимая разница между долями пользователей, совершивших действие offers_screen_appear\n",
      "\n",
      "p-значение:  0.43425549655188256\n",
      "Не получилось отвергнуть нулевую гипотезу, нет оснований считать доли разными\n",
      "Общая контрольная группа : доля пользователей, совершивших действие cart_screen_appear 50.11%\n",
      "Группа 248 : доля пользователей, совершивших действие cart_screen_appear 48.48%\n",
      "\n",
      "Нулевая гипотеза: нет стат. значимой разницы между долями пользователей, совершивших действие cart_screen_appear\n",
      "Альтернативная гипотеза: есть стат. значимая разница между долями пользователей, совершивших действие cart_screen_appear\n",
      "\n",
      "p-значение:  0.18175875284404386\n",
      "Не получилось отвергнуть нулевую гипотезу, нет оснований считать доли разными\n",
      "Общая контрольная группа : доля пользователей, совершивших действие payment_screen_successful 47.19%\n",
      "Группа 248 : доля пользователей, совершивших действие payment_screen_successful 46.55%\n",
      "\n",
      "Нулевая гипотеза: нет стат. значимой разницы между долями пользователей, совершивших действие payment_screen_successful\n",
      "Альтернативная гипотеза: есть стат. значимая разница между долями пользователей, совершивших действие payment_screen_successful\n",
      "\n",
      "p-значение:  0.6004294282308704\n",
      "Не получилось отвергнуть нулевую гипотезу, нет оснований считать доли разными\n"
     ]
    }
   ],
   "source": [
    "for i in events:\n",
    "    stat_diff_check(i, control_group, group_248)"
   ]
  },
  {
   "cell_type": "markdown",
   "metadata": {},
   "source": [
    "Результаты сравнения объединенной контрольной группы с экспериментальной совпадают с предыдущими итогами сравнения экспериментальной группы с каждой из контрольных групп - нет статистически значимой разницы между долями пользователей, совершающих определенные собыйтия в разных группах."
   ]
  },
  {
   "cell_type": "markdown",
   "metadata": {},
   "source": [
    "В качестве критического уровня статистической значимости было выбрано значение 0.05, при этом была выполнена поправка Бонферрони для множественных тестов, так как для каждого события было осуществлено 4 попарных проверки (между 2 контрольными группами, между каждой из 2-х контрольных групп и экспериментальной группой, между экспериментальной группой и объединенной контрольной группой). "
   ]
  },
  {
   "cell_type": "markdown",
   "metadata": {},
   "source": [
    "### Вывод"
   ]
  },
  {
   "cell_type": "markdown",
   "metadata": {},
   "source": [
    "На данном шаге мы проверили, есть ли статистически значимая разница между контрольными группами, сравнив долю пользователей для каждого события. Разницы между контрольными группами выявлено не было, то есть разделение на группы было корректным.\n",
    "\n",
    "Также мы сравнили доли пользователей, совершивших определенное событие, в каждой из контрольной и экспериментальной группах. Статистически значимой разницы выявлено не было. \n",
    "\n",
    "Кроме того, было проведено сравнение долей между объединенной контрольной группой и экспериментальной группой. Здесь мы также не смогли отвергнуть нулевую гипотезу об отсутствии статистически значимой разницы между группами.\n",
    "\n",
    "Таким образом, мы не можем утверждать, что изменение шрифтов привело к какому-либо значимому изменению в конверсии пользователей."
   ]
  },
  {
   "cell_type": "markdown",
   "metadata": {},
   "source": [
    "## Шаг 5. Общие выводы"
   ]
  },
  {
   "cell_type": "markdown",
   "metadata": {},
   "source": [
    "Таким образом, в данном исследовании мы изучили, как ведут себя пользователи нашего мобильного приложения:\n",
    "\n",
    "1) Провели подготовку данных к анализу - удостоверились, что в данных отсуствуют пропуски, исключили дублирующиеся строки, заменили названия столбцов на более понятные\n",
    "\n",
    "2) Изучили, сколько в среднем событий совершает каждый из пользователей. Мы выяснили, что есть некоторое количество пользователей, совершивших аномально большое количество событий, из-за чего среднее значение количества действий значительно превышает медианное значение.\n",
    "\n",
    "3) Определили период для анализа - мы оставили наблюдения только за период с 1 по 7 августа 2019 г., так как данных за предыдущий временной промежуток оказалось значительно меньше, чем за первую неделю августа.\n",
    "\n",
    "4) Изучили воронку событий - определили, что последовательность событий следующая: просмотр главного экрана, просмотр предложений (товаров), просмотр корзины, успешная оплата. \n",
    "\n",
    "5) Выяснили, что больше всего пользователей (38%) уходят на этапе просмотра главного экрана\n",
    "\n",
    "6) Проверили корректность выделения контрольных групп - статистически значимой разницы между ними не оказалось, то есть разделение было корректным\n",
    "\n",
    "7) Сравнили доли пользователей для каждого действия в каждой из контрольной и экспериментальной группах, а также в объединенной контрольной и экспериментальной группах. Статистически значимой разницы найдено не было. Таким образом, изменение шрифта не привело к значимому изменению конверсии пользователей."
   ]
  }
 ],
 "metadata": {
  "kernelspec": {
   "display_name": "Python 3",
   "language": "python",
   "name": "python3"
  },
  "language_info": {
   "codemirror_mode": {
    "name": "ipython",
    "version": 3
   },
   "file_extension": ".py",
   "mimetype": "text/x-python",
   "name": "python",
   "nbconvert_exporter": "python",
   "pygments_lexer": "ipython3",
   "version": "3.7.9"
  },
  "toc": {
   "base_numbering": 1,
   "nav_menu": {},
   "number_sections": true,
   "sideBar": true,
   "skip_h1_title": true,
   "title_cell": "Table of Contents",
   "title_sidebar": "Contents",
   "toc_cell": false,
   "toc_position": {
    "height": "calc(100% - 180px)",
    "left": "10px",
    "top": "150px",
    "width": "394.988px"
   },
   "toc_section_display": true,
   "toc_window_display": false
  }
 },
 "nbformat": 4,
 "nbformat_minor": 2
}

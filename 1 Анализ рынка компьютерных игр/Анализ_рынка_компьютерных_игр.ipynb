{
 "cells": [
  {
   "cell_type": "markdown",
   "metadata": {},
   "source": [
    "# Исследование рынка компьютерных игр"
   ]
  },
  {
   "cell_type": "markdown",
   "metadata": {},
   "source": [
    "В данном исследовании мы будем анализировать данные о продажах игр, информацию об оценках пользователей и экспертов, жанрах и платформах до 2016 г. \n",
    "\n",
    "Сейчас декабрь 2016 г., и нам необходимо спланировать кампанию на 2017 г. для интернет-магазина \"Стримчик\", который продает компьютерные игры по всему миру. \n",
    "\n",
    "Цель исследования - выявить определающие успешность игр закономерности для планирования рекламных кампаний на 2017 г.\n",
    "\n",
    "Для этого необходимо выполнить следующие шаги:\n",
    "* определить динамику продаж игр по платформам \n",
    "* выделить наиболее перспективные платформы \n",
    "* изучить влияние оценок пользователей и критиков на продажи игр\n",
    "* исследовать распределение игр по жанрам \n",
    "* выделить самые прибыльные жанры\n",
    "* составить портрет пользователей по регионам (NA, EU, JP)"
   ]
  },
  {
   "cell_type": "markdown",
   "metadata": {},
   "source": [
    "**Навигация**:\n",
    "\n",
    "1. [Изучение общей информации о данных ](#1)\n",
    "2. [Предварительная обработка данных](#2)\n",
    "3. [Проведение исследовательского анализа данных](#3)\n",
    "4. [Составление портрета пользователей по регионам](#4)\n",
    "5. [Общий вывод](#6)"
   ]
  },
  {
   "cell_type": "markdown",
   "metadata": {},
   "source": [
    "## 1. Изучение общей информации о данных  <a id=\"1\"></a>"
   ]
  },
  {
   "cell_type": "markdown",
   "metadata": {},
   "source": [
    "### 1.1. Импорт библиотек и получение данных"
   ]
  },
  {
   "cell_type": "markdown",
   "metadata": {},
   "source": [
    "В первую очередь импортируем необходимые в работе библиотеки."
   ]
  },
  {
   "cell_type": "code",
   "execution_count": 1,
   "metadata": {},
   "outputs": [],
   "source": [
    "import pandas as pd\n",
    "import matplotlib.pyplot as plt\n",
    "from matplotlib import cm\n",
    "from scipy import stats as st\n",
    "import numpy as np"
   ]
  },
  {
   "cell_type": "markdown",
   "metadata": {},
   "source": [
    "Прочитаем файл с данными"
   ]
  },
  {
   "cell_type": "code",
   "execution_count": 2,
   "metadata": {},
   "outputs": [],
   "source": [
    "df = pd.read_csv('games.csv')"
   ]
  },
  {
   "cell_type": "markdown",
   "metadata": {},
   "source": [
    "### 1.2. Проверка корректности типов данных "
   ]
  },
  {
   "cell_type": "markdown",
   "metadata": {},
   "source": [
    "Рассмотрим общую информацию о данных с помощью методов head, info, также вычислим общее количество наблюдений в датасете и количество пропусков по каждому столбцу."
   ]
  },
  {
   "cell_type": "code",
   "execution_count": 3,
   "metadata": {},
   "outputs": [
    {
     "name": "stdout",
     "output_type": "stream",
     "text": [
      "Количество наблюдений в датасете: 16,715\n"
     ]
    }
   ],
   "source": [
    "print('Количество наблюдений в датасете: {:,}'.format(len(df)))"
   ]
  },
  {
   "cell_type": "code",
   "execution_count": 4,
   "metadata": {},
   "outputs": [
    {
     "name": "stdout",
     "output_type": "stream",
     "text": [
      "<class 'pandas.core.frame.DataFrame'>\n",
      "RangeIndex: 16715 entries, 0 to 16714\n",
      "Data columns (total 11 columns):\n",
      " #   Column           Non-Null Count  Dtype  \n",
      "---  ------           --------------  -----  \n",
      " 0   Name             16713 non-null  object \n",
      " 1   Platform         16715 non-null  object \n",
      " 2   Year_of_Release  16446 non-null  float64\n",
      " 3   Genre            16713 non-null  object \n",
      " 4   NA_sales         16715 non-null  float64\n",
      " 5   EU_sales         16715 non-null  float64\n",
      " 6   JP_sales         16715 non-null  float64\n",
      " 7   Other_sales      16715 non-null  float64\n",
      " 8   Critic_Score     8137 non-null   float64\n",
      " 9   User_Score       10014 non-null  object \n",
      " 10  Rating           9949 non-null   object \n",
      "dtypes: float64(6), object(5)\n",
      "memory usage: 1.4+ MB\n"
     ]
    }
   ],
   "source": [
    "df.info()"
   ]
  },
  {
   "cell_type": "code",
   "execution_count": 5,
   "metadata": {},
   "outputs": [
    {
     "data": {
      "text/html": [
       "<div>\n",
       "<style scoped>\n",
       "    .dataframe tbody tr th:only-of-type {\n",
       "        vertical-align: middle;\n",
       "    }\n",
       "\n",
       "    .dataframe tbody tr th {\n",
       "        vertical-align: top;\n",
       "    }\n",
       "\n",
       "    .dataframe thead th {\n",
       "        text-align: right;\n",
       "    }\n",
       "</style>\n",
       "<table border=\"1\" class=\"dataframe\">\n",
       "  <thead>\n",
       "    <tr style=\"text-align: right;\">\n",
       "      <th></th>\n",
       "      <th>Name</th>\n",
       "      <th>Platform</th>\n",
       "      <th>Year_of_Release</th>\n",
       "      <th>Genre</th>\n",
       "      <th>NA_sales</th>\n",
       "      <th>EU_sales</th>\n",
       "      <th>JP_sales</th>\n",
       "      <th>Other_sales</th>\n",
       "      <th>Critic_Score</th>\n",
       "      <th>User_Score</th>\n",
       "      <th>Rating</th>\n",
       "    </tr>\n",
       "  </thead>\n",
       "  <tbody>\n",
       "    <tr>\n",
       "      <th>0</th>\n",
       "      <td>Wii Sports</td>\n",
       "      <td>Wii</td>\n",
       "      <td>2006.0</td>\n",
       "      <td>Sports</td>\n",
       "      <td>41.36</td>\n",
       "      <td>28.96</td>\n",
       "      <td>3.77</td>\n",
       "      <td>8.45</td>\n",
       "      <td>76.0</td>\n",
       "      <td>8</td>\n",
       "      <td>E</td>\n",
       "    </tr>\n",
       "    <tr>\n",
       "      <th>1</th>\n",
       "      <td>Super Mario Bros.</td>\n",
       "      <td>NES</td>\n",
       "      <td>1985.0</td>\n",
       "      <td>Platform</td>\n",
       "      <td>29.08</td>\n",
       "      <td>3.58</td>\n",
       "      <td>6.81</td>\n",
       "      <td>0.77</td>\n",
       "      <td>NaN</td>\n",
       "      <td>NaN</td>\n",
       "      <td>NaN</td>\n",
       "    </tr>\n",
       "    <tr>\n",
       "      <th>2</th>\n",
       "      <td>Mario Kart Wii</td>\n",
       "      <td>Wii</td>\n",
       "      <td>2008.0</td>\n",
       "      <td>Racing</td>\n",
       "      <td>15.68</td>\n",
       "      <td>12.76</td>\n",
       "      <td>3.79</td>\n",
       "      <td>3.29</td>\n",
       "      <td>82.0</td>\n",
       "      <td>8.3</td>\n",
       "      <td>E</td>\n",
       "    </tr>\n",
       "    <tr>\n",
       "      <th>3</th>\n",
       "      <td>Wii Sports Resort</td>\n",
       "      <td>Wii</td>\n",
       "      <td>2009.0</td>\n",
       "      <td>Sports</td>\n",
       "      <td>15.61</td>\n",
       "      <td>10.93</td>\n",
       "      <td>3.28</td>\n",
       "      <td>2.95</td>\n",
       "      <td>80.0</td>\n",
       "      <td>8</td>\n",
       "      <td>E</td>\n",
       "    </tr>\n",
       "    <tr>\n",
       "      <th>4</th>\n",
       "      <td>Pokemon Red/Pokemon Blue</td>\n",
       "      <td>GB</td>\n",
       "      <td>1996.0</td>\n",
       "      <td>Role-Playing</td>\n",
       "      <td>11.27</td>\n",
       "      <td>8.89</td>\n",
       "      <td>10.22</td>\n",
       "      <td>1.00</td>\n",
       "      <td>NaN</td>\n",
       "      <td>NaN</td>\n",
       "      <td>NaN</td>\n",
       "    </tr>\n",
       "  </tbody>\n",
       "</table>\n",
       "</div>"
      ],
      "text/plain": [
       "                       Name Platform  Year_of_Release         Genre  NA_sales  \\\n",
       "0                Wii Sports      Wii           2006.0        Sports     41.36   \n",
       "1         Super Mario Bros.      NES           1985.0      Platform     29.08   \n",
       "2            Mario Kart Wii      Wii           2008.0        Racing     15.68   \n",
       "3         Wii Sports Resort      Wii           2009.0        Sports     15.61   \n",
       "4  Pokemon Red/Pokemon Blue       GB           1996.0  Role-Playing     11.27   \n",
       "\n",
       "   EU_sales  JP_sales  Other_sales  Critic_Score User_Score Rating  \n",
       "0     28.96      3.77         8.45          76.0          8      E  \n",
       "1      3.58      6.81         0.77           NaN        NaN    NaN  \n",
       "2     12.76      3.79         3.29          82.0        8.3      E  \n",
       "3     10.93      3.28         2.95          80.0          8      E  \n",
       "4      8.89     10.22         1.00           NaN        NaN    NaN  "
      ]
     },
     "execution_count": 5,
     "metadata": {},
     "output_type": "execute_result"
    }
   ],
   "source": [
    "df.head()"
   ]
  },
  {
   "cell_type": "markdown",
   "metadata": {},
   "source": [
    "В нашем датафреме содержатся 11 столбцов со следующими данными:\n",
    "\n",
    "* Name — название игры\n",
    "* Platform — платформа\n",
    "* Year_of_Release — год выпуска\n",
    "* Genre — жанр игры\n",
    "* NA_sales — продажи в Северной Америке (миллионы проданных копий)\n",
    "* EU_sales — продажи в Европе (миллионы проданных копий)\n",
    "* JP_sales — продажи в Японии (миллионы проданных копий)\n",
    "* Other_sales — продажи в других странах (миллионы проданных копий)\n",
    "* Critic_Score — оценка критиков (максимум 100)\n",
    "* User_Score — оценка пользователей (максимум 10)\n",
    "* Rating — рейтинг от организации ESRB.Эта ассоциация определяет рейтинг компьютерных игр и присваивает им подходящую возрастную категорию.\n",
    "\n",
    "\n",
    "Рассмотрим также **типы данных** по столбцам. \n",
    "* Столбцы **'Name', 'Platform', 'Genre', 'Rating'** хранят **строковые значения**. Тип данных корректен. \n",
    "* В столбце **'User_score'** также хранятся **строковые значения**. В дальнейшем заменим их на вещественный тип данных. \n",
    "* В столбцах с даннымы о продажах - **NA_sales, EU_sales, JP_sales, Other_sales** - хранится **вещественный тип данных**. Значения в этих столбцах выражены в млн. копий, соответственно знаки после запятой обозначают сотни тысяч проданных копий, поэтому округлять значения и менять тип данных на целочисленный некорректно. Оставим в данных столбцах текущий тип данных.\n",
    "* В столбцах **'Year_of_Release', 'Critic_Score'** также хранится **вещественный тип данных**. Заменим данные в столбце 'Yesr_of_Release' на целочисленный тип. Также проверим, какие именно значения могут применять оценки в столбце 'Critic_Score', и, если дробная часть во всех наблюдениях равна нулю, также заменим тип данных на целочисленный."
   ]
  },
  {
   "cell_type": "markdown",
   "metadata": {},
   "source": [
    "### 1.3. Изучение количества пропусков"
   ]
  },
  {
   "cell_type": "markdown",
   "metadata": {},
   "source": [
    "Изучив общую информацию по датафрейму, мы видим, что в столбцах с данными о названии игры, годом выпуска, жанром, оценкой критиков и пользователей, а также рейтингом от ESRB есть пропуски. Рассмотрим количество пропусков в каждом из столбцов:"
   ]
  },
  {
   "cell_type": "code",
   "execution_count": 6,
   "metadata": {},
   "outputs": [
    {
     "data": {
      "text/plain": [
       "Name                  2\n",
       "Platform              0\n",
       "Year_of_Release     269\n",
       "Genre                 2\n",
       "NA_sales              0\n",
       "EU_sales              0\n",
       "JP_sales              0\n",
       "Other_sales           0\n",
       "Critic_Score       8578\n",
       "User_Score         6701\n",
       "Rating             6766\n",
       "dtype: int64"
      ]
     },
     "execution_count": 6,
     "metadata": {},
     "output_type": "execute_result"
    }
   ],
   "source": [
    "df.isna().sum()"
   ]
  },
  {
   "cell_type": "markdown",
   "metadata": {},
   "source": [
    "Мы видим, что больше всего пропусков в данных об оценках критиков, оценках пользователей и рейтинге ESRB."
   ]
  },
  {
   "cell_type": "markdown",
   "metadata": {},
   "source": [
    "### Вывод\n",
    "\n",
    "Изучив общую информацию по датафрейму, мы выяснили, что данные требуют дальнейшей обработки: замены данных в некоторых столбцах, изучения пропущенных значений. Больше всего пропусков наблюдается в столбцах с рейтингом ESBR и оценками пользователей и критиков, в дальнейшем нам предстоит изучить, в связи с чем могли возникнуть данные пропуски и решить, можем ли мы их заполнить."
   ]
  },
  {
   "cell_type": "markdown",
   "metadata": {},
   "source": [
    "## 2. Предварительная обработка данных <a id=\"2\"></a>"
   ]
  },
  {
   "cell_type": "markdown",
   "metadata": {},
   "source": [
    "### 2.1. Изменение названий столбцов"
   ]
  },
  {
   "cell_type": "markdown",
   "metadata": {},
   "source": [
    "В первую очередь приведем названия столбцов к нижнему регистру для удобства чтения их названий."
   ]
  },
  {
   "cell_type": "code",
   "execution_count": 7,
   "metadata": {},
   "outputs": [],
   "source": [
    "df.columns = df.columns.str.lower()"
   ]
  },
  {
   "cell_type": "markdown",
   "metadata": {},
   "source": [
    "Также переименуем столбец 'rating' в 'esrb_age_rating', чтобы интуитивно было понятно, какие данные хранятся в этом столбце."
   ]
  },
  {
   "cell_type": "code",
   "execution_count": 8,
   "metadata": {},
   "outputs": [],
   "source": [
    "df = df.rename(columns={df.columns[-1]: 'esrb_age_rating'})"
   ]
  },
  {
   "cell_type": "markdown",
   "metadata": {},
   "source": [
    "Посмотрим, каким образом теперь выглядят столбцы в нашем датафрейме:"
   ]
  },
  {
   "cell_type": "code",
   "execution_count": 9,
   "metadata": {},
   "outputs": [
    {
     "data": {
      "text/plain": [
       "Index(['name', 'platform', 'year_of_release', 'genre', 'na_sales', 'eu_sales',\n",
       "       'jp_sales', 'other_sales', 'critic_score', 'user_score',\n",
       "       'esrb_age_rating'],\n",
       "      dtype='object')"
      ]
     },
     "execution_count": 9,
     "metadata": {},
     "output_type": "execute_result"
    }
   ],
   "source": [
    "df.columns"
   ]
  },
  {
   "cell_type": "markdown",
   "metadata": {},
   "source": [
    "Мы удостоверились, что изменение названий столбцов произошло успешно."
   ]
  },
  {
   "cell_type": "markdown",
   "metadata": {},
   "source": [
    "### 2.2. Изучение пропусков"
   ]
  },
  {
   "cell_type": "markdown",
   "metadata": {},
   "source": [
    "Ранее мы выяснили, что столбцах с данными о названии игры, годом выпуска, жанром, оценкой критиков и пользователей, а также рейтингом от ESRB есть пропуски. \n",
    "\n",
    "Однако в столбцах с **названием и жанром** таких пропусков всего два. Посмотрим, в каких играх не указано название жанра."
   ]
  },
  {
   "cell_type": "code",
   "execution_count": 10,
   "metadata": {},
   "outputs": [
    {
     "data": {
      "text/html": [
       "<div>\n",
       "<style scoped>\n",
       "    .dataframe tbody tr th:only-of-type {\n",
       "        vertical-align: middle;\n",
       "    }\n",
       "\n",
       "    .dataframe tbody tr th {\n",
       "        vertical-align: top;\n",
       "    }\n",
       "\n",
       "    .dataframe thead th {\n",
       "        text-align: right;\n",
       "    }\n",
       "</style>\n",
       "<table border=\"1\" class=\"dataframe\">\n",
       "  <thead>\n",
       "    <tr style=\"text-align: right;\">\n",
       "      <th></th>\n",
       "      <th>name</th>\n",
       "      <th>platform</th>\n",
       "      <th>year_of_release</th>\n",
       "      <th>genre</th>\n",
       "      <th>na_sales</th>\n",
       "      <th>eu_sales</th>\n",
       "      <th>jp_sales</th>\n",
       "      <th>other_sales</th>\n",
       "      <th>critic_score</th>\n",
       "      <th>user_score</th>\n",
       "      <th>esrb_age_rating</th>\n",
       "    </tr>\n",
       "  </thead>\n",
       "  <tbody>\n",
       "    <tr>\n",
       "      <th>659</th>\n",
       "      <td>NaN</td>\n",
       "      <td>GEN</td>\n",
       "      <td>1993.0</td>\n",
       "      <td>NaN</td>\n",
       "      <td>1.78</td>\n",
       "      <td>0.53</td>\n",
       "      <td>0.00</td>\n",
       "      <td>0.08</td>\n",
       "      <td>NaN</td>\n",
       "      <td>NaN</td>\n",
       "      <td>NaN</td>\n",
       "    </tr>\n",
       "    <tr>\n",
       "      <th>14244</th>\n",
       "      <td>NaN</td>\n",
       "      <td>GEN</td>\n",
       "      <td>1993.0</td>\n",
       "      <td>NaN</td>\n",
       "      <td>0.00</td>\n",
       "      <td>0.00</td>\n",
       "      <td>0.03</td>\n",
       "      <td>0.00</td>\n",
       "      <td>NaN</td>\n",
       "      <td>NaN</td>\n",
       "      <td>NaN</td>\n",
       "    </tr>\n",
       "  </tbody>\n",
       "</table>\n",
       "</div>"
      ],
      "text/plain": [
       "      name platform  year_of_release genre  na_sales  eu_sales  jp_sales  \\\n",
       "659    NaN      GEN           1993.0   NaN      1.78      0.53      0.00   \n",
       "14244  NaN      GEN           1993.0   NaN      0.00      0.00      0.03   \n",
       "\n",
       "       other_sales  critic_score user_score esrb_age_rating  \n",
       "659           0.08           NaN        NaN             NaN  \n",
       "14244         0.00           NaN        NaN             NaN  "
      ]
     },
     "execution_count": 10,
     "metadata": {},
     "output_type": "execute_result"
    }
   ],
   "source": [
    "df[df['name'].isna()]"
   ]
  },
  {
   "cell_type": "markdown",
   "metadata": {},
   "source": [
    "Мы видим, что 2 игры, у которых нет названия, и 2 игры, у которых не указан жанр, это одинаковые игры. У них также отсуствует информация об оценках критиков, пользователей, рейтинг по возрасту, а суммы продаж минимальны. По этим наблюдениям нельзя идентифицировать конкретные игры, поэтому мы можем исключить эти две записи."
   ]
  },
  {
   "cell_type": "code",
   "execution_count": 11,
   "metadata": {},
   "outputs": [],
   "source": [
    "df.dropna(subset=['name', 'genre'], inplace=True)"
   ]
  },
  {
   "cell_type": "markdown",
   "metadata": {},
   "source": [
    "Далее изучим пропуски в столбце с **годом релиза игры**."
   ]
  },
  {
   "cell_type": "code",
   "execution_count": 12,
   "metadata": {},
   "outputs": [
    {
     "data": {
      "text/html": [
       "<div>\n",
       "<style scoped>\n",
       "    .dataframe tbody tr th:only-of-type {\n",
       "        vertical-align: middle;\n",
       "    }\n",
       "\n",
       "    .dataframe tbody tr th {\n",
       "        vertical-align: top;\n",
       "    }\n",
       "\n",
       "    .dataframe thead th {\n",
       "        text-align: right;\n",
       "    }\n",
       "</style>\n",
       "<table border=\"1\" class=\"dataframe\">\n",
       "  <thead>\n",
       "    <tr style=\"text-align: right;\">\n",
       "      <th></th>\n",
       "      <th>name</th>\n",
       "      <th>platform</th>\n",
       "      <th>year_of_release</th>\n",
       "      <th>genre</th>\n",
       "      <th>na_sales</th>\n",
       "      <th>eu_sales</th>\n",
       "      <th>jp_sales</th>\n",
       "      <th>other_sales</th>\n",
       "      <th>critic_score</th>\n",
       "      <th>user_score</th>\n",
       "      <th>esrb_age_rating</th>\n",
       "    </tr>\n",
       "  </thead>\n",
       "  <tbody>\n",
       "    <tr>\n",
       "      <th>183</th>\n",
       "      <td>Madden NFL 2004</td>\n",
       "      <td>PS2</td>\n",
       "      <td>NaN</td>\n",
       "      <td>Sports</td>\n",
       "      <td>4.26</td>\n",
       "      <td>0.26</td>\n",
       "      <td>0.01</td>\n",
       "      <td>0.71</td>\n",
       "      <td>94.0</td>\n",
       "      <td>8.5</td>\n",
       "      <td>E</td>\n",
       "    </tr>\n",
       "    <tr>\n",
       "      <th>377</th>\n",
       "      <td>FIFA Soccer 2004</td>\n",
       "      <td>PS2</td>\n",
       "      <td>NaN</td>\n",
       "      <td>Sports</td>\n",
       "      <td>0.59</td>\n",
       "      <td>2.36</td>\n",
       "      <td>0.04</td>\n",
       "      <td>0.51</td>\n",
       "      <td>84.0</td>\n",
       "      <td>6.4</td>\n",
       "      <td>E</td>\n",
       "    </tr>\n",
       "    <tr>\n",
       "      <th>456</th>\n",
       "      <td>LEGO Batman: The Videogame</td>\n",
       "      <td>Wii</td>\n",
       "      <td>NaN</td>\n",
       "      <td>Action</td>\n",
       "      <td>1.80</td>\n",
       "      <td>0.97</td>\n",
       "      <td>0.00</td>\n",
       "      <td>0.29</td>\n",
       "      <td>74.0</td>\n",
       "      <td>7.9</td>\n",
       "      <td>E10+</td>\n",
       "    </tr>\n",
       "    <tr>\n",
       "      <th>475</th>\n",
       "      <td>wwe Smackdown vs. Raw 2006</td>\n",
       "      <td>PS2</td>\n",
       "      <td>NaN</td>\n",
       "      <td>Fighting</td>\n",
       "      <td>1.57</td>\n",
       "      <td>1.02</td>\n",
       "      <td>0.00</td>\n",
       "      <td>0.41</td>\n",
       "      <td>NaN</td>\n",
       "      <td>NaN</td>\n",
       "      <td>NaN</td>\n",
       "    </tr>\n",
       "    <tr>\n",
       "      <th>609</th>\n",
       "      <td>Space Invaders</td>\n",
       "      <td>2600</td>\n",
       "      <td>NaN</td>\n",
       "      <td>Shooter</td>\n",
       "      <td>2.36</td>\n",
       "      <td>0.14</td>\n",
       "      <td>0.00</td>\n",
       "      <td>0.03</td>\n",
       "      <td>NaN</td>\n",
       "      <td>NaN</td>\n",
       "      <td>NaN</td>\n",
       "    </tr>\n",
       "  </tbody>\n",
       "</table>\n",
       "</div>"
      ],
      "text/plain": [
       "                           name platform  year_of_release     genre  na_sales  \\\n",
       "183             Madden NFL 2004      PS2              NaN    Sports      4.26   \n",
       "377            FIFA Soccer 2004      PS2              NaN    Sports      0.59   \n",
       "456  LEGO Batman: The Videogame      Wii              NaN    Action      1.80   \n",
       "475  wwe Smackdown vs. Raw 2006      PS2              NaN  Fighting      1.57   \n",
       "609              Space Invaders     2600              NaN   Shooter      2.36   \n",
       "\n",
       "     eu_sales  jp_sales  other_sales  critic_score user_score esrb_age_rating  \n",
       "183      0.26      0.01         0.71          94.0        8.5               E  \n",
       "377      2.36      0.04         0.51          84.0        6.4               E  \n",
       "456      0.97      0.00         0.29          74.0        7.9            E10+  \n",
       "475      1.02      0.00         0.41           NaN        NaN             NaN  \n",
       "609      0.14      0.00         0.03           NaN        NaN             NaN  "
      ]
     },
     "execution_count": 12,
     "metadata": {},
     "output_type": "execute_result"
    }
   ],
   "source": [
    "df[df['year_of_release'].isna()].head()"
   ]
  },
  {
   "cell_type": "markdown",
   "metadata": {},
   "source": [
    "Мы видим, что в некоторых играх, у которых не указан год выпуска, есть какой-то год в самом названии. Возможно, мы могли бы извлечь год из названия таких игр и таким образом заполнить хотя бы часть пропусков. \n",
    "\n",
    "Извлечем последний элемент из названия игры (предположительно год выпуска) и сравним его с годом выпуска у тех игр, у которых он указан. Для сравнения выберем 2016 г."
   ]
  },
  {
   "cell_type": "code",
   "execution_count": 13,
   "metadata": {},
   "outputs": [
    {
     "data": {
      "text/html": [
       "<div>\n",
       "<style scoped>\n",
       "    .dataframe tbody tr th:only-of-type {\n",
       "        vertical-align: middle;\n",
       "    }\n",
       "\n",
       "    .dataframe tbody tr th {\n",
       "        vertical-align: top;\n",
       "    }\n",
       "\n",
       "    .dataframe thead th {\n",
       "        text-align: right;\n",
       "    }\n",
       "</style>\n",
       "<table border=\"1\" class=\"dataframe\">\n",
       "  <thead>\n",
       "    <tr style=\"text-align: right;\">\n",
       "      <th></th>\n",
       "      <th>name</th>\n",
       "      <th>platform</th>\n",
       "      <th>year_of_release</th>\n",
       "      <th>genre</th>\n",
       "      <th>na_sales</th>\n",
       "      <th>eu_sales</th>\n",
       "      <th>jp_sales</th>\n",
       "      <th>other_sales</th>\n",
       "      <th>critic_score</th>\n",
       "      <th>user_score</th>\n",
       "      <th>esrb_age_rating</th>\n",
       "      <th>year_splitted</th>\n",
       "    </tr>\n",
       "  </thead>\n",
       "  <tbody>\n",
       "    <tr>\n",
       "      <th>2179</th>\n",
       "      <td>Just Dance 2016</td>\n",
       "      <td>Wii</td>\n",
       "      <td>2015.0</td>\n",
       "      <td>Misc</td>\n",
       "      <td>0.41</td>\n",
       "      <td>0.46</td>\n",
       "      <td>0.00</td>\n",
       "      <td>0.08</td>\n",
       "      <td>NaN</td>\n",
       "      <td>tbd</td>\n",
       "      <td>E10+</td>\n",
       "      <td>2016</td>\n",
       "    </tr>\n",
       "    <tr>\n",
       "      <th>2600</th>\n",
       "      <td>Pro Evolution Soccer 2016</td>\n",
       "      <td>PS4</td>\n",
       "      <td>2015.0</td>\n",
       "      <td>Sports</td>\n",
       "      <td>0.13</td>\n",
       "      <td>0.42</td>\n",
       "      <td>0.13</td>\n",
       "      <td>0.10</td>\n",
       "      <td>87.0</td>\n",
       "      <td>7.1</td>\n",
       "      <td>E</td>\n",
       "      <td>2016</td>\n",
       "    </tr>\n",
       "    <tr>\n",
       "      <th>3537</th>\n",
       "      <td>Just Dance 2016</td>\n",
       "      <td>WiiU</td>\n",
       "      <td>2015.0</td>\n",
       "      <td>Misc</td>\n",
       "      <td>0.27</td>\n",
       "      <td>0.25</td>\n",
       "      <td>0.00</td>\n",
       "      <td>0.05</td>\n",
       "      <td>73.0</td>\n",
       "      <td>6.9</td>\n",
       "      <td>E10+</td>\n",
       "      <td>2016</td>\n",
       "    </tr>\n",
       "    <tr>\n",
       "      <th>4836</th>\n",
       "      <td>Pro Evolution Soccer 2016</td>\n",
       "      <td>PS3</td>\n",
       "      <td>2015.0</td>\n",
       "      <td>Sports</td>\n",
       "      <td>0.09</td>\n",
       "      <td>0.12</td>\n",
       "      <td>0.15</td>\n",
       "      <td>0.04</td>\n",
       "      <td>NaN</td>\n",
       "      <td>7.2</td>\n",
       "      <td>E</td>\n",
       "      <td>2016</td>\n",
       "    </tr>\n",
       "    <tr>\n",
       "      <th>5215</th>\n",
       "      <td>Just Dance 2016</td>\n",
       "      <td>PS4</td>\n",
       "      <td>2015.0</td>\n",
       "      <td>Misc</td>\n",
       "      <td>0.17</td>\n",
       "      <td>0.13</td>\n",
       "      <td>0.00</td>\n",
       "      <td>0.06</td>\n",
       "      <td>73.0</td>\n",
       "      <td>6.8</td>\n",
       "      <td>E10+</td>\n",
       "      <td>2016</td>\n",
       "    </tr>\n",
       "  </tbody>\n",
       "</table>\n",
       "</div>"
      ],
      "text/plain": [
       "                           name platform  year_of_release   genre  na_sales  \\\n",
       "2179            Just Dance 2016      Wii           2015.0    Misc      0.41   \n",
       "2600  Pro Evolution Soccer 2016      PS4           2015.0  Sports      0.13   \n",
       "3537            Just Dance 2016     WiiU           2015.0    Misc      0.27   \n",
       "4836  Pro Evolution Soccer 2016      PS3           2015.0  Sports      0.09   \n",
       "5215            Just Dance 2016      PS4           2015.0    Misc      0.17   \n",
       "\n",
       "      eu_sales  jp_sales  other_sales  critic_score user_score  \\\n",
       "2179      0.46      0.00         0.08           NaN        tbd   \n",
       "2600      0.42      0.13         0.10          87.0        7.1   \n",
       "3537      0.25      0.00         0.05          73.0        6.9   \n",
       "4836      0.12      0.15         0.04           NaN        7.2   \n",
       "5215      0.13      0.00         0.06          73.0        6.8   \n",
       "\n",
       "     esrb_age_rating year_splitted  \n",
       "2179            E10+          2016  \n",
       "2600               E          2016  \n",
       "3537            E10+          2016  \n",
       "4836               E          2016  \n",
       "5215            E10+          2016  "
      ]
     },
     "execution_count": 13,
     "metadata": {},
     "output_type": "execute_result"
    }
   ],
   "source": [
    "df['year_splitted'] = df['name'].apply(lambda x: str(x).split()[-1])\n",
    "df.loc[df['year_splitted'] == '2016'].head()"
   ]
  },
  {
   "cell_type": "markdown",
   "metadata": {},
   "source": [
    "Мы видим, что не во всех играх год, указанный в названии, совпадает с годом релиза на определенной платформе. Изучив дополнительную информацию в интернете, мы выяснили, что спортивные симуляторы, в число которых например входит UEFA, Just Dance, как правило, выходят на год раньше, чем обозначено в названии. Поэтому год в названии игры не совпадает с реальным годом релиза.\n",
    "\n",
    "Тем не менее, хотелось бы привести тип данных в столбце с годами к целочисленному типу, а мы не можем это сделать, если в столбце есть пропущенные значения.\n",
    "\n",
    "Так как доля пропущенных значений по годам не такая большая (269 / 16 715, то есть ~1,6%), кроме того, в дальнейшем мы будем анализировать только актуальный времеменной период, поэтому нам понадобятся только наблюдения с известными годами, исключим наблюдения с пропущенными значениями по параметру \"год выпуска\"."
   ]
  },
  {
   "cell_type": "code",
   "execution_count": 14,
   "metadata": {},
   "outputs": [],
   "source": [
    "df.dropna(subset=['year_of_release'], inplace=True)"
   ]
  },
  {
   "cell_type": "markdown",
   "metadata": {},
   "source": [
    "Также удалим столбец 'year_splitted', т.к. в дальнешейм он нам не понадобится."
   ]
  },
  {
   "cell_type": "code",
   "execution_count": 15,
   "metadata": {},
   "outputs": [],
   "source": [
    "df = df.drop('year_splitted', axis=1)"
   ]
  },
  {
   "cell_type": "markdown",
   "metadata": {},
   "source": [
    "Проверим, что пропущенные значения в информации о годах были заменены, а строки с пропущенными названиями и жанрами игр удалены."
   ]
  },
  {
   "cell_type": "code",
   "execution_count": 16,
   "metadata": {},
   "outputs": [
    {
     "data": {
      "text/plain": [
       "name                  0\n",
       "platform              0\n",
       "year_of_release       0\n",
       "genre                 0\n",
       "na_sales              0\n",
       "eu_sales              0\n",
       "jp_sales              0\n",
       "other_sales           0\n",
       "critic_score       8461\n",
       "user_score         6605\n",
       "esrb_age_rating    6676\n",
       "dtype: int64"
      ]
     },
     "execution_count": 16,
     "metadata": {},
     "output_type": "execute_result"
    }
   ],
   "source": [
    "df.isna().sum()"
   ]
  },
  {
   "cell_type": "markdown",
   "metadata": {},
   "source": [
    "Теперь нам предстоит изучить пропуски в данных с **оценками критиков и пользователей и рейтингом по возрасту**.\n",
    "\n",
    "Рассмотрим, какие значения встречаются среди **оценок критиков**."
   ]
  },
  {
   "cell_type": "code",
   "execution_count": 17,
   "metadata": {},
   "outputs": [
    {
     "data": {
      "text/plain": [
       "array([76., nan, 82., 80., 89., 58., 87., 91., 61., 97., 95., 77., 88.,\n",
       "       83., 94., 93., 85., 86., 98., 96., 90., 84., 73., 74., 78., 92.,\n",
       "       71., 72., 68., 62., 49., 67., 81., 66., 56., 79., 70., 59., 64.,\n",
       "       75., 60., 63., 69., 50., 25., 42., 44., 55., 48., 57., 29., 47.,\n",
       "       65., 54., 20., 53., 37., 38., 33., 52., 30., 32., 43., 45., 51.,\n",
       "       40., 46., 39., 34., 41., 36., 31., 27., 35., 26., 19., 28., 23.,\n",
       "       24., 21., 17., 13.])"
      ]
     },
     "execution_count": 17,
     "metadata": {},
     "output_type": "execute_result"
    }
   ],
   "source": [
    "df['critic_score'].unique()"
   ]
  },
  {
   "cell_type": "markdown",
   "metadata": {},
   "source": [
    "Мы видим, что все встречающиеся значения не имеют дробной части, поэтому мы могли бы заменить их на целочисленный тип данных, но нам мешает наличие пропусков. \n",
    "\n",
    "Здесь замена пропусков на нули будет некорректной, потому что может в дальнейшем повлиять на выводы о зависимостях, диаграммы. Исключить нули в дальнейшем мы не сможем, т.к. есть игры у которых оценка критиков действительно ноль. Предположить, какой мог быть рейтинг у игры мы тоже не можем, т.к. оценка это субъективная характеристика. Вероятно, пропущены значения у тех игр, которые критики просто не оценивали. Чтобы привести столбец к целочисленному типу, заменим пропущенные значения на определенный маркер, который в дальнейшем мы просто исключим из рассчетов. Маркером будет число 999 (таких реальных оценок не может быть, т.к. они вариируются от 0 до 100)"
   ]
  },
  {
   "cell_type": "code",
   "execution_count": 18,
   "metadata": {},
   "outputs": [],
   "source": [
    "df['critic_score'] = df['critic_score'].fillna(999)"
   ]
  },
  {
   "cell_type": "markdown",
   "metadata": {},
   "source": [
    "Рассмотрим уникальные значения и по **оценкам пользователей**."
   ]
  },
  {
   "cell_type": "code",
   "execution_count": 19,
   "metadata": {},
   "outputs": [
    {
     "data": {
      "text/plain": [
       "array(['8', nan, '8.3', '8.5', '6.6', '8.4', '8.6', '7.7', '6.3', '7.4',\n",
       "       '8.2', '9', '7.9', '8.1', '8.7', '7.1', '3.4', '5.3', '4.8', '3.2',\n",
       "       '8.9', '6.4', '7.8', '7.5', '2.6', '7.2', '9.2', '7', '7.3', '4.3',\n",
       "       '7.6', '5.7', '5', '9.1', '6.5', 'tbd', '8.8', '6.9', '9.4', '6.8',\n",
       "       '6.1', '6.7', '5.4', '4', '4.9', '4.5', '9.3', '6.2', '4.2', '6',\n",
       "       '3.7', '4.1', '5.8', '5.6', '5.5', '4.4', '4.6', '5.9', '3.9',\n",
       "       '3.1', '2.9', '5.2', '3.3', '4.7', '5.1', '3.5', '2.5', '1.9', '3',\n",
       "       '2.7', '2.2', '2', '9.5', '2.1', '3.6', '2.8', '1.8', '3.8', '0',\n",
       "       '1.6', '9.6', '2.4', '1.7', '1.1', '0.3', '1.5', '0.7', '1.2',\n",
       "       '2.3', '0.5', '1.3', '0.2', '0.6', '1.4', '0.9', '1', '9.7'],\n",
       "      dtype=object)"
      ]
     },
     "execution_count": 19,
     "metadata": {},
     "output_type": "execute_result"
    }
   ],
   "source": [
    "df['user_score'].unique()"
   ]
  },
  {
   "cell_type": "markdown",
   "metadata": {},
   "source": [
    "В списке оценок пользователей кроме пропущенных значений из необычных явлений встречается текстовое значение 'tbd' (to be determined - будет определено позднее), из-за которого тип данных в этом столбце является строковым. Изучим, у каких игр в качестве оценки указано 'tbd'"
   ]
  },
  {
   "cell_type": "code",
   "execution_count": 20,
   "metadata": {},
   "outputs": [
    {
     "data": {
      "text/html": [
       "<div>\n",
       "<style scoped>\n",
       "    .dataframe tbody tr th:only-of-type {\n",
       "        vertical-align: middle;\n",
       "    }\n",
       "\n",
       "    .dataframe tbody tr th {\n",
       "        vertical-align: top;\n",
       "    }\n",
       "\n",
       "    .dataframe thead th {\n",
       "        text-align: right;\n",
       "    }\n",
       "</style>\n",
       "<table border=\"1\" class=\"dataframe\">\n",
       "  <thead>\n",
       "    <tr style=\"text-align: right;\">\n",
       "      <th></th>\n",
       "      <th>name</th>\n",
       "      <th>platform</th>\n",
       "      <th>year_of_release</th>\n",
       "      <th>genre</th>\n",
       "      <th>na_sales</th>\n",
       "      <th>eu_sales</th>\n",
       "      <th>jp_sales</th>\n",
       "      <th>other_sales</th>\n",
       "      <th>critic_score</th>\n",
       "      <th>user_score</th>\n",
       "      <th>esrb_age_rating</th>\n",
       "    </tr>\n",
       "  </thead>\n",
       "  <tbody>\n",
       "    <tr>\n",
       "      <th>119</th>\n",
       "      <td>Zumba Fitness</td>\n",
       "      <td>Wii</td>\n",
       "      <td>2010.0</td>\n",
       "      <td>Sports</td>\n",
       "      <td>3.45</td>\n",
       "      <td>2.59</td>\n",
       "      <td>0.0</td>\n",
       "      <td>0.66</td>\n",
       "      <td>999.0</td>\n",
       "      <td>tbd</td>\n",
       "      <td>E</td>\n",
       "    </tr>\n",
       "    <tr>\n",
       "      <th>301</th>\n",
       "      <td>Namco Museum: 50th Anniversary</td>\n",
       "      <td>PS2</td>\n",
       "      <td>2005.0</td>\n",
       "      <td>Misc</td>\n",
       "      <td>2.08</td>\n",
       "      <td>1.35</td>\n",
       "      <td>0.0</td>\n",
       "      <td>0.54</td>\n",
       "      <td>61.0</td>\n",
       "      <td>tbd</td>\n",
       "      <td>E10+</td>\n",
       "    </tr>\n",
       "    <tr>\n",
       "      <th>520</th>\n",
       "      <td>Zumba Fitness 2</td>\n",
       "      <td>Wii</td>\n",
       "      <td>2011.0</td>\n",
       "      <td>Sports</td>\n",
       "      <td>1.51</td>\n",
       "      <td>1.03</td>\n",
       "      <td>0.0</td>\n",
       "      <td>0.27</td>\n",
       "      <td>999.0</td>\n",
       "      <td>tbd</td>\n",
       "      <td>T</td>\n",
       "    </tr>\n",
       "    <tr>\n",
       "      <th>645</th>\n",
       "      <td>uDraw Studio</td>\n",
       "      <td>Wii</td>\n",
       "      <td>2010.0</td>\n",
       "      <td>Misc</td>\n",
       "      <td>1.65</td>\n",
       "      <td>0.57</td>\n",
       "      <td>0.0</td>\n",
       "      <td>0.20</td>\n",
       "      <td>71.0</td>\n",
       "      <td>tbd</td>\n",
       "      <td>E</td>\n",
       "    </tr>\n",
       "    <tr>\n",
       "      <th>718</th>\n",
       "      <td>Just Dance Kids</td>\n",
       "      <td>Wii</td>\n",
       "      <td>2010.0</td>\n",
       "      <td>Misc</td>\n",
       "      <td>1.52</td>\n",
       "      <td>0.54</td>\n",
       "      <td>0.0</td>\n",
       "      <td>0.18</td>\n",
       "      <td>999.0</td>\n",
       "      <td>tbd</td>\n",
       "      <td>E</td>\n",
       "    </tr>\n",
       "  </tbody>\n",
       "</table>\n",
       "</div>"
      ],
      "text/plain": [
       "                               name platform  year_of_release   genre  \\\n",
       "119                   Zumba Fitness      Wii           2010.0  Sports   \n",
       "301  Namco Museum: 50th Anniversary      PS2           2005.0    Misc   \n",
       "520                 Zumba Fitness 2      Wii           2011.0  Sports   \n",
       "645                    uDraw Studio      Wii           2010.0    Misc   \n",
       "718                 Just Dance Kids      Wii           2010.0    Misc   \n",
       "\n",
       "     na_sales  eu_sales  jp_sales  other_sales  critic_score user_score  \\\n",
       "119      3.45      2.59       0.0         0.66         999.0        tbd   \n",
       "301      2.08      1.35       0.0         0.54          61.0        tbd   \n",
       "520      1.51      1.03       0.0         0.27         999.0        tbd   \n",
       "645      1.65      0.57       0.0         0.20          71.0        tbd   \n",
       "718      1.52      0.54       0.0         0.18         999.0        tbd   \n",
       "\n",
       "    esrb_age_rating  \n",
       "119               E  \n",
       "301            E10+  \n",
       "520               T  \n",
       "645               E  \n",
       "718               E  "
      ]
     },
     "execution_count": 20,
     "metadata": {},
     "output_type": "execute_result"
    }
   ],
   "source": [
    "df.query('user_score == \"tbd\"').head()"
   ]
  },
  {
   "cell_type": "code",
   "execution_count": 21,
   "metadata": {},
   "outputs": [
    {
     "data": {
      "text/plain": [
       "2376"
      ]
     },
     "execution_count": 21,
     "metadata": {},
     "output_type": "execute_result"
    }
   ],
   "source": [
    "len(df.query('user_score == \"tbd\"'))"
   ]
  },
  {
   "cell_type": "markdown",
   "metadata": {},
   "source": [
    "Наблюдений, в которых рейтинг пользователей будет определен позднее, больше 2000. На первый взгляд кажется, что наличие tbd в столбце оценок может быть связано с нулевыми продажами в Японии, так как там, где указаны нули в столбце jp_sales есть tbd в user_score. Проверим, действительно ли данные условия совпадают."
   ]
  },
  {
   "cell_type": "code",
   "execution_count": 22,
   "metadata": {},
   "outputs": [
    {
     "data": {
      "text/plain": [
       "False"
      ]
     },
     "execution_count": 22,
     "metadata": {},
     "output_type": "execute_result"
    }
   ],
   "source": [
    "len(df.query('user_score == \"tbd\"')) == len(df.query('user_score == \"tbd\" and jp_sales == 0'))"
   ]
  },
  {
   "cell_type": "markdown",
   "metadata": {},
   "source": [
    "Количество строк при одновременнов выполнении двух условий - продажи в Японии нулевые и в оценке пользователя указано tbd - не равно количеству наблюдений с tbd в качестве оценки. Поэтому мы не можем говорить, что наличие tbd в качестве оценки связано с продажами в Японии. \n",
    "\n",
    "Возможно, это игры по которым пока слишком мало оценок, поэтому окончательная оценка пользователей будет определена позднее.\n",
    "\n",
    "Как и в случае с оценками критиков мы не можем предугадать, какие значения могут быть в оценках пользователей, будь они пропущены или пока еще неопределены. В то же время нам необходимо заменить тип данных на вещественный для дальнейших рассчетов. Поэтому заменим tbd и пропуски в столбце с оценками пользователей на число 999, которое будем использовать в качестве маркера."
   ]
  },
  {
   "cell_type": "code",
   "execution_count": 23,
   "metadata": {},
   "outputs": [],
   "source": [
    "df['user_score'] = df['user_score'].fillna(999)"
   ]
  },
  {
   "cell_type": "code",
   "execution_count": 24,
   "metadata": {},
   "outputs": [],
   "source": [
    "df.loc[df['user_score'] == 'tbd', 'user_score'] = 999"
   ]
  },
  {
   "cell_type": "markdown",
   "metadata": {},
   "source": [
    "Проверим, какие теперь значения встречаются в столбце user_score"
   ]
  },
  {
   "cell_type": "code",
   "execution_count": 25,
   "metadata": {},
   "outputs": [
    {
     "data": {
      "text/plain": [
       "array(['8', 999, '8.3', '8.5', '6.6', '8.4', '8.6', '7.7', '6.3', '7.4',\n",
       "       '8.2', '9', '7.9', '8.1', '8.7', '7.1', '3.4', '5.3', '4.8', '3.2',\n",
       "       '8.9', '6.4', '7.8', '7.5', '2.6', '7.2', '9.2', '7', '7.3', '4.3',\n",
       "       '7.6', '5.7', '5', '9.1', '6.5', '8.8', '6.9', '9.4', '6.8', '6.1',\n",
       "       '6.7', '5.4', '4', '4.9', '4.5', '9.3', '6.2', '4.2', '6', '3.7',\n",
       "       '4.1', '5.8', '5.6', '5.5', '4.4', '4.6', '5.9', '3.9', '3.1',\n",
       "       '2.9', '5.2', '3.3', '4.7', '5.1', '3.5', '2.5', '1.9', '3', '2.7',\n",
       "       '2.2', '2', '9.5', '2.1', '3.6', '2.8', '1.8', '3.8', '0', '1.6',\n",
       "       '9.6', '2.4', '1.7', '1.1', '0.3', '1.5', '0.7', '1.2', '2.3',\n",
       "       '0.5', '1.3', '0.2', '0.6', '1.4', '0.9', '1', '9.7'], dtype=object)"
      ]
     },
     "execution_count": 25,
     "metadata": {},
     "output_type": "execute_result"
    }
   ],
   "source": [
    "df['user_score'].unique()"
   ]
  },
  {
   "cell_type": "markdown",
   "metadata": {},
   "source": [
    "Теперь нам необходимо рассмотреть значения в столбце с **рейтингом ESRB**, который определяет возрастную категорию игр. Рассмотрим, какие значения могут встречаться по данному параметру."
   ]
  },
  {
   "cell_type": "code",
   "execution_count": 26,
   "metadata": {},
   "outputs": [
    {
     "data": {
      "text/plain": [
       "array(['E', nan, 'M', 'T', 'E10+', 'K-A', 'AO', 'EC', 'RP'], dtype=object)"
      ]
     },
     "execution_count": 26,
     "metadata": {},
     "output_type": "execute_result"
    }
   ],
   "source": [
    "df['esrb_age_rating'].unique()"
   ]
  },
  {
   "cell_type": "markdown",
   "metadata": {},
   "source": [
    "Поищем дополнительную информацию о том, что означают встречаемые обозначения:\n",
    "\n",
    "* E - everyone - для всех\n",
    "* K-A - kids to adults - для всех, такое обозначение было у игр до 1998, затем было заменено на E\n",
    "* AO - adults only - только для взрослых, 18+\n",
    "* M - mature - для взрослых, не подходят подросткам младше 17 лет\n",
    "* T - teen - подросткам, от 13 лет и старше\n",
    "* E10+ - everyone 10 and older — для всех от 10 лет и старше\n",
    "* EC - early childhood - для детей младшего возраста, для детей от 3 лет и старше\n",
    "* RP - rating pending - рейтинг ожидается"
   ]
  },
  {
   "cell_type": "markdown",
   "metadata": {},
   "source": [
    "Мы могли бы предположить, что возрастной рейтинг не указан в играх, потому что игра еще находится в процессе проверки, и мы могли бы присвоить пропускам обозначение RP - rating pending. Однако изучив дополнительную информацию, мы выяснили, что данная аббревиатура обозначает, что \"продукт был отправлен в ESRB и ожидает присвоения рейтинга\", а мы не можем сказать наверняка, что те игры, в которых не указан возрастной рейтинг, были отправлены в ESRB.\n",
    "\n",
    "Вероятно, если рейтинг не указан в данных, игра не была отправлена на проверку ESRB, поэтому возрастная категория не была присвоена. Заменим пропущенные значения на \"undefined')"
   ]
  },
  {
   "cell_type": "code",
   "execution_count": 27,
   "metadata": {},
   "outputs": [],
   "source": [
    "df['esrb_age_rating'] = df['esrb_age_rating'].fillna('undefined')"
   ]
  },
  {
   "cell_type": "code",
   "execution_count": 28,
   "metadata": {},
   "outputs": [
    {
     "data": {
      "text/plain": [
       "name               0\n",
       "platform           0\n",
       "year_of_release    0\n",
       "genre              0\n",
       "na_sales           0\n",
       "eu_sales           0\n",
       "jp_sales           0\n",
       "other_sales        0\n",
       "critic_score       0\n",
       "user_score         0\n",
       "esrb_age_rating    0\n",
       "dtype: int64"
      ]
     },
     "execution_count": 28,
     "metadata": {},
     "output_type": "execute_result"
    }
   ],
   "source": [
    "df.isna().sum()"
   ]
  },
  {
   "cell_type": "markdown",
   "metadata": {},
   "source": [
    "Таким образом, мы заменили пропуски в столбцах с годами, оценками пользователей и критиков и возрастным рейтингом. В столбцах с оценками пользователей и критиков мы поменяли пропуски на маркер 999, строки с пропущенными годами выпуска мы исключили. Также мы исключили 2 наблюдения с отсустсвующим названием и жанром."
   ]
  },
  {
   "cell_type": "markdown",
   "metadata": {},
   "source": [
    "### 2.3. Изменение типов данных"
   ]
  },
  {
   "cell_type": "markdown",
   "metadata": {},
   "source": [
    "На предыдущем шаге мы выяснили, что в некоторых столбцах хранится не тот тип данных, который мы ожидали увидеть. Это столбцы с оценкой пользователей и критиков, а также год выпуска. "
   ]
  },
  {
   "cell_type": "code",
   "execution_count": 29,
   "metadata": {},
   "outputs": [
    {
     "data": {
      "text/plain": [
       "name                object\n",
       "platform            object\n",
       "year_of_release    float64\n",
       "genre               object\n",
       "na_sales           float64\n",
       "eu_sales           float64\n",
       "jp_sales           float64\n",
       "other_sales        float64\n",
       "critic_score       float64\n",
       "user_score          object\n",
       "esrb_age_rating     object\n",
       "dtype: object"
      ]
     },
     "execution_count": 29,
     "metadata": {},
     "output_type": "execute_result"
    }
   ],
   "source": [
    "df.dtypes"
   ]
  },
  {
   "cell_type": "markdown",
   "metadata": {},
   "source": [
    "Изменим данные в столбцах critic_score и year_of_release на целочисленный тип данных."
   ]
  },
  {
   "cell_type": "code",
   "execution_count": 30,
   "metadata": {},
   "outputs": [],
   "source": [
    "for column in ['critic_score', 'year_of_release']:\n",
    "    df[column] = df[column].astype('int')"
   ]
  },
  {
   "cell_type": "markdown",
   "metadata": {},
   "source": [
    "Также поменяем тип данных в столбце user_score - заменим его на вещественный, т.к. нам важна дробная часть в оценке пользователей и будет некорректно просто округлить значения."
   ]
  },
  {
   "cell_type": "code",
   "execution_count": 31,
   "metadata": {},
   "outputs": [],
   "source": [
    "df['user_score'] =  df['user_score'].astype('float')"
   ]
  },
  {
   "cell_type": "markdown",
   "metadata": {},
   "source": [
    "Проверим корректность внесенных изменений, снова посмотрим на то, какой тип данных содержится в столбцах:"
   ]
  },
  {
   "cell_type": "code",
   "execution_count": 32,
   "metadata": {},
   "outputs": [
    {
     "data": {
      "text/plain": [
       "name                object\n",
       "platform            object\n",
       "year_of_release      int32\n",
       "genre               object\n",
       "na_sales           float64\n",
       "eu_sales           float64\n",
       "jp_sales           float64\n",
       "other_sales        float64\n",
       "critic_score         int32\n",
       "user_score         float64\n",
       "esrb_age_rating     object\n",
       "dtype: object"
      ]
     },
     "execution_count": 32,
     "metadata": {},
     "output_type": "execute_result"
    }
   ],
   "source": [
    "df.dtypes"
   ]
  },
  {
   "cell_type": "markdown",
   "metadata": {},
   "source": [
    "Теперь мы видим, что тип данных в каждом столбце указан корректно."
   ]
  },
  {
   "cell_type": "markdown",
   "metadata": {},
   "source": [
    "### 2.4. Добавление необходимых данных"
   ]
  },
  {
   "cell_type": "markdown",
   "metadata": {},
   "source": [
    "В текущем датафрейме есть данные о продажах в разных регионах - Америка, Европа, Япония и др., однако нет информации об общем объеме продаж по всем регионам. Добавим новый столбец с этой информации."
   ]
  },
  {
   "cell_type": "code",
   "execution_count": 33,
   "metadata": {},
   "outputs": [],
   "source": [
    "df['total_sales'] = df['na_sales'] + df['eu_sales'] + df['jp_sales'] + df['other_sales']"
   ]
  },
  {
   "cell_type": "code",
   "execution_count": 34,
   "metadata": {},
   "outputs": [
    {
     "data": {
      "text/html": [
       "<div>\n",
       "<style scoped>\n",
       "    .dataframe tbody tr th:only-of-type {\n",
       "        vertical-align: middle;\n",
       "    }\n",
       "\n",
       "    .dataframe tbody tr th {\n",
       "        vertical-align: top;\n",
       "    }\n",
       "\n",
       "    .dataframe thead th {\n",
       "        text-align: right;\n",
       "    }\n",
       "</style>\n",
       "<table border=\"1\" class=\"dataframe\">\n",
       "  <thead>\n",
       "    <tr style=\"text-align: right;\">\n",
       "      <th></th>\n",
       "      <th>name</th>\n",
       "      <th>platform</th>\n",
       "      <th>year_of_release</th>\n",
       "      <th>genre</th>\n",
       "      <th>na_sales</th>\n",
       "      <th>eu_sales</th>\n",
       "      <th>jp_sales</th>\n",
       "      <th>other_sales</th>\n",
       "      <th>critic_score</th>\n",
       "      <th>user_score</th>\n",
       "      <th>esrb_age_rating</th>\n",
       "      <th>total_sales</th>\n",
       "    </tr>\n",
       "  </thead>\n",
       "  <tbody>\n",
       "    <tr>\n",
       "      <th>0</th>\n",
       "      <td>Wii Sports</td>\n",
       "      <td>Wii</td>\n",
       "      <td>2006</td>\n",
       "      <td>Sports</td>\n",
       "      <td>41.36</td>\n",
       "      <td>28.96</td>\n",
       "      <td>3.77</td>\n",
       "      <td>8.45</td>\n",
       "      <td>76</td>\n",
       "      <td>8.0</td>\n",
       "      <td>E</td>\n",
       "      <td>82.54</td>\n",
       "    </tr>\n",
       "    <tr>\n",
       "      <th>1</th>\n",
       "      <td>Super Mario Bros.</td>\n",
       "      <td>NES</td>\n",
       "      <td>1985</td>\n",
       "      <td>Platform</td>\n",
       "      <td>29.08</td>\n",
       "      <td>3.58</td>\n",
       "      <td>6.81</td>\n",
       "      <td>0.77</td>\n",
       "      <td>999</td>\n",
       "      <td>999.0</td>\n",
       "      <td>undefined</td>\n",
       "      <td>40.24</td>\n",
       "    </tr>\n",
       "    <tr>\n",
       "      <th>2</th>\n",
       "      <td>Mario Kart Wii</td>\n",
       "      <td>Wii</td>\n",
       "      <td>2008</td>\n",
       "      <td>Racing</td>\n",
       "      <td>15.68</td>\n",
       "      <td>12.76</td>\n",
       "      <td>3.79</td>\n",
       "      <td>3.29</td>\n",
       "      <td>82</td>\n",
       "      <td>8.3</td>\n",
       "      <td>E</td>\n",
       "      <td>35.52</td>\n",
       "    </tr>\n",
       "    <tr>\n",
       "      <th>3</th>\n",
       "      <td>Wii Sports Resort</td>\n",
       "      <td>Wii</td>\n",
       "      <td>2009</td>\n",
       "      <td>Sports</td>\n",
       "      <td>15.61</td>\n",
       "      <td>10.93</td>\n",
       "      <td>3.28</td>\n",
       "      <td>2.95</td>\n",
       "      <td>80</td>\n",
       "      <td>8.0</td>\n",
       "      <td>E</td>\n",
       "      <td>32.77</td>\n",
       "    </tr>\n",
       "    <tr>\n",
       "      <th>4</th>\n",
       "      <td>Pokemon Red/Pokemon Blue</td>\n",
       "      <td>GB</td>\n",
       "      <td>1996</td>\n",
       "      <td>Role-Playing</td>\n",
       "      <td>11.27</td>\n",
       "      <td>8.89</td>\n",
       "      <td>10.22</td>\n",
       "      <td>1.00</td>\n",
       "      <td>999</td>\n",
       "      <td>999.0</td>\n",
       "      <td>undefined</td>\n",
       "      <td>31.38</td>\n",
       "    </tr>\n",
       "  </tbody>\n",
       "</table>\n",
       "</div>"
      ],
      "text/plain": [
       "                       name platform  year_of_release         genre  na_sales  \\\n",
       "0                Wii Sports      Wii             2006        Sports     41.36   \n",
       "1         Super Mario Bros.      NES             1985      Platform     29.08   \n",
       "2            Mario Kart Wii      Wii             2008        Racing     15.68   \n",
       "3         Wii Sports Resort      Wii             2009        Sports     15.61   \n",
       "4  Pokemon Red/Pokemon Blue       GB             1996  Role-Playing     11.27   \n",
       "\n",
       "   eu_sales  jp_sales  other_sales  critic_score  user_score esrb_age_rating  \\\n",
       "0     28.96      3.77         8.45            76         8.0               E   \n",
       "1      3.58      6.81         0.77           999       999.0       undefined   \n",
       "2     12.76      3.79         3.29            82         8.3               E   \n",
       "3     10.93      3.28         2.95            80         8.0               E   \n",
       "4      8.89     10.22         1.00           999       999.0       undefined   \n",
       "\n",
       "   total_sales  \n",
       "0        82.54  \n",
       "1        40.24  \n",
       "2        35.52  \n",
       "3        32.77  \n",
       "4        31.38  "
      ]
     },
     "execution_count": 34,
     "metadata": {},
     "output_type": "execute_result"
    }
   ],
   "source": [
    "df.head()"
   ]
  },
  {
   "cell_type": "markdown",
   "metadata": {},
   "source": [
    "### 2.5. Проверка на наличие дубликатов"
   ]
  },
  {
   "cell_type": "markdown",
   "metadata": {},
   "source": [
    "Проверим, есть ли в нашем датафрейме дублиурющие друг друга наблюдения"
   ]
  },
  {
   "cell_type": "code",
   "execution_count": 35,
   "metadata": {},
   "outputs": [
    {
     "data": {
      "text/plain": [
       "0"
      ]
     },
     "execution_count": 35,
     "metadata": {},
     "output_type": "execute_result"
    }
   ],
   "source": [
    "df.duplicated().sum()"
   ]
  },
  {
   "cell_type": "markdown",
   "metadata": {},
   "source": [
    "Мы видим, что в датафрейме дубликатов нет"
   ]
  },
  {
   "cell_type": "markdown",
   "metadata": {},
   "source": [
    "### Вывод\n",
    "\n",
    "На данном шаге мы:\n",
    "\n",
    "1) Переименовали столбцы - привели все названия столбцов к нижнему регистру для удобства при прочтении и обработке, а также заменили название столбца \"rating\" на \"esrb_age_rating\" для того, чтобы было интуитивно понятно, что в данном столбце хранятся данные о возрастном рейтинге игры.\n",
    "\n",
    "2) Заполнили пропуски - заменили пропущенные значения и обозначения tbd (to be determined) на определенные маркеры (999 - для пропусков в столбцах с оценками пользователей и критиков). Решение заменить пропуски на значения маркеры было принято на основании того, что предугадать оценки не является возможным, а замена пропусков на средние или медианные значения привела бы к искажению данных. При этом для дальнейшего изменения типа данных нам необходимо было заполнить пропуски и заменить строковые обозначения tbd.\n",
    "\n",
    "Также мы исключили из датафрейма две игры с отсуствующими названиями и жанрами, т.к. по оставшимся признакам мы не можем идентифицировать игры, а количество таких наблюдений очень мало. Кроме того, мы исключили наблюдения с пропусками в значении годов, т.к. их доля довольно мала (<2%) и в дальнейшем мы все равно будем рассматривать только те игры, по которым известен год. Также мы заменили отсутствующие значения в возрастном рейтинге игр на обозначение 'undefined', т.к. по имеющимся данным определить рейтинг игры не предствляется возможным.\n",
    "\n",
    "3) Поменяли типы данных - информацию и годах выпуска игр и оценках критиков заменили на целочиленный тип данных, а оценку пользователей заменили на вещественный тип данных.\n",
    "\n",
    "4) Добавили недостающую информацию - создали новый столбец с данными об общем объеме продаж по всем регионам вместе.\n",
    "\n",
    "5) Удостоверились в отсутствии дублирующих друг друга наблюдений."
   ]
  },
  {
   "cell_type": "markdown",
   "metadata": {},
   "source": [
    "## 3. Проведение исследовательского анализа данных <a id=\"3\"></a>"
   ]
  },
  {
   "cell_type": "markdown",
   "metadata": {},
   "source": [
    "### 3.1. Определение актуального периода для анализа"
   ]
  },
  {
   "cell_type": "markdown",
   "metadata": {},
   "source": [
    "Далее приступим к исследовательскому анализу данных:\n",
    "\n",
    "1) Посмотрим, сколько игр выпускалось в разные годы. Для этого создадим сводную таблицу с информацией о количестве выпущенных игр по годам (предварительно исключив нулевые значения годов) и построим график в виде столбчатой диаграммы."
   ]
  },
  {
   "cell_type": "code",
   "execution_count": 36,
   "metadata": {},
   "outputs": [],
   "source": [
    "df_pivot_years = df.pivot_table(index='year_of_release', values='name', aggfunc='count')"
   ]
  },
  {
   "cell_type": "code",
   "execution_count": 37,
   "metadata": {},
   "outputs": [
    {
     "data": {
      "image/png": "[encoded data removed]",
      "text/plain": [
       "<Figure size 1080x360 with 1 Axes>"
      ]
     },
     "metadata": {
      "needs_background": "light"
     },
     "output_type": "display_data"
    }
   ],
   "source": [
    "df_pivot_years.plot(y='name', \n",
    "                    kind='bar', \n",
    "                    figsize=(15, 5), \n",
    "                    title='Количество выпущенных игр по годам', \n",
    "                    xlabel='Год', ylabel='Количество выпущенных игр', \n",
    "                    legend=False)\n",
    "\n",
    "plt.show()"
   ]
  },
  {
   "cell_type": "markdown",
   "metadata": {},
   "source": [
    "Изучив график, мы можем сказать, что количество игр, выпущенных до 1991 г. было близким к нулю, а в 1991 г. оно начало постепенно возрастать. Наибольшее количество игр было выпущено в 2008 и 2009 г. \n",
    "\n",
    "В целом мы можем отметить, что наиболее важными данными являются данные за 1991-2016 гг., а данные до 1991 г. являются не очень значимыми из-за небольшого количества выпущенных в эти годы игр."
   ]
  },
  {
   "cell_type": "markdown",
   "metadata": {},
   "source": [
    "2) Посмотрим, как менялись продажи по платформам с течением времени. Выберем платформы с наибольшими суммарными продажами."
   ]
  },
  {
   "cell_type": "code",
   "execution_count": 38,
   "metadata": {},
   "outputs": [
    {
     "data": {
      "image/png": "[encoded data removed]",
      "text/plain": [
       "<Figure size 1080x360 with 1 Axes>"
      ]
     },
     "metadata": {
      "needs_background": "light"
     },
     "output_type": "display_data"
    }
   ],
   "source": [
    "df_pivot_platforms = (df\n",
    "                      .pivot_table(index='platform', values='total_sales', aggfunc='sum')\n",
    "                      .sort_values(by='total_sales', ascending=False)\n",
    "                      .reset_index()\n",
    "                     )\n",
    "\n",
    "df_pivot_platforms.plot(x='platform', \n",
    "                        kind='bar', \n",
    "                        figsize=(15, 5), \n",
    "                        ylabel='Объем продаж в млн. копий', \n",
    "                        xlabel='Название платформы',\n",
    "                        title='Общий объем продаж по платформам',\n",
    "                        legend=False)\n",
    "\n",
    "plt.show()"
   ]
  },
  {
   "cell_type": "markdown",
   "metadata": {},
   "source": [
    "В качестве платформ с наибольшими суммарными продажами выберем первые шесть - PS2, X360, PS3, Wii, DS, PS."
   ]
  },
  {
   "cell_type": "markdown",
   "metadata": {},
   "source": [
    "Далее построим распределение продаж по годам по каждой из топ-6 платформ."
   ]
  },
  {
   "cell_type": "code",
   "execution_count": 39,
   "metadata": {
    "scrolled": false
   },
   "outputs": [
    {
     "data": {
      "image/png": "[encoded data removed]",
      "text/plain": [
       "<Figure size 936x288 with 1 Axes>"
      ]
     },
     "metadata": {
      "needs_background": "light"
     },
     "output_type": "display_data"
    },
    {
     "data": {
      "image/png": "[encoded data removed]",
      "text/plain": [
       "<Figure size 936x288 with 1 Axes>"
      ]
     },
     "metadata": {
      "needs_background": "light"
     },
     "output_type": "display_data"
    },
    {
     "data": {
      "image/png": "[encoded data removed]",
      "text/plain": [
       "<Figure size 936x288 with 1 Axes>"
      ]
     },
     "metadata": {
      "needs_background": "light"
     },
     "output_type": "display_data"
    },
    {
     "data": {
      "image/png": "[encoded data removed]",
      "text/plain": [
       "<Figure size 936x288 with 1 Axes>"
      ]
     },
     "metadata": {
      "needs_background": "light"
     },
     "output_type": "display_data"
    },
    {
     "data": {
      "image/png": "[encoded data removed]",
      "text/plain": [
       "<Figure size 936x288 with 1 Axes>"
      ]
     },
     "metadata": {
      "needs_background": "light"
     },
     "output_type": "display_data"
    },
    {
     "data": {
      "image/png": "[encoded data removed]",
      "text/plain": [
       "<Figure size 936x288 with 1 Axes>"
      ]
     },
     "metadata": {
      "needs_background": "light"
     },
     "output_type": "display_data"
    }
   ],
   "source": [
    "top_platforms_name = ['PS2', 'X360', 'PS3', 'Wii', 'DS', 'PS']\n",
    "\n",
    "for platform_name in top_platforms_name:\n",
    "    (df[df['platform'] == platform_name]\n",
    "     .pivot_table(index='year_of_release', values='total_sales', aggfunc='sum')\n",
    "     .plot(\n",
    "         kind='bar', \n",
    "         figsize=(13, 4), \n",
    "         title=platform_name, \n",
    "         xlabel='Год', \n",
    "         ylabel='Объем продаж в млн. копий', \n",
    "         legend=False)\n",
    "    )"
   ]
  },
  {
   "cell_type": "markdown",
   "metadata": {},
   "source": [
    "Постров графики распределения продаж по годам, мы можем сказать, что в среднем платформы **живут** до **10 лет**. При этом продажи **растут** **первые 4-5 лет** после выпуска платформа, а **фаза активных продаж** составляет примерно **7 лет**.\n",
    "\n",
    "Как правило, в первый год объемы продаж игр под конкретную платформу минимальны (за исключнием платформы Wii). \n",
    "\n",
    "**Пик продаж** приходится на **4-6 годы с момента выпуска** в зависимости от платформы. Вероятно это связано с увеличением количества доступных на платформе игр, т.к. к тому времени все больше и больше производителей успешно разрабатывают свои игры под особенности платформы, к тому же сама платформа становится со временем дешевле и все больше пользователей приобретают платформу и соответственно игры для нее.\n",
    "\n",
    "На графике мы также видим странную особенность для распределения продаж по платформе DS. На графике отображается 1985 г., при этом основные объемы продаж начинаются только с 2004 г. Проверим, что это за игра."
   ]
  },
  {
   "cell_type": "code",
   "execution_count": 40,
   "metadata": {},
   "outputs": [
    {
     "data": {
      "text/html": [
       "<div>\n",
       "<style scoped>\n",
       "    .dataframe tbody tr th:only-of-type {\n",
       "        vertical-align: middle;\n",
       "    }\n",
       "\n",
       "    .dataframe tbody tr th {\n",
       "        vertical-align: top;\n",
       "    }\n",
       "\n",
       "    .dataframe thead th {\n",
       "        text-align: right;\n",
       "    }\n",
       "</style>\n",
       "<table border=\"1\" class=\"dataframe\">\n",
       "  <thead>\n",
       "    <tr style=\"text-align: right;\">\n",
       "      <th></th>\n",
       "      <th>name</th>\n",
       "      <th>platform</th>\n",
       "      <th>year_of_release</th>\n",
       "      <th>genre</th>\n",
       "      <th>na_sales</th>\n",
       "      <th>eu_sales</th>\n",
       "      <th>jp_sales</th>\n",
       "      <th>other_sales</th>\n",
       "      <th>critic_score</th>\n",
       "      <th>user_score</th>\n",
       "      <th>esrb_age_rating</th>\n",
       "      <th>total_sales</th>\n",
       "    </tr>\n",
       "  </thead>\n",
       "  <tbody>\n",
       "    <tr>\n",
       "      <th>15957</th>\n",
       "      <td>Strongest Tokyo University Shogi DS</td>\n",
       "      <td>DS</td>\n",
       "      <td>1985</td>\n",
       "      <td>Action</td>\n",
       "      <td>0.0</td>\n",
       "      <td>0.0</td>\n",
       "      <td>0.02</td>\n",
       "      <td>0.0</td>\n",
       "      <td>999</td>\n",
       "      <td>999.0</td>\n",
       "      <td>undefined</td>\n",
       "      <td>0.02</td>\n",
       "    </tr>\n",
       "  </tbody>\n",
       "</table>\n",
       "</div>"
      ],
      "text/plain": [
       "                                      name platform  year_of_release   genre  \\\n",
       "15957  Strongest Tokyo University Shogi DS       DS             1985  Action   \n",
       "\n",
       "       na_sales  eu_sales  jp_sales  other_sales  critic_score  user_score  \\\n",
       "15957       0.0       0.0      0.02          0.0           999       999.0   \n",
       "\n",
       "      esrb_age_rating  total_sales  \n",
       "15957       undefined         0.02  "
      ]
     },
     "execution_count": 40,
     "metadata": {},
     "output_type": "execute_result"
    }
   ],
   "source": [
    "df[(df['year_of_release'] == 1985) & (df['platform'] == 'DS')]"
   ]
  },
  {
   "cell_type": "markdown",
   "metadata": {},
   "source": [
    "Уточнив информацию в интернете, мы выяснили что платформа DS (Nintendo DS) была выпущена только в 2004, поэтому, вероятно, что 1985 г. был указан для этой игры по ошибке. Поэтому исключим данное наблюдение из датафрейма."
   ]
  },
  {
   "cell_type": "code",
   "execution_count": 41,
   "metadata": {},
   "outputs": [],
   "source": [
    "df = df.query('name != \"Strongest Tokyo University Shogi DS\"')"
   ]
  },
  {
   "cell_type": "markdown",
   "metadata": {},
   "source": [
    "3) Определим актуальный для дальнейшего рассмотрения период.\n",
    "\n",
    "На предыдущих этапах мы определили, что основной рост количества продаж игр на различные платофрмы приходится только на первые 4-5 лет после выхода новой платформы, поэтому платформы, которые находятся на пике популярности в 2016 г., вероятно начали расти примерно в 2012 гг., а те платформы, которые еще только набирают популярность, вероятно, вышли после 2012 г.\n",
    "\n",
    "Также на графике распределения общих продаж по годам мы увидели, что после 2011 г. объем продаж примерно одинаково распределен по годам, в отличие от предыдущего периода. \n",
    "\n",
    "Кроме того, для планирования на 2017 г. нам важны данные именно за последние годы, т.к. предыдущие исторические данные могут привести не к самым актуальным выводам. Также мы знаем, что в имеющихся данных неполная информация за 2016 г. \n",
    "\n",
    "В связи со всеми этими факторами выделим актуальный период как годы с 2013 до 2015 г."
   ]
  },
  {
   "cell_type": "code",
   "execution_count": 42,
   "metadata": {},
   "outputs": [],
   "source": [
    "current_years = (2013, 2014, 2015)\n",
    "df = df.query('year_of_release in @current_years')"
   ]
  },
  {
   "cell_type": "markdown",
   "metadata": {},
   "source": [
    "### 3.2. Определение потенциально прибыльных платформ"
   ]
  },
  {
   "cell_type": "markdown",
   "metadata": {},
   "source": [
    "Определим потенциально прибыльные платформы. Это те, которые на момент 2015 г. находятся в стадии роста и мы можем ожидать дальнейших прибылей от продажи игр на них. Для этого определим, какие платформы лидируют по продажам, растут и падают.\n",
    "\n",
    "До этого мы выяснили 6 наиболее прибыльных платформ за все время, однако объемы продаж в 2016 г. по всем из них падают или уже достигли нулевого уровня, то есть данные платформы были популярны в прошлом, а сейчас уже неактуальны. Поэтому нам надо определить, какие платформы популярны сейчас и начали расти в выбранные нами актуальные годы - с 2013 по 2015."
   ]
  },
  {
   "cell_type": "code",
   "execution_count": 43,
   "metadata": {},
   "outputs": [],
   "source": [
    "df['year_of_release'] = pd.to_datetime(df['year_of_release'], format='%Y')"
   ]
  },
  {
   "cell_type": "code",
   "execution_count": 44,
   "metadata": {},
   "outputs": [],
   "source": [
    "cmap = cm.get_cmap('tab20')"
   ]
  },
  {
   "cell_type": "code",
   "execution_count": 45,
   "metadata": {},
   "outputs": [
    {
     "data": {
      "image/png": "[encoded data removed]",
      "text/plain": [
       "<Figure size 1080x504 with 1 Axes>"
      ]
     },
     "metadata": {
      "needs_background": "light"
     },
     "output_type": "display_data"
    }
   ],
   "source": [
    "new_platforms_pivot = df.pivot_table(index='year_of_release', columns='platform', values='total_sales', aggfunc='sum')\n",
    "\n",
    "new_platforms_pivot.plot(kind='line', \n",
    "                         figsize=(15, 7), \n",
    "                         title='Динамика продаж игр по платформам 2013-2015 гг.', \n",
    "                         xlabel='Год', \n",
    "                         ylabel='Объем продаж в млн. копий', \n",
    "                         colormap=cmap)\n",
    "\n",
    "plt.show()"
   ]
  },
  {
   "cell_type": "markdown",
   "metadata": {},
   "source": [
    "На графике получается довольно много линий продаж по платформам, однако становится ясно, что из всех активных в 2013-2015 гг. платформ растут PS4 и XOne, выпущенные в 2013 г.\n",
    "\n",
    "Таким образом, мы видим, что на 2015 г. растут и при этом являются лидерами по продажам PS4 и XOne. Продажи игр на остальные платформы - PS3, 3DS, WiiU, X360, PC, PSV, Wii, PSP снижаются."
   ]
  },
  {
   "cell_type": "markdown",
   "metadata": {},
   "source": [
    "### 3.3. Глобальные продажи игр в разбивке по платформам"
   ]
  },
  {
   "cell_type": "markdown",
   "metadata": {},
   "source": [
    "Далее рассмотрим распределние значений глобальных продаж игр в разбивке по актуальным платформам, построив диаграмму размаха."
   ]
  },
  {
   "cell_type": "markdown",
   "metadata": {},
   "source": [
    "Выберем только те платформы, которые находятся в стадии роста: PS4, Xbox One"
   ]
  },
  {
   "cell_type": "code",
   "execution_count": 46,
   "metadata": {},
   "outputs": [],
   "source": [
    "growing_platforms = ('PS4', 'XOne')"
   ]
  },
  {
   "cell_type": "markdown",
   "metadata": {},
   "source": [
    "Посмторим диаграмму размаха:"
   ]
  },
  {
   "cell_type": "code",
   "execution_count": 47,
   "metadata": {},
   "outputs": [
    {
     "data": {
      "image/png": "[encoded data removed]",
      "text/plain": [
       "<Figure size 936x504 with 1 Axes>"
      ]
     },
     "metadata": {
      "needs_background": "light"
     },
     "output_type": "display_data"
    }
   ],
   "source": [
    "ax = (df\n",
    "      .query('platform in @growing_platforms')\n",
    "      .boxplot(column='total_sales', by='platform', figsize=(13, 7))\n",
    "     )\n",
    "\n",
    "plt.ylim(0, 8)\n",
    "\n",
    "ax.set_title('Диаграмма размаха для перспективных платформ')\n",
    "ax.set_xlabel('Название платформы')\n",
    "ax.set_ylabel('Объем продаж в млн. копий')\n",
    "\n",
    "plt.show()"
   ]
  },
  {
   "cell_type": "markdown",
   "metadata": {},
   "source": [
    "Рассмотрим медианные и средние значения продаж игр по каждой платформе"
   ]
  },
  {
   "cell_type": "code",
   "execution_count": 48,
   "metadata": {},
   "outputs": [
    {
     "name": "stdout",
     "output_type": "stream",
     "text": [
      "Медианное значение продаж игр на платформе PS4 - 0.31 млн. копий\n",
      "\n",
      "Среднее значение продаж игр на платформе PS4 - 1.07 млн. копий\n",
      "\n",
      "Медианное значение продаж игр на платформе XOne - 0.35 млн. копий\n",
      "\n",
      "Среднее значение продаж игр на платформе XOne - 0.83 млн. копий\n",
      "\n"
     ]
    }
   ],
   "source": [
    "for platform_name in growing_platforms:\n",
    "    print('Медианное значение продаж игр на платформе', platform_name, '- {:.2f}'\n",
    "          .format(df[df['platform'] == platform_name]['total_sales'].median()), 'млн. копий')\n",
    "    print()\n",
    "    print('Среднее значение продаж игр на платформе', platform_name, '- {:.2f}'\n",
    "          .format(df[df['platform'] == platform_name]['total_sales'].mean()), 'млн. копий')\n",
    "    print()"
   ]
  },
  {
   "cell_type": "markdown",
   "metadata": {},
   "source": [
    "Изучив диаграммы размаха и медианы, мы можем отметить, что медианные значения продаж игр по платформам очень близки друг к другу (310 тыс. копий для PS4 и 350 тыс. копий для Xbox One). Также мы можем сказать что медина располагается близко к нижней границе \"ящика\", то есть 50% наблюдений по обеим платформам находится ниже 350 тыс. копий. А большая часть значений, как мы видим, лежит в диапазоне от примерно 0 до чуть больше 1 млн. копий. \n",
    "\n",
    "Также на графиках наблюдаются выбросы как по продажам на платформе PS4, так и на XOne, это игры с объем продаж гораздо большим, чем значение третьего квартиля. В связи с этим средние значения продаж по каждой платформе значительно больше медианных значений (более, чем в три раза больше для PS4 и более, чем в два раза больше для Xbox One). \n",
    "\n",
    "Таким образом, можно отметить, что разброс данных внутри \"ящика\" и \"усов\" у обеих платформ примерно одинаков, однако больше выбросов наблюдается у PS4."
   ]
  },
  {
   "cell_type": "markdown",
   "metadata": {},
   "source": [
    "### 3.4. Изучение влияния отзывов критиков и пользователей"
   ]
  },
  {
   "cell_type": "markdown",
   "metadata": {},
   "source": [
    "Изучим, каким образом влияют на продажи внутри одной популярной платформы отзывы пользователей и критиков, построив для этого диаграмму рассеяния (по горизонтальной оси укажем рейтинг пользователей/критиков, по вертикальной оси - объем продаж)."
   ]
  },
  {
   "cell_type": "markdown",
   "metadata": {},
   "source": [
    "Исключим из рассмотрения значения-маркеры, которые мы использовали для заполнения пропусков в столбцах с оценками критиков и пользователей."
   ]
  },
  {
   "cell_type": "code",
   "execution_count": 49,
   "metadata": {},
   "outputs": [],
   "source": [
    "df_for_ratings = df.query('user_score != 999 and critic_score != 999')"
   ]
  },
  {
   "cell_type": "markdown",
   "metadata": {},
   "source": [
    "Для каждой платформы построим диаграмму рассеяния:"
   ]
  },
  {
   "cell_type": "code",
   "execution_count": 50,
   "metadata": {},
   "outputs": [
    {
     "data": {
      "image/png": "[encoded data removed]",
      "text/plain": [
       "<Figure size 1080x360 with 1 Axes>"
      ]
     },
     "metadata": {
      "needs_background": "light"
     },
     "output_type": "display_data"
    },
    {
     "data": {
      "image/png": "[encoded data removed]",
      "text/plain": [
       "<Figure size 1080x360 with 1 Axes>"
      ]
     },
     "metadata": {
      "needs_background": "light"
     },
     "output_type": "display_data"
    },
    {
     "data": {
      "image/png": "[encoded data removed]",
      "text/plain": [
       "<Figure size 1080x360 with 1 Axes>"
      ]
     },
     "metadata": {
      "needs_background": "light"
     },
     "output_type": "display_data"
    },
    {
     "data": {
      "image/png": "[encoded data removed]",
      "text/plain": [
       "<Figure size 1080x360 with 1 Axes>"
      ]
     },
     "metadata": {
      "needs_background": "light"
     },
     "output_type": "display_data"
    }
   ],
   "source": [
    "score_types = ('user_score', 'critic_score')\n",
    "\n",
    "for platform_name in growing_platforms:\n",
    "    for score_type in score_types:\n",
    "        (df_for_ratings[df_for_ratings['platform'] == platform_name]\n",
    "         .plot(x=score_type, \n",
    "               y='total_sales', \n",
    "               kind='scatter', \n",
    "               figsize=(15, 5),\n",
    "               title='Диаграмма рассеяния для {}'.format(platform_name), \n",
    "               alpha=0.7)\n",
    "        )\n",
    "    "
   ]
  },
  {
   "cell_type": "markdown",
   "metadata": {},
   "source": [
    "Изучив графики, мы видим, что для PS4 и для Xbox One рейтинг пользователей практически никак не влияет, большие продажи, есть у игр с высоким, и угр со средним рейтингом. Другая ситуация с оценками критиков. На графиках видно, что оценки критиков влияют на продажи игр - большие объем продаж есть у тех игр, которые высоко ценятся критиками (оценки от 70 и больше). Проверим данный вывод, посчитав корреляцию."
   ]
  },
  {
   "cell_type": "code",
   "execution_count": 51,
   "metadata": {},
   "outputs": [
    {
     "name": "stdout",
     "output_type": "stream",
     "text": [
      "Коэффициент корреляции между user_score и объемом продаж на платформе PS4 = 0.02\n",
      "Коэффициент корреляции между critic_score и объемом продаж на платформе PS4 = 0.43\n",
      "Коэффициент корреляции между user_score и объемом продаж на платформе XOne = -0.05\n",
      "Коэффициент корреляции между critic_score и объемом продаж на платформе XOne = 0.45\n"
     ]
    }
   ],
   "source": [
    "for platform_name in growing_platforms:\n",
    "    for score_type in score_types:\n",
    "        print('Коэффициент корреляции между', score_type, 'и объемом продаж на платформе', platform_name, '= {:.2f}'\n",
    "              .format(df_for_ratings[df_for_ratings['platform'] == platform_name]['total_sales']\n",
    "                      .corr(df_for_ratings[score_type])))"
   ]
  },
  {
   "cell_type": "markdown",
   "metadata": {},
   "source": [
    "Данные о корреляции также демонстируют практически отсуствие связи между оценками пользователей и объемом продаж как на платформе PS4, так и на платформе XOne в 2012-2015 гг. При этом мы видим, что существует корреляция между отзывами критиков и объемами продаж игр, то есть для большого количества наблюдений, чем выше оценка игры критиками, тем больше объем продаж."
   ]
  },
  {
   "cell_type": "markdown",
   "metadata": {},
   "source": [
    "Сравним эти данные о зависимостях с продажами игр на других платформах."
   ]
  },
  {
   "cell_type": "code",
   "execution_count": 52,
   "metadata": {},
   "outputs": [
    {
     "name": "stdout",
     "output_type": "stream",
     "text": [
      "Коэффициент корреляции между user_score и объемом продаж на других платформах = 0.03\n",
      "Коэффициент корреляции между critic_score и объемом продаж на других платформах = 0.27\n"
     ]
    }
   ],
   "source": [
    "df_other_platforms = df_for_ratings.query('platform not in @growing_platforms')\n",
    "\n",
    "for score_type in score_types:\n",
    "    print('Коэффициент корреляции между', score_type, 'и объемом продаж на других платформах = {:.2f}'\n",
    "          .format(df_other_platforms['total_sales'].corr(df_other_platforms[score_type])))"
   ]
  },
  {
   "cell_type": "markdown",
   "metadata": {},
   "source": [
    "Посчитав коэффициенты корреляции для остальных платформ, мы также видим, что нет практически никакой связи между рейтингом пользователей и объемом продаж в выбранные нами 2012-2015 гг. Однако, как и в случае с платформами PS4 и XOne, есть связь между рейтингом критиков и объемом продаж, однако эта связь не такая сильная, как для рассмотренных нами ранее растущих платформ."
   ]
  },
  {
   "cell_type": "markdown",
   "metadata": {},
   "source": [
    "### 3.5. Определение самых прибыльных жанров"
   ]
  },
  {
   "cell_type": "markdown",
   "metadata": {},
   "source": [
    "Посмотрим на средние объемы продаж игр по жанрам и определим самые прибыльные."
   ]
  },
  {
   "cell_type": "code",
   "execution_count": 53,
   "metadata": {},
   "outputs": [
    {
     "data": {
      "image/png": "[encoded data removed]",
      "text/plain": [
       "<Figure size 1080x360 with 1 Axes>"
      ]
     },
     "metadata": {
      "needs_background": "light"
     },
     "output_type": "display_data"
    }
   ],
   "source": [
    "(df\n",
    " .query('platform in @growing_platforms')\n",
    " .pivot_table(index='genre', values='total_sales', aggfunc='sum')\n",
    " .sort_values(by='total_sales', ascending=False)\n",
    " .plot(kind='bar', \n",
    "       title='Продажи игр по жанрам на PS4 и XOne',\n",
    "       xlabel = 'Жанр',\n",
    "       ylabel='Объем продаж в млн.копий', \n",
    "       figsize=(15, 5), \n",
    "       legend=False)\n",
    ")\n",
    "\n",
    "plt.show()"
   ]
  },
  {
   "cell_type": "markdown",
   "metadata": {},
   "source": [
    "Изучив график, мы можем сказать, что примерно на одном уровне по прибыльности находятся игры в жанрах action и shooter. Далее идет жанр sports со значительной разницей в продажах по сравнению с наиболее прибыльными жанрами.\n",
    "\n",
    "А три наименее прибыльных жанра - это simulation, strategy и puzzle."
   ]
  },
  {
   "cell_type": "markdown",
   "metadata": {},
   "source": [
    "### Вывод\n",
    "\n",
    "На данном шаге мы\n",
    "\n",
    "1) Изучили распределение выпущенных игр по годам и выяснили, что **до 1991 г.** количество выпущенных игр было очень небольшим, близким к нулю. **После 1991 г.** оно начало постепенно расти и достигло своего пика в **2008-2009 гг.** (почти 1400 выпущенных игр в каждый из этих годов), после чего начало понемногу уменьшаться. **После 2011 г.** мы можем наблюдать резкое снижение количества выпущенных игр; примерно одинаковый уровень количества вышедших игр сохраняется в **2012-2016 гг.**\n",
    "\n",
    "2) Рассмотрели общие объемы продаж по платформам и выбрали топ-6 платформ, принесших наибольшую выручку с 1991 по 2016 гг., и изучили срок активных продаж игр на данные платформы. Мы сделали вывод о том, что срок жизни платформ составляет примерно 10 лет, при этом **пик приходится на 4-5 г.** после выхода платформа, а активные продажи составляют примерно 7 лет.\n",
    "\n",
    "3) Определелили актуальный период для дальнейшего исследования - **2013 до 2015 гг.** Данный промежуток был выбран в связи с тем, что количество выпущенных игр в эти годы примерно равномерно распределено по годам, нет резких перепадов, кроме того в этот период начинают расти перспективные в настоящее время платформы. Данные за 2016 г. не были учтены, так как на момент выгрузки данных они были неполные.\n",
    "\n",
    "4) Выделили растущие платформы, то есть те, на 2015 г. продажи растут. Это **Xbox One, PS4**. Кроме того, это и самые прибыльные за 2014-2015 г. платформы.\n",
    "\n",
    "5) Изучили разброс данных по продажам на растущие платформы и сделали вывод о том, что **разброс** данных у них примерно **одинаков**, но у PS4 наблюдается больше выбросов.\n",
    "\n",
    "6) Изучили зависимость объема продаж от оценок критиков и пользователей: продажи на растущих платформах (PS4, XOne) не зависят от оценок пользователей, но наблюдается довольно сильная **связь между продажами и рейтингом критиков**. Похожая ситуация и с остальными платформами, но связь между продажами и оценками критиков на них более слабая.\n",
    "\n",
    "7) Определили самые прибыльные жанры, это оказались игры **экшн, шутеры, спортивные**, а наименее популярные и соответственно прибыльные - это симуляции, стратегии и пазлы."
   ]
  },
  {
   "cell_type": "markdown",
   "metadata": {},
   "source": [
    "## 4. Составление портрета пользователей по регионам <a id=\"4\"></a>"
   ]
  },
  {
   "cell_type": "markdown",
   "metadata": {},
   "source": [
    "### 4.1. Самые популярные платформы по регионам\n",
    "Определим для пользователя каждого региона (NA, EU, JP) самые популярные платформы (топ-5):"
   ]
  },
  {
   "cell_type": "code",
   "execution_count": 54,
   "metadata": {},
   "outputs": [
    {
     "data": {
      "text/html": [
       "<div>\n",
       "<style scoped>\n",
       "    .dataframe tbody tr th:only-of-type {\n",
       "        vertical-align: middle;\n",
       "    }\n",
       "\n",
       "    .dataframe tbody tr th {\n",
       "        vertical-align: top;\n",
       "    }\n",
       "\n",
       "    .dataframe thead th {\n",
       "        text-align: right;\n",
       "    }\n",
       "</style>\n",
       "<table border=\"1\" class=\"dataframe\">\n",
       "  <thead>\n",
       "    <tr style=\"text-align: right;\">\n",
       "      <th></th>\n",
       "      <th>na_sales</th>\n",
       "      <th>share</th>\n",
       "    </tr>\n",
       "    <tr>\n",
       "      <th>platform</th>\n",
       "      <th></th>\n",
       "      <th></th>\n",
       "    </tr>\n",
       "  </thead>\n",
       "  <tbody>\n",
       "    <tr>\n",
       "      <th>PS4</th>\n",
       "      <td>87.25</td>\n",
       "      <td>22.2%</td>\n",
       "    </tr>\n",
       "    <tr>\n",
       "      <th>X360</th>\n",
       "      <td>80.97</td>\n",
       "      <td>20.6%</td>\n",
       "    </tr>\n",
       "    <tr>\n",
       "      <th>XOne</th>\n",
       "      <td>78.85</td>\n",
       "      <td>20.1%</td>\n",
       "    </tr>\n",
       "    <tr>\n",
       "      <th>PS3</th>\n",
       "      <td>62.83</td>\n",
       "      <td>16.0%</td>\n",
       "    </tr>\n",
       "    <tr>\n",
       "      <th>3DS</th>\n",
       "      <td>34.06</td>\n",
       "      <td>8.7%</td>\n",
       "    </tr>\n",
       "  </tbody>\n",
       "</table>\n",
       "</div>"
      ],
      "text/plain": [
       "          na_sales  share\n",
       "platform                 \n",
       "PS4          87.25  22.2%\n",
       "X360         80.97  20.6%\n",
       "XOne         78.85  20.1%\n",
       "PS3          62.83  16.0%\n",
       "3DS          34.06   8.7%"
      ]
     },
     "metadata": {},
     "output_type": "display_data"
    },
    {
     "data": {
      "text/html": [
       "<div>\n",
       "<style scoped>\n",
       "    .dataframe tbody tr th:only-of-type {\n",
       "        vertical-align: middle;\n",
       "    }\n",
       "\n",
       "    .dataframe tbody tr th {\n",
       "        vertical-align: top;\n",
       "    }\n",
       "\n",
       "    .dataframe thead th {\n",
       "        text-align: right;\n",
       "    }\n",
       "</style>\n",
       "<table border=\"1\" class=\"dataframe\">\n",
       "  <thead>\n",
       "    <tr style=\"text-align: right;\">\n",
       "      <th></th>\n",
       "      <th>eu_sales</th>\n",
       "      <th>share</th>\n",
       "    </tr>\n",
       "    <tr>\n",
       "      <th>platform</th>\n",
       "      <th></th>\n",
       "      <th></th>\n",
       "    </tr>\n",
       "  </thead>\n",
       "  <tbody>\n",
       "    <tr>\n",
       "      <th>PS4</th>\n",
       "      <td>109.31</td>\n",
       "      <td>32.1%</td>\n",
       "    </tr>\n",
       "    <tr>\n",
       "      <th>PS3</th>\n",
       "      <td>66.55</td>\n",
       "      <td>19.5%</td>\n",
       "    </tr>\n",
       "    <tr>\n",
       "      <th>XOne</th>\n",
       "      <td>41.96</td>\n",
       "      <td>12.3%</td>\n",
       "    </tr>\n",
       "    <tr>\n",
       "      <th>X360</th>\n",
       "      <td>41.81</td>\n",
       "      <td>12.3%</td>\n",
       "    </tr>\n",
       "    <tr>\n",
       "      <th>3DS</th>\n",
       "      <td>28.63</td>\n",
       "      <td>8.4%</td>\n",
       "    </tr>\n",
       "  </tbody>\n",
       "</table>\n",
       "</div>"
      ],
      "text/plain": [
       "          eu_sales  share\n",
       "platform                 \n",
       "PS4         109.31  32.1%\n",
       "PS3          66.55  19.5%\n",
       "XOne         41.96  12.3%\n",
       "X360         41.81  12.3%\n",
       "3DS          28.63   8.4%"
      ]
     },
     "metadata": {},
     "output_type": "display_data"
    },
    {
     "data": {
      "text/html": [
       "<div>\n",
       "<style scoped>\n",
       "    .dataframe tbody tr th:only-of-type {\n",
       "        vertical-align: middle;\n",
       "    }\n",
       "\n",
       "    .dataframe tbody tr th {\n",
       "        vertical-align: top;\n",
       "    }\n",
       "\n",
       "    .dataframe thead th {\n",
       "        text-align: right;\n",
       "    }\n",
       "</style>\n",
       "<table border=\"1\" class=\"dataframe\">\n",
       "  <thead>\n",
       "    <tr style=\"text-align: right;\">\n",
       "      <th></th>\n",
       "      <th>jp_sales</th>\n",
       "      <th>share</th>\n",
       "    </tr>\n",
       "    <tr>\n",
       "      <th>platform</th>\n",
       "      <th></th>\n",
       "      <th></th>\n",
       "    </tr>\n",
       "  </thead>\n",
       "  <tbody>\n",
       "    <tr>\n",
       "      <th>3DS</th>\n",
       "      <td>59.78</td>\n",
       "      <td>49.2%</td>\n",
       "    </tr>\n",
       "    <tr>\n",
       "      <th>PS3</th>\n",
       "      <td>22.05</td>\n",
       "      <td>18.2%</td>\n",
       "    </tr>\n",
       "    <tr>\n",
       "      <th>PSV</th>\n",
       "      <td>15.03</td>\n",
       "      <td>12.4%</td>\n",
       "    </tr>\n",
       "    <tr>\n",
       "      <th>PS4</th>\n",
       "      <td>10.22</td>\n",
       "      <td>8.4%</td>\n",
       "    </tr>\n",
       "    <tr>\n",
       "      <th>WiiU</th>\n",
       "      <td>10.21</td>\n",
       "      <td>8.4%</td>\n",
       "    </tr>\n",
       "  </tbody>\n",
       "</table>\n",
       "</div>"
      ],
      "text/plain": [
       "          jp_sales  share\n",
       "platform                 \n",
       "3DS          59.78  49.2%\n",
       "PS3          22.05  18.2%\n",
       "PSV          15.03  12.4%\n",
       "PS4          10.22   8.4%\n",
       "WiiU         10.21   8.4%"
      ]
     },
     "metadata": {},
     "output_type": "display_data"
    }
   ],
   "source": [
    "for region_sales in ['na_sales', 'eu_sales', 'jp_sales']:\n",
    "    sum_of_region_sales = df[region_sales].sum()\n",
    "    temp = (df\n",
    "          .pivot_table(index='platform', values=region_sales, aggfunc='sum')\n",
    "          .sort_values(by=region_sales, ascending=False)\n",
    "          .head(5))\n",
    "    temp['share'] = (temp[region_sales]/sum_of_region_sales).map('{:.1%}'.format)\n",
    "    display(temp)"
   ]
  },
  {
   "cell_type": "markdown",
   "metadata": {},
   "source": [
    "Мы видим, что за 2013-2015 гг. наиболее популярные платформы \n",
    "* в Северной Америке - X360, PS3, PS4, XOne, 3DS\n",
    "* в Европе - PS4, PS3, X360, XOne, 3DS\n",
    "* в Японии - 3DS, PS3, PSV, WiiU, PSP\n",
    "\n",
    "Таким образом, мы можем сказать что самые популярные платформы различаются по регионам - X360 является наиболее популярной в Северной Америке, на третьем месте по популярности в Европе и не входит в топ платформ в Японии. \n",
    "\n",
    "Также мы можем отметить, что в Европе и Северной Америки состав популярных платформ одинаков (но расположение их в топе различается), но он значительно отличается от Японии, где популярны платформы PSV, WiiU, PSP, которые не входят в топ в других регионах, а наиболее популярной является платформа 3DS, которая находится только на 5 месте в NA и EU. Вероятно, 3DS является самой популярной в Японии, т.к. была произведена в этой стране.\n",
    "\n",
    "Также изучив доли по продажам мы можем сказать, что в Европе доля продаж игр на топ-1 и топ-2 (PS4 и PS3) платформы примерно одинаковы, в Северной Америке доля продаж игр на первую по популярности платформу (X360) почти на 7% больше, чем на вторую по популярности (PS3), а в Японии продажи игр на самую популярную платформу (3DS) более, чем в два раза превышают продажи на платформу топ-2 (PS3)."
   ]
  },
  {
   "cell_type": "markdown",
   "metadata": {},
   "source": [
    "### 4.2. Самые популярные жанры по регионам"
   ]
  },
  {
   "cell_type": "markdown",
   "metadata": {},
   "source": [
    "Также определим самые популярные жанры (топ-5) по регионам."
   ]
  },
  {
   "cell_type": "code",
   "execution_count": 55,
   "metadata": {},
   "outputs": [
    {
     "data": {
      "text/html": [
       "<div>\n",
       "<style scoped>\n",
       "    .dataframe tbody tr th:only-of-type {\n",
       "        vertical-align: middle;\n",
       "    }\n",
       "\n",
       "    .dataframe tbody tr th {\n",
       "        vertical-align: top;\n",
       "    }\n",
       "\n",
       "    .dataframe thead th {\n",
       "        text-align: right;\n",
       "    }\n",
       "</style>\n",
       "<table border=\"1\" class=\"dataframe\">\n",
       "  <thead>\n",
       "    <tr style=\"text-align: right;\">\n",
       "      <th></th>\n",
       "      <th>na_sales</th>\n",
       "      <th>share</th>\n",
       "    </tr>\n",
       "    <tr>\n",
       "      <th>genre</th>\n",
       "      <th></th>\n",
       "      <th></th>\n",
       "    </tr>\n",
       "  </thead>\n",
       "  <tbody>\n",
       "    <tr>\n",
       "      <th>Action</th>\n",
       "      <td>116.76</td>\n",
       "      <td>29.7%</td>\n",
       "    </tr>\n",
       "    <tr>\n",
       "      <th>Shooter</th>\n",
       "      <td>93.50</td>\n",
       "      <td>23.8%</td>\n",
       "    </tr>\n",
       "    <tr>\n",
       "      <th>Sports</th>\n",
       "      <td>57.73</td>\n",
       "      <td>14.7%</td>\n",
       "    </tr>\n",
       "    <tr>\n",
       "      <th>Role-Playing</th>\n",
       "      <td>40.51</td>\n",
       "      <td>10.3%</td>\n",
       "    </tr>\n",
       "    <tr>\n",
       "      <th>Misc</th>\n",
       "      <td>26.73</td>\n",
       "      <td>6.8%</td>\n",
       "    </tr>\n",
       "  </tbody>\n",
       "</table>\n",
       "</div>"
      ],
      "text/plain": [
       "              na_sales  share\n",
       "genre                        \n",
       "Action          116.76  29.7%\n",
       "Shooter          93.50  23.8%\n",
       "Sports           57.73  14.7%\n",
       "Role-Playing     40.51  10.3%\n",
       "Misc             26.73   6.8%"
      ]
     },
     "metadata": {},
     "output_type": "display_data"
    },
    {
     "data": {
      "text/html": [
       "<div>\n",
       "<style scoped>\n",
       "    .dataframe tbody tr th:only-of-type {\n",
       "        vertical-align: middle;\n",
       "    }\n",
       "\n",
       "    .dataframe tbody tr th {\n",
       "        vertical-align: top;\n",
       "    }\n",
       "\n",
       "    .dataframe thead th {\n",
       "        text-align: right;\n",
       "    }\n",
       "</style>\n",
       "<table border=\"1\" class=\"dataframe\">\n",
       "  <thead>\n",
       "    <tr style=\"text-align: right;\">\n",
       "      <th></th>\n",
       "      <th>eu_sales</th>\n",
       "      <th>share</th>\n",
       "    </tr>\n",
       "    <tr>\n",
       "      <th>genre</th>\n",
       "      <th></th>\n",
       "      <th></th>\n",
       "    </tr>\n",
       "  </thead>\n",
       "  <tbody>\n",
       "    <tr>\n",
       "      <th>Action</th>\n",
       "      <td>107.45</td>\n",
       "      <td>31.5%</td>\n",
       "    </tr>\n",
       "    <tr>\n",
       "      <th>Shooter</th>\n",
       "      <td>71.96</td>\n",
       "      <td>21.1%</td>\n",
       "    </tr>\n",
       "    <tr>\n",
       "      <th>Sports</th>\n",
       "      <td>48.51</td>\n",
       "      <td>14.2%</td>\n",
       "    </tr>\n",
       "    <tr>\n",
       "      <th>Role-Playing</th>\n",
       "      <td>32.69</td>\n",
       "      <td>9.6%</td>\n",
       "    </tr>\n",
       "    <tr>\n",
       "      <th>Misc</th>\n",
       "      <td>19.38</td>\n",
       "      <td>5.7%</td>\n",
       "    </tr>\n",
       "  </tbody>\n",
       "</table>\n",
       "</div>"
      ],
      "text/plain": [
       "              eu_sales  share\n",
       "genre                        \n",
       "Action          107.45  31.5%\n",
       "Shooter          71.96  21.1%\n",
       "Sports           48.51  14.2%\n",
       "Role-Playing     32.69   9.6%\n",
       "Misc             19.38   5.7%"
      ]
     },
     "metadata": {},
     "output_type": "display_data"
    },
    {
     "data": {
      "text/html": [
       "<div>\n",
       "<style scoped>\n",
       "    .dataframe tbody tr th:only-of-type {\n",
       "        vertical-align: middle;\n",
       "    }\n",
       "\n",
       "    .dataframe tbody tr th {\n",
       "        vertical-align: top;\n",
       "    }\n",
       "\n",
       "    .dataframe thead th {\n",
       "        text-align: right;\n",
       "    }\n",
       "</style>\n",
       "<table border=\"1\" class=\"dataframe\">\n",
       "  <thead>\n",
       "    <tr style=\"text-align: right;\">\n",
       "      <th></th>\n",
       "      <th>jp_sales</th>\n",
       "      <th>share</th>\n",
       "    </tr>\n",
       "    <tr>\n",
       "      <th>genre</th>\n",
       "      <th></th>\n",
       "      <th></th>\n",
       "    </tr>\n",
       "  </thead>\n",
       "  <tbody>\n",
       "    <tr>\n",
       "      <th>Role-Playing</th>\n",
       "      <td>44.43</td>\n",
       "      <td>36.6%</td>\n",
       "    </tr>\n",
       "    <tr>\n",
       "      <th>Action</th>\n",
       "      <td>33.42</td>\n",
       "      <td>27.5%</td>\n",
       "    </tr>\n",
       "    <tr>\n",
       "      <th>Misc</th>\n",
       "      <td>8.16</td>\n",
       "      <td>6.7%</td>\n",
       "    </tr>\n",
       "    <tr>\n",
       "      <th>Fighting</th>\n",
       "      <td>6.90</td>\n",
       "      <td>5.7%</td>\n",
       "    </tr>\n",
       "    <tr>\n",
       "      <th>Shooter</th>\n",
       "      <td>5.55</td>\n",
       "      <td>4.6%</td>\n",
       "    </tr>\n",
       "  </tbody>\n",
       "</table>\n",
       "</div>"
      ],
      "text/plain": [
       "              jp_sales  share\n",
       "genre                        \n",
       "Role-Playing     44.43  36.6%\n",
       "Action           33.42  27.5%\n",
       "Misc              8.16   6.7%\n",
       "Fighting          6.90   5.7%\n",
       "Shooter           5.55   4.6%"
      ]
     },
     "metadata": {},
     "output_type": "display_data"
    }
   ],
   "source": [
    "for region_sales in ['na_sales', 'eu_sales', 'jp_sales']:\n",
    "    sum_of_region_sales = df[region_sales].sum()\n",
    "    temp = (df\n",
    "          .pivot_table(index='genre', values=region_sales, aggfunc='sum')\n",
    "          .sort_values(by=region_sales, ascending=False)\n",
    "          .head(5)\n",
    "         )\n",
    "    temp['share'] = (temp[region_sales]/sum_of_region_sales).map('{:.1%}'.format)\n",
    "    display(temp)"
   ]
  },
  {
   "cell_type": "markdown",
   "metadata": {},
   "source": [
    "За 2013-2015 гг. наиболее популярные жанры:\n",
    "* В Северной Америке - action, shooter, sports, role-playing, misc\n",
    "* В Европе - action, shooter, sports, role-playing, misc\n",
    "* В Японии - role-playing, action, misc, simulation, fighting\n",
    "\n",
    "Таким образом, как и в случае с платформами, состав наиболее популярных жанров одинаков в Европе и Северной Америке (топ-5 популярных жанров - экшн, шутеры, спорт, ролевые игры и misc**) и значительно отличается от Японии, где в числе наиболее популярных игр, помимо тех, что популярны в EU и NA, есть симуляции и бои, которые не входят в топ в других регионах.\n",
    "\n",
    "** misc - игры в категории skill-and-action "
   ]
  },
  {
   "cell_type": "markdown",
   "metadata": {},
   "source": [
    "Рассмотрим, почему самые популярные жанры в Японии различаются от других регионов: изучим, какие 10 игр являются самыми продаваемыми в этой стране."
   ]
  },
  {
   "cell_type": "code",
   "execution_count": 56,
   "metadata": {},
   "outputs": [
    {
     "data": {
      "text/html": [
       "<div>\n",
       "<style scoped>\n",
       "    .dataframe tbody tr th:only-of-type {\n",
       "        vertical-align: middle;\n",
       "    }\n",
       "\n",
       "    .dataframe tbody tr th {\n",
       "        vertical-align: top;\n",
       "    }\n",
       "\n",
       "    .dataframe thead th {\n",
       "        text-align: right;\n",
       "    }\n",
       "</style>\n",
       "<table border=\"1\" class=\"dataframe\">\n",
       "  <thead>\n",
       "    <tr style=\"text-align: right;\">\n",
       "      <th></th>\n",
       "      <th></th>\n",
       "      <th></th>\n",
       "      <th>jp_sales</th>\n",
       "    </tr>\n",
       "    <tr>\n",
       "      <th>name</th>\n",
       "      <th>genre</th>\n",
       "      <th>platform</th>\n",
       "      <th></th>\n",
       "    </tr>\n",
       "  </thead>\n",
       "  <tbody>\n",
       "    <tr>\n",
       "      <th>Pokemon X/Pokemon Y</th>\n",
       "      <th>Role-Playing</th>\n",
       "      <th>3DS</th>\n",
       "      <td>4.35</td>\n",
       "    </tr>\n",
       "    <tr>\n",
       "      <th>Monster Hunter 4</th>\n",
       "      <th>Role-Playing</th>\n",
       "      <th>3DS</th>\n",
       "      <td>3.44</td>\n",
       "    </tr>\n",
       "    <tr>\n",
       "      <th>Yokai Watch 2 Ganso/Honke</th>\n",
       "      <th>Role-Playing</th>\n",
       "      <th>3DS</th>\n",
       "      <td>3.18</td>\n",
       "    </tr>\n",
       "    <tr>\n",
       "      <th>Pokemon Omega Ruby/Pokemon Alpha Sapphire</th>\n",
       "      <th>Role-Playing</th>\n",
       "      <th>3DS</th>\n",
       "      <td>3.10</td>\n",
       "    </tr>\n",
       "    <tr>\n",
       "      <th>Monster Hunter X</th>\n",
       "      <th>Action</th>\n",
       "      <th>3DS</th>\n",
       "      <td>2.79</td>\n",
       "    </tr>\n",
       "    <tr>\n",
       "      <th>Yokai Watch 2 Shinuchi</th>\n",
       "      <th>Role-Playing</th>\n",
       "      <th>3DS</th>\n",
       "      <td>2.68</td>\n",
       "    </tr>\n",
       "    <tr>\n",
       "      <th>Monster Hunter 4 Ultimate</th>\n",
       "      <th>Role-Playing</th>\n",
       "      <th>3DS</th>\n",
       "      <td>2.62</td>\n",
       "    </tr>\n",
       "    <tr>\n",
       "      <th>Super Smash Bros. for Wii U and 3DS</th>\n",
       "      <th>Fighting</th>\n",
       "      <th>3DS</th>\n",
       "      <td>2.43</td>\n",
       "    </tr>\n",
       "    <tr>\n",
       "      <th>Yokai Watch Busters</th>\n",
       "      <th>Action</th>\n",
       "      <th>3DS</th>\n",
       "      <td>2.29</td>\n",
       "    </tr>\n",
       "    <tr>\n",
       "      <th>Tomodachi Life</th>\n",
       "      <th>Simulation</th>\n",
       "      <th>3DS</th>\n",
       "      <td>1.90</td>\n",
       "    </tr>\n",
       "  </tbody>\n",
       "</table>\n",
       "</div>"
      ],
      "text/plain": [
       "                                                                 jp_sales\n",
       "name                                      genre        platform          \n",
       "Pokemon X/Pokemon Y                       Role-Playing 3DS           4.35\n",
       "Monster Hunter 4                          Role-Playing 3DS           3.44\n",
       "Yokai Watch 2 Ganso/Honke                 Role-Playing 3DS           3.18\n",
       "Pokemon Omega Ruby/Pokemon Alpha Sapphire Role-Playing 3DS           3.10\n",
       "Monster Hunter X                          Action       3DS           2.79\n",
       "Yokai Watch 2 Shinuchi                    Role-Playing 3DS           2.68\n",
       "Monster Hunter 4 Ultimate                 Role-Playing 3DS           2.62\n",
       "Super Smash Bros. for Wii U and 3DS       Fighting     3DS           2.43\n",
       "Yokai Watch Busters                       Action       3DS           2.29\n",
       "Tomodachi Life                            Simulation   3DS           1.90"
      ]
     },
     "execution_count": 56,
     "metadata": {},
     "output_type": "execute_result"
    }
   ],
   "source": [
    "(df\n",
    " .pivot_table(index=('name', 'genre', 'platform'), values='jp_sales', aggfunc='sum')\n",
    " .sort_values(by='jp_sales', ascending=False)\n",
    " .head(10)\n",
    ")"
   ]
  },
  {
   "cell_type": "markdown",
   "metadata": {},
   "source": [
    "Мы видим, что наиболее продаваемые игры в Японии в жанре ролевых игр - Animal Crossing, Pokemon, Monster Hunter, Yokai Watch и т.д. - игры, разработанные в Японии и, вероятно, учитывающие японский менталитет, поэтому они популярны у себя на родине. Кроме того, большинство, игр выпускаются на платформе 3DS, самой популярной в Японии. Можно предположить, что эти игры популярны, потому что популярна платформа Nintendo или, наоборот, Nintendo популярно, потому что жители Японии хотят поиграть в игры, которые выпускаются на данной платформе. Мне кажется наиболее вероятным второй вариант, т.к. если бы такие популярные у японцев игры не выпускались на Nintendo, то и платформа была бы не такой популярной."
   ]
  },
  {
   "cell_type": "markdown",
   "metadata": {},
   "source": [
    "### 4.3. Определение влияния рейтинга ESRB на продажи по регионам."
   ]
  },
  {
   "cell_type": "markdown",
   "metadata": {},
   "source": [
    "Определим, влияет ли рейтинг ESRB на продажи в отдельном регионе."
   ]
  },
  {
   "cell_type": "code",
   "execution_count": 57,
   "metadata": {},
   "outputs": [
    {
     "data": {
      "text/html": [
       "<div>\n",
       "<style scoped>\n",
       "    .dataframe tbody tr th:only-of-type {\n",
       "        vertical-align: middle;\n",
       "    }\n",
       "\n",
       "    .dataframe tbody tr th {\n",
       "        vertical-align: top;\n",
       "    }\n",
       "\n",
       "    .dataframe thead th {\n",
       "        text-align: right;\n",
       "    }\n",
       "</style>\n",
       "<table border=\"1\" class=\"dataframe\">\n",
       "  <thead>\n",
       "    <tr style=\"text-align: right;\">\n",
       "      <th></th>\n",
       "      <th>na_sales</th>\n",
       "      <th>share</th>\n",
       "    </tr>\n",
       "    <tr>\n",
       "      <th>esrb_age_rating</th>\n",
       "      <th></th>\n",
       "      <th></th>\n",
       "    </tr>\n",
       "  </thead>\n",
       "  <tbody>\n",
       "    <tr>\n",
       "      <th>M</th>\n",
       "      <td>149.54</td>\n",
       "      <td>38.1%</td>\n",
       "    </tr>\n",
       "    <tr>\n",
       "      <th>E</th>\n",
       "      <td>71.08</td>\n",
       "      <td>18.1%</td>\n",
       "    </tr>\n",
       "    <tr>\n",
       "      <th>E10+</th>\n",
       "      <td>50.43</td>\n",
       "      <td>12.8%</td>\n",
       "    </tr>\n",
       "    <tr>\n",
       "      <th>T</th>\n",
       "      <td>40.84</td>\n",
       "      <td>10.4%</td>\n",
       "    </tr>\n",
       "  </tbody>\n",
       "</table>\n",
       "</div>"
      ],
      "text/plain": [
       "                 na_sales  share\n",
       "esrb_age_rating                 \n",
       "M                  149.54  38.1%\n",
       "E                   71.08  18.1%\n",
       "E10+                50.43  12.8%\n",
       "T                   40.84  10.4%"
      ]
     },
     "metadata": {},
     "output_type": "display_data"
    },
    {
     "data": {
      "text/html": [
       "<div>\n",
       "<style scoped>\n",
       "    .dataframe tbody tr th:only-of-type {\n",
       "        vertical-align: middle;\n",
       "    }\n",
       "\n",
       "    .dataframe tbody tr th {\n",
       "        vertical-align: top;\n",
       "    }\n",
       "\n",
       "    .dataframe thead th {\n",
       "        text-align: right;\n",
       "    }\n",
       "</style>\n",
       "<table border=\"1\" class=\"dataframe\">\n",
       "  <thead>\n",
       "    <tr style=\"text-align: right;\">\n",
       "      <th></th>\n",
       "      <th>eu_sales</th>\n",
       "      <th>share</th>\n",
       "    </tr>\n",
       "    <tr>\n",
       "      <th>esrb_age_rating</th>\n",
       "      <th></th>\n",
       "      <th></th>\n",
       "    </tr>\n",
       "  </thead>\n",
       "  <tbody>\n",
       "    <tr>\n",
       "      <th>M</th>\n",
       "      <td>128.78</td>\n",
       "      <td>37.8%</td>\n",
       "    </tr>\n",
       "    <tr>\n",
       "      <th>E</th>\n",
       "      <td>69.75</td>\n",
       "      <td>20.5%</td>\n",
       "    </tr>\n",
       "    <tr>\n",
       "      <th>E10+</th>\n",
       "      <td>38.88</td>\n",
       "      <td>11.4%</td>\n",
       "    </tr>\n",
       "    <tr>\n",
       "      <th>T</th>\n",
       "      <td>32.16</td>\n",
       "      <td>9.4%</td>\n",
       "    </tr>\n",
       "  </tbody>\n",
       "</table>\n",
       "</div>"
      ],
      "text/plain": [
       "                 eu_sales  share\n",
       "esrb_age_rating                 \n",
       "M                  128.78  37.8%\n",
       "E                   69.75  20.5%\n",
       "E10+                38.88  11.4%\n",
       "T                   32.16   9.4%"
      ]
     },
     "metadata": {},
     "output_type": "display_data"
    },
    {
     "data": {
      "text/html": [
       "<div>\n",
       "<style scoped>\n",
       "    .dataframe tbody tr th:only-of-type {\n",
       "        vertical-align: middle;\n",
       "    }\n",
       "\n",
       "    .dataframe tbody tr th {\n",
       "        vertical-align: top;\n",
       "    }\n",
       "\n",
       "    .dataframe thead th {\n",
       "        text-align: right;\n",
       "    }\n",
       "</style>\n",
       "<table border=\"1\" class=\"dataframe\">\n",
       "  <thead>\n",
       "    <tr style=\"text-align: right;\">\n",
       "      <th></th>\n",
       "      <th>jp_sales</th>\n",
       "      <th>share</th>\n",
       "    </tr>\n",
       "    <tr>\n",
       "      <th>esrb_age_rating</th>\n",
       "      <th></th>\n",
       "      <th></th>\n",
       "    </tr>\n",
       "  </thead>\n",
       "  <tbody>\n",
       "    <tr>\n",
       "      <th>T</th>\n",
       "      <td>18.32</td>\n",
       "      <td>15.1%</td>\n",
       "    </tr>\n",
       "    <tr>\n",
       "      <th>E</th>\n",
       "      <td>14.07</td>\n",
       "      <td>11.6%</td>\n",
       "    </tr>\n",
       "    <tr>\n",
       "      <th>M</th>\n",
       "      <td>12.91</td>\n",
       "      <td>10.6%</td>\n",
       "    </tr>\n",
       "    <tr>\n",
       "      <th>E10+</th>\n",
       "      <td>5.44</td>\n",
       "      <td>4.5%</td>\n",
       "    </tr>\n",
       "  </tbody>\n",
       "</table>\n",
       "</div>"
      ],
      "text/plain": [
       "                 jp_sales  share\n",
       "esrb_age_rating                 \n",
       "T                   18.32  15.1%\n",
       "E                   14.07  11.6%\n",
       "M                   12.91  10.6%\n",
       "E10+                 5.44   4.5%"
      ]
     },
     "metadata": {},
     "output_type": "display_data"
    }
   ],
   "source": [
    "for region_sales in ['na_sales', 'eu_sales', 'jp_sales']:\n",
    "    sum_of_region_sales = df[region_sales].sum()\n",
    "    temp = (df\n",
    "          .query('esrb_age_rating != \"undefined\"')\n",
    "          .pivot_table(index='esrb_age_rating', values=region_sales, aggfunc='sum')\n",
    "          .sort_values(by=region_sales, ascending=False)\n",
    "         )\n",
    "    temp['share'] = (temp[region_sales]/sum_of_region_sales).map('{:.1%}'.format)\n",
    "    display(temp)"
   ]
  },
  {
   "cell_type": "markdown",
   "metadata": {},
   "source": [
    "Наибольший объем продаж в Северной Америке и Европе у игр в категории M - mature, затем идут игры в категории E - everyone, E10+ - everyone 10 and older и T - teen. В Японии же другая ситуация - наиболее хорошо продаваемы игры в категории E - everyone, затем T - teen, только после них M - mature и E10+ - everyone 10 and older.\n",
    "\n",
    "Возможно, основные пользователи игр в Японии - молодые жители страны, поэтому и наиболее продаваемы игры с рейтингом E и T, однако проверка данного предположения требует дополнительной информации о возрасте игроков.\n"
   ]
  },
  {
   "cell_type": "markdown",
   "metadata": {},
   "source": [
    "### Вывод\n",
    "\n",
    "На данном этапе мы выяснили, что топ самых популярных платформ и жанров примерно одинаков в Европе и Америке, но значительно отличается от Японии. Самая популярная платформа в Японии - Nintendo 3DS, а самый популярный жанр - Role-Playing, в отличие от Северной Америки и Европы, где самая популярная платформа - X360 и PS4 соответственно, а самый популярный жанр - Action. Изучив самые продаваемые в Японии игры и прочитав о них информацию в интернете, мы выяснили, что это игры, разработанные в самой Японии, возможно этим и обсулавливается их популярность и популярность Nintendo, на которой они выпускаются.\n",
    "\n",
    "Также мы изучили продажи игр в зависимости от возрастного рейтинга. Здесь также ситуация в Северной Америке и Европе, где наиболее продаваемы игры рейтинга M и E (mature, everyone), значительно отличается от Японии, в которой наибольшая доля продаж у игр с рейтингом E и T (everyone, teen)."
   ]
  },
  {
   "cell_type": "markdown",
   "metadata": {},
   "source": [
    "## 6. Общий вывод <a id=\"6\"></a>"
   ]
  },
  {
   "cell_type": "markdown",
   "metadata": {},
   "source": [
    "Таким образом, мы изучили данные по продажам игр на различных платформах с 1991 по 2016 гг., но в ходе работы ограничили рассматриваемый период до 2013-2015 гг., поэтому последующие выводы сделаны на основе данных за указанный промежуток времени.\n",
    "\n",
    "В ходе исследования мы сделали основные выводы, которые будут полезны для планирования рекламных кампаний в 2017 г.\n",
    "\n",
    "1) Наиболее прибыльными и растущими платформами на момент исследования являются платформы Xbox One и PS4\n",
    "\n",
    "2) Наблюдается положительная корреляция между оценками игр критиками и продажами игр, то есть, чем выше оценки игры критиками, тем вероятнее у игры будут большие продажи\n",
    "\n",
    "3) Наиболее прибыльными жанрами за последние несколько лет являются игры в жанрах action, shooter, sport\n",
    "\n",
    "4) Продажи игр значительно различаются по регионам: в Северной Америке и Европе наиболее популярны игры в жанрах action, shooter, sport, а в Японии - role-playing и action. Также в Японии наибольшие продажи за последние годы приходятся на платформу Nintendo 3DS, в отличие от Северной Америки и Европы."
   ]
  }
 ],
 "metadata": {
  "kernelspec": {
   "display_name": "Python 3",
   "language": "python",
   "name": "python3"
  },
  "language_info": {
   "codemirror_mode": {
    "name": "ipython",
    "version": 3
   },
   "file_extension": ".py",
   "mimetype": "text/x-python",
   "name": "python",
   "nbconvert_exporter": "python",
   "pygments_lexer": "ipython3",
   "version": "3.8.5"
  },
  "toc": {
   "base_numbering": 1,
   "nav_menu": {},
   "number_sections": true,
   "sideBar": true,
   "skip_h1_title": true,
   "title_cell": "Table of Contents",
   "title_sidebar": "Contents",
   "toc_cell": false,
   "toc_position": {},
   "toc_section_display": true,
   "toc_window_display": false
  }
 },
 "nbformat": 4,
 "nbformat_minor": 4
}
